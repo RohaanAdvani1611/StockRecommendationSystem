{
  "nbformat": 4,
  "nbformat_minor": 0,
  "metadata": {
    "colab": {
      "name": "Stocks.ipynb",
      "provenance": []
    },
    "kernelspec": {
      "name": "python3",
      "display_name": "Python 3"
    },
    "language_info": {
      "name": "python"
    }
  },
  "cells": [
    {
      "cell_type": "markdown",
      "metadata": {
        "id": "kAH9bXoZ3mPw"
      },
      "source": [
        "# Semester Project : Stock Recomendation using AI - STOCKBOT"
      ]
    },
    {
      "cell_type": "markdown",
      "metadata": {
        "id": "C5pgKSTYDAsL"
      },
      "source": [
        "## 1. Import Necessary Libraries :"
      ]
    },
    {
      "cell_type": "code",
      "metadata": {
        "id": "fNokUEkQKaXv"
      },
      "source": [
        "import math\n",
        "import pandas_datareader as web\n",
        "import numpy as np\n",
        "import pandas as pd\n",
        "from sklearn.preprocessing import MinMaxScaler\n",
        "from keras.models import Sequential\n",
        "from keras.layers import Dense, LSTM\n",
        "import matplotlib.pyplot as plt\n",
        "plt.style.use('fivethirtyeight')"
      ],
      "execution_count": null,
      "outputs": []
    },
    {
      "cell_type": "code",
      "metadata": {
        "colab": {
          "base_uri": "https://localhost:8080/"
        },
        "id": "_rJALJ5vO56S",
        "outputId": "37631d3a-fc11-474d-dda4-c42bffb2561b"
      },
      "source": [
        "!pip install --upgrade pandas\n",
        "!pip install --upgrade pandas-datareader"
      ],
      "execution_count": null,
      "outputs": [
        {
          "output_type": "stream",
          "name": "stdout",
          "text": [
            "Requirement already satisfied: pandas in /usr/local/lib/python3.7/dist-packages (1.3.4)\n",
            "Requirement already satisfied: pytz>=2017.3 in /usr/local/lib/python3.7/dist-packages (from pandas) (2018.9)\n",
            "Requirement already satisfied: numpy>=1.17.3 in /usr/local/lib/python3.7/dist-packages (from pandas) (1.19.5)\n",
            "Requirement already satisfied: python-dateutil>=2.7.3 in /usr/local/lib/python3.7/dist-packages (from pandas) (2.8.2)\n",
            "Requirement already satisfied: six>=1.5 in /usr/local/lib/python3.7/dist-packages (from python-dateutil>=2.7.3->pandas) (1.15.0)\n",
            "Requirement already satisfied: pandas-datareader in /usr/local/lib/python3.7/dist-packages (0.10.0)\n",
            "Requirement already satisfied: pandas>=0.23 in /usr/local/lib/python3.7/dist-packages (from pandas-datareader) (1.3.4)\n",
            "Requirement already satisfied: lxml in /usr/local/lib/python3.7/dist-packages (from pandas-datareader) (4.2.6)\n",
            "Requirement already satisfied: requests>=2.19.0 in /usr/local/lib/python3.7/dist-packages (from pandas-datareader) (2.23.0)\n",
            "Requirement already satisfied: pytz>=2017.3 in /usr/local/lib/python3.7/dist-packages (from pandas>=0.23->pandas-datareader) (2018.9)\n",
            "Requirement already satisfied: numpy>=1.17.3 in /usr/local/lib/python3.7/dist-packages (from pandas>=0.23->pandas-datareader) (1.19.5)\n",
            "Requirement already satisfied: python-dateutil>=2.7.3 in /usr/local/lib/python3.7/dist-packages (from pandas>=0.23->pandas-datareader) (2.8.2)\n",
            "Requirement already satisfied: six>=1.5 in /usr/local/lib/python3.7/dist-packages (from python-dateutil>=2.7.3->pandas>=0.23->pandas-datareader) (1.15.0)\n",
            "Requirement already satisfied: chardet<4,>=3.0.2 in /usr/local/lib/python3.7/dist-packages (from requests>=2.19.0->pandas-datareader) (3.0.4)\n",
            "Requirement already satisfied: urllib3!=1.25.0,!=1.25.1,<1.26,>=1.21.1 in /usr/local/lib/python3.7/dist-packages (from requests>=2.19.0->pandas-datareader) (1.24.3)\n",
            "Requirement already satisfied: certifi>=2017.4.17 in /usr/local/lib/python3.7/dist-packages (from requests>=2.19.0->pandas-datareader) (2021.10.8)\n",
            "Requirement already satisfied: idna<3,>=2.5 in /usr/local/lib/python3.7/dist-packages (from requests>=2.19.0->pandas-datareader) (2.10)\n"
          ]
        }
      ]
    },
    {
      "cell_type": "markdown",
      "metadata": {
        "id": "7BWgWygvDPib"
      },
      "source": [
        "## 2. Import Datasets from Yahoo Finance :"
      ]
    },
    {
      "cell_type": "markdown",
      "metadata": {
        "id": "sgTsKAL2DeUh"
      },
      "source": [
        "Let us use Apple, Amazon, Facebook, Google and Netflix stock to demonstrate the working of stock bot with given start and end date range."
      ]
    },
    {
      "cell_type": "code",
      "metadata": {
        "colab": {
          "base_uri": "https://localhost:8080/",
          "height": 450
        },
        "id": "A9pQpN_zMSF6",
        "outputId": "b5e912da-4322-48b6-8f6f-e035be789138"
      },
      "source": [
        "df_aapl = web.DataReader('AAPL', data_source='yahoo', start='2012-01-03', end='2021-11-14')\n",
        "df_aapl"
      ],
      "execution_count": null,
      "outputs": [
        {
          "output_type": "execute_result",
          "data": {
            "text/html": [
              "<div>\n",
              "<style scoped>\n",
              "    .dataframe tbody tr th:only-of-type {\n",
              "        vertical-align: middle;\n",
              "    }\n",
              "\n",
              "    .dataframe tbody tr th {\n",
              "        vertical-align: top;\n",
              "    }\n",
              "\n",
              "    .dataframe thead th {\n",
              "        text-align: right;\n",
              "    }\n",
              "</style>\n",
              "<table border=\"1\" class=\"dataframe\">\n",
              "  <thead>\n",
              "    <tr style=\"text-align: right;\">\n",
              "      <th></th>\n",
              "      <th>High</th>\n",
              "      <th>Low</th>\n",
              "      <th>Open</th>\n",
              "      <th>Close</th>\n",
              "      <th>Volume</th>\n",
              "      <th>Adj Close</th>\n",
              "    </tr>\n",
              "    <tr>\n",
              "      <th>Date</th>\n",
              "      <th></th>\n",
              "      <th></th>\n",
              "      <th></th>\n",
              "      <th></th>\n",
              "      <th></th>\n",
              "      <th></th>\n",
              "    </tr>\n",
              "  </thead>\n",
              "  <tbody>\n",
              "    <tr>\n",
              "      <th>2012-01-03</th>\n",
              "      <td>14.732143</td>\n",
              "      <td>14.607143</td>\n",
              "      <td>14.621429</td>\n",
              "      <td>14.686786</td>\n",
              "      <td>302220800.0</td>\n",
              "      <td>12.591939</td>\n",
              "    </tr>\n",
              "    <tr>\n",
              "      <th>2012-01-04</th>\n",
              "      <td>14.810000</td>\n",
              "      <td>14.617143</td>\n",
              "      <td>14.642857</td>\n",
              "      <td>14.765714</td>\n",
              "      <td>260022000.0</td>\n",
              "      <td>12.659608</td>\n",
              "    </tr>\n",
              "    <tr>\n",
              "      <th>2012-01-05</th>\n",
              "      <td>14.948214</td>\n",
              "      <td>14.738214</td>\n",
              "      <td>14.819643</td>\n",
              "      <td>14.929643</td>\n",
              "      <td>271269600.0</td>\n",
              "      <td>12.800157</td>\n",
              "    </tr>\n",
              "    <tr>\n",
              "      <th>2012-01-06</th>\n",
              "      <td>15.098214</td>\n",
              "      <td>14.972143</td>\n",
              "      <td>14.991786</td>\n",
              "      <td>15.085714</td>\n",
              "      <td>318292800.0</td>\n",
              "      <td>12.933962</td>\n",
              "    </tr>\n",
              "    <tr>\n",
              "      <th>2012-01-09</th>\n",
              "      <td>15.276786</td>\n",
              "      <td>15.048214</td>\n",
              "      <td>15.196429</td>\n",
              "      <td>15.061786</td>\n",
              "      <td>394024400.0</td>\n",
              "      <td>12.913449</td>\n",
              "    </tr>\n",
              "    <tr>\n",
              "      <th>...</th>\n",
              "      <td>...</td>\n",
              "      <td>...</td>\n",
              "      <td>...</td>\n",
              "      <td>...</td>\n",
              "      <td>...</td>\n",
              "      <td>...</td>\n",
              "    </tr>\n",
              "    <tr>\n",
              "      <th>2021-11-08</th>\n",
              "      <td>151.570007</td>\n",
              "      <td>150.160004</td>\n",
              "      <td>151.410004</td>\n",
              "      <td>150.440002</td>\n",
              "      <td>55020900.0</td>\n",
              "      <td>150.440002</td>\n",
              "    </tr>\n",
              "    <tr>\n",
              "      <th>2021-11-09</th>\n",
              "      <td>151.429993</td>\n",
              "      <td>150.059998</td>\n",
              "      <td>150.199997</td>\n",
              "      <td>150.809998</td>\n",
              "      <td>56787900.0</td>\n",
              "      <td>150.809998</td>\n",
              "    </tr>\n",
              "    <tr>\n",
              "      <th>2021-11-10</th>\n",
              "      <td>150.130005</td>\n",
              "      <td>147.850006</td>\n",
              "      <td>150.020004</td>\n",
              "      <td>147.919998</td>\n",
              "      <td>65187100.0</td>\n",
              "      <td>147.919998</td>\n",
              "    </tr>\n",
              "    <tr>\n",
              "      <th>2021-11-11</th>\n",
              "      <td>149.429993</td>\n",
              "      <td>147.679993</td>\n",
              "      <td>148.960007</td>\n",
              "      <td>147.869995</td>\n",
              "      <td>41000000.0</td>\n",
              "      <td>147.869995</td>\n",
              "    </tr>\n",
              "    <tr>\n",
              "      <th>2021-11-12</th>\n",
              "      <td>150.399994</td>\n",
              "      <td>147.479996</td>\n",
              "      <td>148.429993</td>\n",
              "      <td>149.990005</td>\n",
              "      <td>63632600.0</td>\n",
              "      <td>149.990005</td>\n",
              "    </tr>\n",
              "  </tbody>\n",
              "</table>\n",
              "<p>2484 rows × 6 columns</p>\n",
              "</div>"
            ],
            "text/plain": [
              "                  High         Low  ...       Volume   Adj Close\n",
              "Date                                ...                         \n",
              "2012-01-03   14.732143   14.607143  ...  302220800.0   12.591939\n",
              "2012-01-04   14.810000   14.617143  ...  260022000.0   12.659608\n",
              "2012-01-05   14.948214   14.738214  ...  271269600.0   12.800157\n",
              "2012-01-06   15.098214   14.972143  ...  318292800.0   12.933962\n",
              "2012-01-09   15.276786   15.048214  ...  394024400.0   12.913449\n",
              "...                ...         ...  ...          ...         ...\n",
              "2021-11-08  151.570007  150.160004  ...   55020900.0  150.440002\n",
              "2021-11-09  151.429993  150.059998  ...   56787900.0  150.809998\n",
              "2021-11-10  150.130005  147.850006  ...   65187100.0  147.919998\n",
              "2021-11-11  149.429993  147.679993  ...   41000000.0  147.869995\n",
              "2021-11-12  150.399994  147.479996  ...   63632600.0  149.990005\n",
              "\n",
              "[2484 rows x 6 columns]"
            ]
          },
          "metadata": {},
          "execution_count": 3
        }
      ]
    },
    {
      "cell_type": "code",
      "metadata": {
        "colab": {
          "base_uri": "https://localhost:8080/",
          "height": 450
        },
        "id": "LzupIvy9M4_G",
        "outputId": "fc2a08d8-2abb-4cac-d5a3-325113873a8e"
      },
      "source": [
        "df_amzn = web.DataReader('AMZN', data_source='yahoo', start='2012-01-03', end='2021-11-14')\n",
        "df_amzn"
      ],
      "execution_count": null,
      "outputs": [
        {
          "output_type": "execute_result",
          "data": {
            "text/html": [
              "<div>\n",
              "<style scoped>\n",
              "    .dataframe tbody tr th:only-of-type {\n",
              "        vertical-align: middle;\n",
              "    }\n",
              "\n",
              "    .dataframe tbody tr th {\n",
              "        vertical-align: top;\n",
              "    }\n",
              "\n",
              "    .dataframe thead th {\n",
              "        text-align: right;\n",
              "    }\n",
              "</style>\n",
              "<table border=\"1\" class=\"dataframe\">\n",
              "  <thead>\n",
              "    <tr style=\"text-align: right;\">\n",
              "      <th></th>\n",
              "      <th>High</th>\n",
              "      <th>Low</th>\n",
              "      <th>Open</th>\n",
              "      <th>Close</th>\n",
              "      <th>Volume</th>\n",
              "      <th>Adj Close</th>\n",
              "    </tr>\n",
              "    <tr>\n",
              "      <th>Date</th>\n",
              "      <th></th>\n",
              "      <th></th>\n",
              "      <th></th>\n",
              "      <th></th>\n",
              "      <th></th>\n",
              "      <th></th>\n",
              "    </tr>\n",
              "  </thead>\n",
              "  <tbody>\n",
              "    <tr>\n",
              "      <th>2012-01-03</th>\n",
              "      <td>179.479996</td>\n",
              "      <td>175.550003</td>\n",
              "      <td>175.889999</td>\n",
              "      <td>179.029999</td>\n",
              "      <td>5110800</td>\n",
              "      <td>179.029999</td>\n",
              "    </tr>\n",
              "    <tr>\n",
              "      <th>2012-01-04</th>\n",
              "      <td>180.500000</td>\n",
              "      <td>176.070007</td>\n",
              "      <td>179.210007</td>\n",
              "      <td>177.509995</td>\n",
              "      <td>4205200</td>\n",
              "      <td>177.509995</td>\n",
              "    </tr>\n",
              "    <tr>\n",
              "      <th>2012-01-05</th>\n",
              "      <td>178.250000</td>\n",
              "      <td>174.050003</td>\n",
              "      <td>175.940002</td>\n",
              "      <td>177.610001</td>\n",
              "      <td>3809100</td>\n",
              "      <td>177.610001</td>\n",
              "    </tr>\n",
              "    <tr>\n",
              "      <th>2012-01-06</th>\n",
              "      <td>184.649994</td>\n",
              "      <td>177.500000</td>\n",
              "      <td>178.070007</td>\n",
              "      <td>182.610001</td>\n",
              "      <td>7008400</td>\n",
              "      <td>182.610001</td>\n",
              "    </tr>\n",
              "    <tr>\n",
              "      <th>2012-01-09</th>\n",
              "      <td>184.369995</td>\n",
              "      <td>177.000000</td>\n",
              "      <td>182.759995</td>\n",
              "      <td>178.559998</td>\n",
              "      <td>5056900</td>\n",
              "      <td>178.559998</td>\n",
              "    </tr>\n",
              "    <tr>\n",
              "      <th>...</th>\n",
              "      <td>...</td>\n",
              "      <td>...</td>\n",
              "      <td>...</td>\n",
              "      <td>...</td>\n",
              "      <td>...</td>\n",
              "      <td>...</td>\n",
              "    </tr>\n",
              "    <tr>\n",
              "      <th>2021-11-08</th>\n",
              "      <td>3579.000000</td>\n",
              "      <td>3487.860107</td>\n",
              "      <td>3523.239990</td>\n",
              "      <td>3488.979980</td>\n",
              "      <td>3074000</td>\n",
              "      <td>3488.979980</td>\n",
              "    </tr>\n",
              "    <tr>\n",
              "      <th>2021-11-09</th>\n",
              "      <td>3593.770020</td>\n",
              "      <td>3501.429932</td>\n",
              "      <td>3515.250000</td>\n",
              "      <td>3576.229980</td>\n",
              "      <td>4294900</td>\n",
              "      <td>3576.229980</td>\n",
              "    </tr>\n",
              "    <tr>\n",
              "      <th>2021-11-10</th>\n",
              "      <td>3605.449951</td>\n",
              "      <td>3463.090088</td>\n",
              "      <td>3563.870117</td>\n",
              "      <td>3482.050049</td>\n",
              "      <td>4027400</td>\n",
              "      <td>3482.050049</td>\n",
              "    </tr>\n",
              "    <tr>\n",
              "      <th>2021-11-11</th>\n",
              "      <td>3543.239990</td>\n",
              "      <td>3467.469971</td>\n",
              "      <td>3513.000000</td>\n",
              "      <td>3472.500000</td>\n",
              "      <td>2264400</td>\n",
              "      <td>3472.500000</td>\n",
              "    </tr>\n",
              "    <tr>\n",
              "      <th>2021-11-12</th>\n",
              "      <td>3540.729980</td>\n",
              "      <td>3447.050049</td>\n",
              "      <td>3485.000000</td>\n",
              "      <td>3525.149902</td>\n",
              "      <td>2688500</td>\n",
              "      <td>3525.149902</td>\n",
              "    </tr>\n",
              "  </tbody>\n",
              "</table>\n",
              "<p>2484 rows × 6 columns</p>\n",
              "</div>"
            ],
            "text/plain": [
              "                   High          Low  ...   Volume    Adj Close\n",
              "Date                                  ...                      \n",
              "2012-01-03   179.479996   175.550003  ...  5110800   179.029999\n",
              "2012-01-04   180.500000   176.070007  ...  4205200   177.509995\n",
              "2012-01-05   178.250000   174.050003  ...  3809100   177.610001\n",
              "2012-01-06   184.649994   177.500000  ...  7008400   182.610001\n",
              "2012-01-09   184.369995   177.000000  ...  5056900   178.559998\n",
              "...                 ...          ...  ...      ...          ...\n",
              "2021-11-08  3579.000000  3487.860107  ...  3074000  3488.979980\n",
              "2021-11-09  3593.770020  3501.429932  ...  4294900  3576.229980\n",
              "2021-11-10  3605.449951  3463.090088  ...  4027400  3482.050049\n",
              "2021-11-11  3543.239990  3467.469971  ...  2264400  3472.500000\n",
              "2021-11-12  3540.729980  3447.050049  ...  2688500  3525.149902\n",
              "\n",
              "[2484 rows x 6 columns]"
            ]
          },
          "metadata": {},
          "execution_count": 4
        }
      ]
    },
    {
      "cell_type": "code",
      "metadata": {
        "colab": {
          "base_uri": "https://localhost:8080/",
          "height": 450
        },
        "id": "W2PfK2mdzTzJ",
        "outputId": "c684b8c2-fc9e-45d4-81b1-46478b023b14"
      },
      "source": [
        "df_fb = web.DataReader('FB', data_source='yahoo', start='2012-01-03', end='2021-11-14')\n",
        "df_fb"
      ],
      "execution_count": null,
      "outputs": [
        {
          "output_type": "execute_result",
          "data": {
            "text/html": [
              "<div>\n",
              "<style scoped>\n",
              "    .dataframe tbody tr th:only-of-type {\n",
              "        vertical-align: middle;\n",
              "    }\n",
              "\n",
              "    .dataframe tbody tr th {\n",
              "        vertical-align: top;\n",
              "    }\n",
              "\n",
              "    .dataframe thead th {\n",
              "        text-align: right;\n",
              "    }\n",
              "</style>\n",
              "<table border=\"1\" class=\"dataframe\">\n",
              "  <thead>\n",
              "    <tr style=\"text-align: right;\">\n",
              "      <th></th>\n",
              "      <th>High</th>\n",
              "      <th>Low</th>\n",
              "      <th>Open</th>\n",
              "      <th>Close</th>\n",
              "      <th>Volume</th>\n",
              "      <th>Adj Close</th>\n",
              "    </tr>\n",
              "    <tr>\n",
              "      <th>Date</th>\n",
              "      <th></th>\n",
              "      <th></th>\n",
              "      <th></th>\n",
              "      <th></th>\n",
              "      <th></th>\n",
              "      <th></th>\n",
              "    </tr>\n",
              "  </thead>\n",
              "  <tbody>\n",
              "    <tr>\n",
              "      <th>2012-05-18</th>\n",
              "      <td>45.000000</td>\n",
              "      <td>38.000000</td>\n",
              "      <td>42.049999</td>\n",
              "      <td>38.230000</td>\n",
              "      <td>573576400</td>\n",
              "      <td>38.230000</td>\n",
              "    </tr>\n",
              "    <tr>\n",
              "      <th>2012-05-21</th>\n",
              "      <td>36.660000</td>\n",
              "      <td>33.000000</td>\n",
              "      <td>36.529999</td>\n",
              "      <td>34.029999</td>\n",
              "      <td>168192700</td>\n",
              "      <td>34.029999</td>\n",
              "    </tr>\n",
              "    <tr>\n",
              "      <th>2012-05-22</th>\n",
              "      <td>33.590000</td>\n",
              "      <td>30.940001</td>\n",
              "      <td>32.610001</td>\n",
              "      <td>31.000000</td>\n",
              "      <td>101786600</td>\n",
              "      <td>31.000000</td>\n",
              "    </tr>\n",
              "    <tr>\n",
              "      <th>2012-05-23</th>\n",
              "      <td>32.500000</td>\n",
              "      <td>31.360001</td>\n",
              "      <td>31.370001</td>\n",
              "      <td>32.000000</td>\n",
              "      <td>73600000</td>\n",
              "      <td>32.000000</td>\n",
              "    </tr>\n",
              "    <tr>\n",
              "      <th>2012-05-24</th>\n",
              "      <td>33.209999</td>\n",
              "      <td>31.770000</td>\n",
              "      <td>32.950001</td>\n",
              "      <td>33.029999</td>\n",
              "      <td>50237200</td>\n",
              "      <td>33.029999</td>\n",
              "    </tr>\n",
              "    <tr>\n",
              "      <th>...</th>\n",
              "      <td>...</td>\n",
              "      <td>...</td>\n",
              "      <td>...</td>\n",
              "      <td>...</td>\n",
              "      <td>...</td>\n",
              "      <td>...</td>\n",
              "    </tr>\n",
              "    <tr>\n",
              "      <th>2021-11-08</th>\n",
              "      <td>344.790009</td>\n",
              "      <td>338.339996</td>\n",
              "      <td>344.420013</td>\n",
              "      <td>338.619995</td>\n",
              "      <td>18342500</td>\n",
              "      <td>338.619995</td>\n",
              "    </tr>\n",
              "    <tr>\n",
              "      <th>2021-11-09</th>\n",
              "      <td>341.309998</td>\n",
              "      <td>334.470001</td>\n",
              "      <td>340.000000</td>\n",
              "      <td>335.369995</td>\n",
              "      <td>17556700</td>\n",
              "      <td>335.369995</td>\n",
              "    </tr>\n",
              "    <tr>\n",
              "      <th>2021-11-10</th>\n",
              "      <td>333.190002</td>\n",
              "      <td>325.510010</td>\n",
              "      <td>332.489990</td>\n",
              "      <td>327.640015</td>\n",
              "      <td>21872600</td>\n",
              "      <td>327.640015</td>\n",
              "    </tr>\n",
              "    <tr>\n",
              "      <th>2021-11-11</th>\n",
              "      <td>332.459991</td>\n",
              "      <td>327.000000</td>\n",
              "      <td>329.820007</td>\n",
              "      <td>327.739990</td>\n",
              "      <td>12376600</td>\n",
              "      <td>327.739990</td>\n",
              "    </tr>\n",
              "    <tr>\n",
              "      <th>2021-11-12</th>\n",
              "      <td>341.859985</td>\n",
              "      <td>329.779999</td>\n",
              "      <td>330.179993</td>\n",
              "      <td>340.890015</td>\n",
              "      <td>25387200</td>\n",
              "      <td>340.890015</td>\n",
              "    </tr>\n",
              "  </tbody>\n",
              "</table>\n",
              "<p>2389 rows × 6 columns</p>\n",
              "</div>"
            ],
            "text/plain": [
              "                  High         Low  ...     Volume   Adj Close\n",
              "Date                                ...                       \n",
              "2012-05-18   45.000000   38.000000  ...  573576400   38.230000\n",
              "2012-05-21   36.660000   33.000000  ...  168192700   34.029999\n",
              "2012-05-22   33.590000   30.940001  ...  101786600   31.000000\n",
              "2012-05-23   32.500000   31.360001  ...   73600000   32.000000\n",
              "2012-05-24   33.209999   31.770000  ...   50237200   33.029999\n",
              "...                ...         ...  ...        ...         ...\n",
              "2021-11-08  344.790009  338.339996  ...   18342500  338.619995\n",
              "2021-11-09  341.309998  334.470001  ...   17556700  335.369995\n",
              "2021-11-10  333.190002  325.510010  ...   21872600  327.640015\n",
              "2021-11-11  332.459991  327.000000  ...   12376600  327.739990\n",
              "2021-11-12  341.859985  329.779999  ...   25387200  340.890015\n",
              "\n",
              "[2389 rows x 6 columns]"
            ]
          },
          "metadata": {},
          "execution_count": 5
        }
      ]
    },
    {
      "cell_type": "code",
      "metadata": {
        "colab": {
          "base_uri": "https://localhost:8080/",
          "height": 450
        },
        "id": "RvxaPqkGzfJG",
        "outputId": "62d4a3f5-29c1-4615-91a4-9f8f4e9305bc"
      },
      "source": [
        "df_nflx = web.DataReader('NFLX', data_source='yahoo', start='2012-01-03', end='2021-11-14')\n",
        "df_nflx"
      ],
      "execution_count": null,
      "outputs": [
        {
          "output_type": "execute_result",
          "data": {
            "text/html": [
              "<div>\n",
              "<style scoped>\n",
              "    .dataframe tbody tr th:only-of-type {\n",
              "        vertical-align: middle;\n",
              "    }\n",
              "\n",
              "    .dataframe tbody tr th {\n",
              "        vertical-align: top;\n",
              "    }\n",
              "\n",
              "    .dataframe thead th {\n",
              "        text-align: right;\n",
              "    }\n",
              "</style>\n",
              "<table border=\"1\" class=\"dataframe\">\n",
              "  <thead>\n",
              "    <tr style=\"text-align: right;\">\n",
              "      <th></th>\n",
              "      <th>High</th>\n",
              "      <th>Low</th>\n",
              "      <th>Open</th>\n",
              "      <th>Close</th>\n",
              "      <th>Volume</th>\n",
              "      <th>Adj Close</th>\n",
              "    </tr>\n",
              "    <tr>\n",
              "      <th>Date</th>\n",
              "      <th></th>\n",
              "      <th></th>\n",
              "      <th></th>\n",
              "      <th></th>\n",
              "      <th></th>\n",
              "      <th></th>\n",
              "    </tr>\n",
              "  </thead>\n",
              "  <tbody>\n",
              "    <tr>\n",
              "      <th>2012-01-03</th>\n",
              "      <td>10.388571</td>\n",
              "      <td>10.018571</td>\n",
              "      <td>10.040000</td>\n",
              "      <td>10.320000</td>\n",
              "      <td>29213800.0</td>\n",
              "      <td>10.320000</td>\n",
              "    </tr>\n",
              "    <tr>\n",
              "      <th>2012-01-04</th>\n",
              "      <td>11.567143</td>\n",
              "      <td>10.258571</td>\n",
              "      <td>10.335714</td>\n",
              "      <td>11.492857</td>\n",
              "      <td>100489900.0</td>\n",
              "      <td>11.492857</td>\n",
              "    </tr>\n",
              "    <tr>\n",
              "      <th>2012-01-05</th>\n",
              "      <td>11.694286</td>\n",
              "      <td>11.040000</td>\n",
              "      <td>11.345714</td>\n",
              "      <td>11.328571</td>\n",
              "      <td>86552900.0</td>\n",
              "      <td>11.328571</td>\n",
              "    </tr>\n",
              "    <tr>\n",
              "      <th>2012-01-06</th>\n",
              "      <td>12.471429</td>\n",
              "      <td>11.242857</td>\n",
              "      <td>11.302857</td>\n",
              "      <td>12.327143</td>\n",
              "      <td>125610800.0</td>\n",
              "      <td>12.327143</td>\n",
              "    </tr>\n",
              "    <tr>\n",
              "      <th>2012-01-09</th>\n",
              "      <td>14.235714</td>\n",
              "      <td>12.448571</td>\n",
              "      <td>12.801429</td>\n",
              "      <td>14.025714</td>\n",
              "      <td>214073300.0</td>\n",
              "      <td>14.025714</td>\n",
              "    </tr>\n",
              "    <tr>\n",
              "      <th>...</th>\n",
              "      <td>...</td>\n",
              "      <td>...</td>\n",
              "      <td>...</td>\n",
              "      <td>...</td>\n",
              "      <td>...</td>\n",
              "      <td>...</td>\n",
              "    </tr>\n",
              "    <tr>\n",
              "      <th>2021-11-08</th>\n",
              "      <td>656.000000</td>\n",
              "      <td>643.789978</td>\n",
              "      <td>650.289978</td>\n",
              "      <td>651.450012</td>\n",
              "      <td>2887500.0</td>\n",
              "      <td>651.450012</td>\n",
              "    </tr>\n",
              "    <tr>\n",
              "      <th>2021-11-09</th>\n",
              "      <td>660.500000</td>\n",
              "      <td>650.520020</td>\n",
              "      <td>653.700012</td>\n",
              "      <td>655.989990</td>\n",
              "      <td>2415600.0</td>\n",
              "      <td>655.989990</td>\n",
              "    </tr>\n",
              "    <tr>\n",
              "      <th>2021-11-10</th>\n",
              "      <td>660.330017</td>\n",
              "      <td>642.109985</td>\n",
              "      <td>653.010010</td>\n",
              "      <td>646.909973</td>\n",
              "      <td>2405800.0</td>\n",
              "      <td>646.909973</td>\n",
              "    </tr>\n",
              "    <tr>\n",
              "      <th>2021-11-11</th>\n",
              "      <td>665.820007</td>\n",
              "      <td>649.710022</td>\n",
              "      <td>650.239990</td>\n",
              "      <td>657.580017</td>\n",
              "      <td>2868300.0</td>\n",
              "      <td>657.580017</td>\n",
              "    </tr>\n",
              "    <tr>\n",
              "      <th>2021-11-12</th>\n",
              "      <td>683.340027</td>\n",
              "      <td>653.820007</td>\n",
              "      <td>660.010010</td>\n",
              "      <td>682.609985</td>\n",
              "      <td>4192700.0</td>\n",
              "      <td>682.609985</td>\n",
              "    </tr>\n",
              "  </tbody>\n",
              "</table>\n",
              "<p>2484 rows × 6 columns</p>\n",
              "</div>"
            ],
            "text/plain": [
              "                  High         Low  ...       Volume   Adj Close\n",
              "Date                                ...                         \n",
              "2012-01-03   10.388571   10.018571  ...   29213800.0   10.320000\n",
              "2012-01-04   11.567143   10.258571  ...  100489900.0   11.492857\n",
              "2012-01-05   11.694286   11.040000  ...   86552900.0   11.328571\n",
              "2012-01-06   12.471429   11.242857  ...  125610800.0   12.327143\n",
              "2012-01-09   14.235714   12.448571  ...  214073300.0   14.025714\n",
              "...                ...         ...  ...          ...         ...\n",
              "2021-11-08  656.000000  643.789978  ...    2887500.0  651.450012\n",
              "2021-11-09  660.500000  650.520020  ...    2415600.0  655.989990\n",
              "2021-11-10  660.330017  642.109985  ...    2405800.0  646.909973\n",
              "2021-11-11  665.820007  649.710022  ...    2868300.0  657.580017\n",
              "2021-11-12  683.340027  653.820007  ...    4192700.0  682.609985\n",
              "\n",
              "[2484 rows x 6 columns]"
            ]
          },
          "metadata": {},
          "execution_count": 6
        }
      ]
    },
    {
      "cell_type": "code",
      "metadata": {
        "colab": {
          "base_uri": "https://localhost:8080/",
          "height": 450
        },
        "id": "tYTEdt72zmHr",
        "outputId": "caacf1a5-ffb5-4eb3-d780-681331d60298"
      },
      "source": [
        "df_goog = web.DataReader('GOOG', data_source='yahoo', start='2012-01-03', end='2021-11-14')\n",
        "df_goog"
      ],
      "execution_count": null,
      "outputs": [
        {
          "output_type": "execute_result",
          "data": {
            "text/html": [
              "<div>\n",
              "<style scoped>\n",
              "    .dataframe tbody tr th:only-of-type {\n",
              "        vertical-align: middle;\n",
              "    }\n",
              "\n",
              "    .dataframe tbody tr th {\n",
              "        vertical-align: top;\n",
              "    }\n",
              "\n",
              "    .dataframe thead th {\n",
              "        text-align: right;\n",
              "    }\n",
              "</style>\n",
              "<table border=\"1\" class=\"dataframe\">\n",
              "  <thead>\n",
              "    <tr style=\"text-align: right;\">\n",
              "      <th></th>\n",
              "      <th>High</th>\n",
              "      <th>Low</th>\n",
              "      <th>Open</th>\n",
              "      <th>Close</th>\n",
              "      <th>Volume</th>\n",
              "      <th>Adj Close</th>\n",
              "    </tr>\n",
              "    <tr>\n",
              "      <th>Date</th>\n",
              "      <th></th>\n",
              "      <th></th>\n",
              "      <th></th>\n",
              "      <th></th>\n",
              "      <th></th>\n",
              "      <th></th>\n",
              "    </tr>\n",
              "  </thead>\n",
              "  <tbody>\n",
              "    <tr>\n",
              "      <th>2012-01-03</th>\n",
              "      <td>332.827484</td>\n",
              "      <td>324.966949</td>\n",
              "      <td>325.250885</td>\n",
              "      <td>331.462585</td>\n",
              "      <td>7380561.0</td>\n",
              "      <td>331.462585</td>\n",
              "    </tr>\n",
              "    <tr>\n",
              "      <th>2012-01-04</th>\n",
              "      <td>333.873566</td>\n",
              "      <td>329.076538</td>\n",
              "      <td>331.273315</td>\n",
              "      <td>332.892242</td>\n",
              "      <td>5749470.0</td>\n",
              "      <td>332.892242</td>\n",
              "    </tr>\n",
              "    <tr>\n",
              "      <th>2012-01-05</th>\n",
              "      <td>330.745270</td>\n",
              "      <td>326.889740</td>\n",
              "      <td>329.828735</td>\n",
              "      <td>328.274536</td>\n",
              "      <td>6590410.0</td>\n",
              "      <td>328.274536</td>\n",
              "    </tr>\n",
              "    <tr>\n",
              "      <th>2012-01-06</th>\n",
              "      <td>328.767700</td>\n",
              "      <td>323.681763</td>\n",
              "      <td>328.344299</td>\n",
              "      <td>323.796326</td>\n",
              "      <td>5405987.0</td>\n",
              "      <td>323.796326</td>\n",
              "    </tr>\n",
              "    <tr>\n",
              "      <th>2012-01-09</th>\n",
              "      <td>322.291962</td>\n",
              "      <td>309.455078</td>\n",
              "      <td>322.042908</td>\n",
              "      <td>310.067780</td>\n",
              "      <td>11688849.0</td>\n",
              "      <td>310.067780</td>\n",
              "    </tr>\n",
              "    <tr>\n",
              "      <th>...</th>\n",
              "      <td>...</td>\n",
              "      <td>...</td>\n",
              "      <td>...</td>\n",
              "      <td>...</td>\n",
              "      <td>...</td>\n",
              "      <td>...</td>\n",
              "    </tr>\n",
              "    <tr>\n",
              "      <th>2021-11-08</th>\n",
              "      <td>3020.689941</td>\n",
              "      <td>2982.399902</td>\n",
              "      <td>3000.000000</td>\n",
              "      <td>2987.030029</td>\n",
              "      <td>919400.0</td>\n",
              "      <td>2987.030029</td>\n",
              "    </tr>\n",
              "    <tr>\n",
              "      <th>2021-11-09</th>\n",
              "      <td>3007.570068</td>\n",
              "      <td>2950.139893</td>\n",
              "      <td>2994.919922</td>\n",
              "      <td>2984.969971</td>\n",
              "      <td>843800.0</td>\n",
              "      <td>2984.969971</td>\n",
              "    </tr>\n",
              "    <tr>\n",
              "      <th>2021-11-10</th>\n",
              "      <td>2974.000000</td>\n",
              "      <td>2906.500000</td>\n",
              "      <td>2960.195068</td>\n",
              "      <td>2932.520020</td>\n",
              "      <td>1135400.0</td>\n",
              "      <td>2932.520020</td>\n",
              "    </tr>\n",
              "    <tr>\n",
              "      <th>2021-11-11</th>\n",
              "      <td>2970.044922</td>\n",
              "      <td>2933.889893</td>\n",
              "      <td>2942.139893</td>\n",
              "      <td>2934.959961</td>\n",
              "      <td>623200.0</td>\n",
              "      <td>2934.959961</td>\n",
              "    </tr>\n",
              "    <tr>\n",
              "      <th>2021-11-12</th>\n",
              "      <td>2997.189941</td>\n",
              "      <td>2929.080078</td>\n",
              "      <td>2956.629883</td>\n",
              "      <td>2992.909912</td>\n",
              "      <td>852000.0</td>\n",
              "      <td>2992.909912</td>\n",
              "    </tr>\n",
              "  </tbody>\n",
              "</table>\n",
              "<p>2484 rows × 6 columns</p>\n",
              "</div>"
            ],
            "text/plain": [
              "                   High          Low  ...      Volume    Adj Close\n",
              "Date                                  ...                         \n",
              "2012-01-03   332.827484   324.966949  ...   7380561.0   331.462585\n",
              "2012-01-04   333.873566   329.076538  ...   5749470.0   332.892242\n",
              "2012-01-05   330.745270   326.889740  ...   6590410.0   328.274536\n",
              "2012-01-06   328.767700   323.681763  ...   5405987.0   323.796326\n",
              "2012-01-09   322.291962   309.455078  ...  11688849.0   310.067780\n",
              "...                 ...          ...  ...         ...          ...\n",
              "2021-11-08  3020.689941  2982.399902  ...    919400.0  2987.030029\n",
              "2021-11-09  3007.570068  2950.139893  ...    843800.0  2984.969971\n",
              "2021-11-10  2974.000000  2906.500000  ...   1135400.0  2932.520020\n",
              "2021-11-11  2970.044922  2933.889893  ...    623200.0  2934.959961\n",
              "2021-11-12  2997.189941  2929.080078  ...    852000.0  2992.909912\n",
              "\n",
              "[2484 rows x 6 columns]"
            ]
          },
          "metadata": {},
          "execution_count": 7
        }
      ]
    },
    {
      "cell_type": "markdown",
      "metadata": {
        "id": "dSXZfaGxEZc2"
      },
      "source": [
        "## 3. Plot the Closing Prices of the stocks over the years :"
      ]
    },
    {
      "cell_type": "code",
      "metadata": {
        "colab": {
          "base_uri": "https://localhost:8080/",
          "height": 518
        },
        "id": "U-C9OV9WPgRc",
        "outputId": "34c2f832-be79-4afe-cfc8-0ae8ee8e118e"
      },
      "source": [
        "plt.figure(figsize=(16,8))\n",
        "plt.title('Apple')\n",
        "plt.plot(df_aapl['Close'])\n",
        "plt.xlabel('Date', fontsize=18)\n",
        "plt.ylabel('Close Price USD', fontsize=18)\n",
        "plt.show()"
      ],
      "execution_count": null,
      "outputs": [
        {
          "output_type": "display_data",
          "data": {
            "image/png": "[encoded data removed]",
            "text/plain": [
              "<Figure size 1152x576 with 1 Axes>"
            ]
          },
          "metadata": {
            "needs_background": "light"
          }
        }
      ]
    },
    {
      "cell_type": "code",
      "metadata": {
        "colab": {
          "base_uri": "https://localhost:8080/",
          "height": 518
        },
        "id": "3q7j2oZT0AYI",
        "outputId": "41d18fb3-bb9d-4a19-e949-e130ebda4f70"
      },
      "source": [
        "plt.figure(figsize=(16,8))\n",
        "plt.title('Amazon')\n",
        "plt.plot(df_amzn['Close'])\n",
        "plt.xlabel('Date', fontsize=18)\n",
        "plt.ylabel('Close Price USD', fontsize=18)\n",
        "plt.show()"
      ],
      "execution_count": null,
      "outputs": [
        {
          "output_type": "display_data",
          "data": {
            "image/png": "[encoded data removed]",
            "text/plain": [
              "<Figure size 1152x576 with 1 Axes>"
            ]
          },
          "metadata": {
            "needs_background": "light"
          }
        }
      ]
    },
    {
      "cell_type": "code",
      "metadata": {
        "colab": {
          "base_uri": "https://localhost:8080/",
          "height": 518
        },
        "id": "T8zmOAhL0QYF",
        "outputId": "0d4a0c02-38f3-4e1c-ed79-7c1343609826"
      },
      "source": [
        "plt.figure(figsize=(16,8))\n",
        "plt.title('Facebook')\n",
        "plt.plot(df_fb['Close'])\n",
        "plt.xlabel('Date', fontsize=18)\n",
        "plt.ylabel('Close Price USD', fontsize=18)\n",
        "plt.show()"
      ],
      "execution_count": null,
      "outputs": [
        {
          "output_type": "display_data",
          "data": {
            "image/png": "[encoded data removed]",
            "text/plain": [
              "<Figure size 1152x576 with 1 Axes>"
            ]
          },
          "metadata": {
            "needs_background": "light"
          }
        }
      ]
    },
    {
      "cell_type": "code",
      "metadata": {
        "colab": {
          "base_uri": "https://localhost:8080/",
          "height": 518
        },
        "id": "feGdXH120VXO",
        "outputId": "df61b558-e812-4ceb-932d-f3fe72ac2407"
      },
      "source": [
        "plt.figure(figsize=(16,8))\n",
        "plt.title('Netflix')\n",
        "plt.plot(df_nflx['Close'])\n",
        "plt.xlabel('Date', fontsize=18)\n",
        "plt.ylabel('Close Price USD', fontsize=18)\n",
        "plt.show()"
      ],
      "execution_count": null,
      "outputs": [
        {
          "output_type": "display_data",
          "data": {
            "image/png": "[encoded data removed]",
            "text/plain": [
              "<Figure size 1152x576 with 1 Axes>"
            ]
          },
          "metadata": {
            "needs_background": "light"
          }
        }
      ]
    },
    {
      "cell_type": "code",
      "metadata": {
        "colab": {
          "base_uri": "https://localhost:8080/",
          "height": 518
        },
        "id": "Q6dlScBh0cMU",
        "outputId": "50324c7e-1d70-41c2-e62f-defb0d322d35"
      },
      "source": [
        "plt.figure(figsize=(16,8))\n",
        "plt.title('Google')\n",
        "plt.plot(df_goog['Close'])\n",
        "plt.xlabel('Date', fontsize=18)\n",
        "plt.ylabel('Close Price USD', fontsize=18)\n",
        "plt.show()"
      ],
      "execution_count": null,
      "outputs": [
        {
          "output_type": "display_data",
          "data": {
            "image/png": "[encoded data removed]",
            "text/plain": [
              "<Figure size 1152x576 with 1 Axes>"
            ]
          },
          "metadata": {
            "needs_background": "light"
          }
        }
      ]
    },
    {
      "cell_type": "markdown",
      "metadata": {
        "id": "NYX3v4kQJyXG"
      },
      "source": [
        "## 4. Extract Closing Prices :"
      ]
    },
    {
      "cell_type": "code",
      "metadata": {
        "id": "eazZOum2JI2R"
      },
      "source": [
        "data_aapl = df_aapl.filter(['Close'])\n",
        "data_aapl2 = df_aapl.filter(['Close'])\n",
        "data_aapl3 = df_aapl.filter(['Close'])\n",
        "data_amzn = df_amzn.filter(['Close'])\n",
        "data_amzn2 = df_aapl.filter(['Close'])\n",
        "data_amzn3 = df_aapl.filter(['Close'])\n",
        "data_fb = df_fb.filter(['Close'])\n",
        "data_fb2 = df_fb.filter(['Close'])\n",
        "data_fb3 = df_fb.filter(['Close'])\n",
        "data_nflx = df_nflx.filter(['Close'])\n",
        "data_nflx2 = df_nflx.filter(['Close'])\n",
        "data_nflx3 = df_nflx.filter(['Close'])\n",
        "data_goog = df_goog.filter(['Close'])\n",
        "data_goog2 = df_goog.filter(['Close'])\n",
        "data_goog3 = df_goog.filter(['Close'])"
      ],
      "execution_count": null,
      "outputs": []
    },
    {
      "cell_type": "markdown",
      "metadata": {
        "id": "rjJiwVwdKf-1"
      },
      "source": [
        "## 5. Calculate % Changes between consecutive closing prices :"
      ]
    },
    {
      "cell_type": "code",
      "metadata": {
        "colab": {
          "base_uri": "https://localhost:8080/",
          "height": 450
        },
        "id": "PTVM424lKryr",
        "outputId": "6867b34a-a512-40e5-875a-6178a739cb7b"
      },
      "source": [
        "data_aapl = data_aapl.pct_change(freq='D')\n",
        "data_aapl['Close'] *= 100\n",
        "data_aapl['Close'] = data_aapl['Close'].replace(np.nan, 0)\n",
        "data_aapl"
      ],
      "execution_count": null,
      "outputs": [
        {
          "output_type": "execute_result",
          "data": {
            "text/html": [
              "<div>\n",
              "<style scoped>\n",
              "    .dataframe tbody tr th:only-of-type {\n",
              "        vertical-align: middle;\n",
              "    }\n",
              "\n",
              "    .dataframe tbody tr th {\n",
              "        vertical-align: top;\n",
              "    }\n",
              "\n",
              "    .dataframe thead th {\n",
              "        text-align: right;\n",
              "    }\n",
              "</style>\n",
              "<table border=\"1\" class=\"dataframe\">\n",
              "  <thead>\n",
              "    <tr style=\"text-align: right;\">\n",
              "      <th></th>\n",
              "      <th>Close</th>\n",
              "    </tr>\n",
              "    <tr>\n",
              "      <th>Date</th>\n",
              "      <th></th>\n",
              "    </tr>\n",
              "  </thead>\n",
              "  <tbody>\n",
              "    <tr>\n",
              "      <th>2012-01-03</th>\n",
              "      <td>0.000000</td>\n",
              "    </tr>\n",
              "    <tr>\n",
              "      <th>2012-01-04</th>\n",
              "      <td>0.537408</td>\n",
              "    </tr>\n",
              "    <tr>\n",
              "      <th>2012-01-05</th>\n",
              "      <td>1.110200</td>\n",
              "    </tr>\n",
              "    <tr>\n",
              "      <th>2012-01-06</th>\n",
              "      <td>1.045381</td>\n",
              "    </tr>\n",
              "    <tr>\n",
              "      <th>2012-01-09</th>\n",
              "      <td>0.000000</td>\n",
              "    </tr>\n",
              "    <tr>\n",
              "      <th>...</th>\n",
              "      <td>...</td>\n",
              "    </tr>\n",
              "    <tr>\n",
              "      <th>2021-11-08</th>\n",
              "      <td>0.000000</td>\n",
              "    </tr>\n",
              "    <tr>\n",
              "      <th>2021-11-09</th>\n",
              "      <td>0.245942</td>\n",
              "    </tr>\n",
              "    <tr>\n",
              "      <th>2021-11-10</th>\n",
              "      <td>-1.916318</td>\n",
              "    </tr>\n",
              "    <tr>\n",
              "      <th>2021-11-11</th>\n",
              "      <td>-0.033804</td>\n",
              "    </tr>\n",
              "    <tr>\n",
              "      <th>2021-11-12</th>\n",
              "      <td>1.433699</td>\n",
              "    </tr>\n",
              "  </tbody>\n",
              "</table>\n",
              "<p>2484 rows × 1 columns</p>\n",
              "</div>"
            ],
            "text/plain": [
              "               Close\n",
              "Date                \n",
              "2012-01-03  0.000000\n",
              "2012-01-04  0.537408\n",
              "2012-01-05  1.110200\n",
              "2012-01-06  1.045381\n",
              "2012-01-09  0.000000\n",
              "...              ...\n",
              "2021-11-08  0.000000\n",
              "2021-11-09  0.245942\n",
              "2021-11-10 -1.916318\n",
              "2021-11-11 -0.033804\n",
              "2021-11-12  1.433699\n",
              "\n",
              "[2484 rows x 1 columns]"
            ]
          },
          "metadata": {},
          "execution_count": 14
        }
      ]
    },
    {
      "cell_type": "code",
      "metadata": {
        "colab": {
          "base_uri": "https://localhost:8080/",
          "height": 450
        },
        "id": "tM1eWnhBR6co",
        "outputId": "49112214-df55-4eda-f5a1-bc92b6ba3dc3"
      },
      "source": [
        "data_amzn = data_amzn.pct_change(freq='D')\n",
        "data_amzn['Close'] *= 100\n",
        "data_amzn['Close'] = data_amzn['Close'].replace(np.nan, 0)\n",
        "data_amzn"
      ],
      "execution_count": null,
      "outputs": [
        {
          "output_type": "execute_result",
          "data": {
            "text/html": [
              "<div>\n",
              "<style scoped>\n",
              "    .dataframe tbody tr th:only-of-type {\n",
              "        vertical-align: middle;\n",
              "    }\n",
              "\n",
              "    .dataframe tbody tr th {\n",
              "        vertical-align: top;\n",
              "    }\n",
              "\n",
              "    .dataframe thead th {\n",
              "        text-align: right;\n",
              "    }\n",
              "</style>\n",
              "<table border=\"1\" class=\"dataframe\">\n",
              "  <thead>\n",
              "    <tr style=\"text-align: right;\">\n",
              "      <th></th>\n",
              "      <th>Close</th>\n",
              "    </tr>\n",
              "    <tr>\n",
              "      <th>Date</th>\n",
              "      <th></th>\n",
              "    </tr>\n",
              "  </thead>\n",
              "  <tbody>\n",
              "    <tr>\n",
              "      <th>2012-01-03</th>\n",
              "      <td>0.000000</td>\n",
              "    </tr>\n",
              "    <tr>\n",
              "      <th>2012-01-04</th>\n",
              "      <td>-0.849022</td>\n",
              "    </tr>\n",
              "    <tr>\n",
              "      <th>2012-01-05</th>\n",
              "      <td>0.056338</td>\n",
              "    </tr>\n",
              "    <tr>\n",
              "      <th>2012-01-06</th>\n",
              "      <td>2.815157</td>\n",
              "    </tr>\n",
              "    <tr>\n",
              "      <th>2012-01-09</th>\n",
              "      <td>0.000000</td>\n",
              "    </tr>\n",
              "    <tr>\n",
              "      <th>...</th>\n",
              "      <td>...</td>\n",
              "    </tr>\n",
              "    <tr>\n",
              "      <th>2021-11-08</th>\n",
              "      <td>0.000000</td>\n",
              "    </tr>\n",
              "    <tr>\n",
              "      <th>2021-11-09</th>\n",
              "      <td>2.500731</td>\n",
              "    </tr>\n",
              "    <tr>\n",
              "      <th>2021-11-10</th>\n",
              "      <td>-2.633498</td>\n",
              "    </tr>\n",
              "    <tr>\n",
              "      <th>2021-11-11</th>\n",
              "      <td>-0.274265</td>\n",
              "    </tr>\n",
              "    <tr>\n",
              "      <th>2021-11-12</th>\n",
              "      <td>1.516196</td>\n",
              "    </tr>\n",
              "  </tbody>\n",
              "</table>\n",
              "<p>2484 rows × 1 columns</p>\n",
              "</div>"
            ],
            "text/plain": [
              "               Close\n",
              "Date                \n",
              "2012-01-03  0.000000\n",
              "2012-01-04 -0.849022\n",
              "2012-01-05  0.056338\n",
              "2012-01-06  2.815157\n",
              "2012-01-09  0.000000\n",
              "...              ...\n",
              "2021-11-08  0.000000\n",
              "2021-11-09  2.500731\n",
              "2021-11-10 -2.633498\n",
              "2021-11-11 -0.274265\n",
              "2021-11-12  1.516196\n",
              "\n",
              "[2484 rows x 1 columns]"
            ]
          },
          "metadata": {},
          "execution_count": 15
        }
      ]
    },
    {
      "cell_type": "code",
      "metadata": {
        "colab": {
          "base_uri": "https://localhost:8080/",
          "height": 450
        },
        "id": "Bzpi6nrb68Uh",
        "outputId": "408ac2c0-7e24-43a7-ad1d-f5973cde6fa5"
      },
      "source": [
        "data_fb = data_fb.pct_change(freq='D')\n",
        "data_fb['Close'] *= 100\n",
        "data_fb['Close'] = data_fb['Close'].replace(np.nan, 0)\n",
        "data_fb"
      ],
      "execution_count": null,
      "outputs": [
        {
          "output_type": "execute_result",
          "data": {
            "text/html": [
              "<div>\n",
              "<style scoped>\n",
              "    .dataframe tbody tr th:only-of-type {\n",
              "        vertical-align: middle;\n",
              "    }\n",
              "\n",
              "    .dataframe tbody tr th {\n",
              "        vertical-align: top;\n",
              "    }\n",
              "\n",
              "    .dataframe thead th {\n",
              "        text-align: right;\n",
              "    }\n",
              "</style>\n",
              "<table border=\"1\" class=\"dataframe\">\n",
              "  <thead>\n",
              "    <tr style=\"text-align: right;\">\n",
              "      <th></th>\n",
              "      <th>Close</th>\n",
              "    </tr>\n",
              "    <tr>\n",
              "      <th>Date</th>\n",
              "      <th></th>\n",
              "    </tr>\n",
              "  </thead>\n",
              "  <tbody>\n",
              "    <tr>\n",
              "      <th>2012-05-18</th>\n",
              "      <td>0.000000</td>\n",
              "    </tr>\n",
              "    <tr>\n",
              "      <th>2012-05-21</th>\n",
              "      <td>0.000000</td>\n",
              "    </tr>\n",
              "    <tr>\n",
              "      <th>2012-05-22</th>\n",
              "      <td>-8.903905</td>\n",
              "    </tr>\n",
              "    <tr>\n",
              "      <th>2012-05-23</th>\n",
              "      <td>3.225806</td>\n",
              "    </tr>\n",
              "    <tr>\n",
              "      <th>2012-05-24</th>\n",
              "      <td>3.218746</td>\n",
              "    </tr>\n",
              "    <tr>\n",
              "      <th>...</th>\n",
              "      <td>...</td>\n",
              "    </tr>\n",
              "    <tr>\n",
              "      <th>2021-11-08</th>\n",
              "      <td>0.000000</td>\n",
              "    </tr>\n",
              "    <tr>\n",
              "      <th>2021-11-09</th>\n",
              "      <td>-0.959778</td>\n",
              "    </tr>\n",
              "    <tr>\n",
              "      <th>2021-11-10</th>\n",
              "      <td>-2.304911</td>\n",
              "    </tr>\n",
              "    <tr>\n",
              "      <th>2021-11-11</th>\n",
              "      <td>0.030514</td>\n",
              "    </tr>\n",
              "    <tr>\n",
              "      <th>2021-11-12</th>\n",
              "      <td>4.012334</td>\n",
              "    </tr>\n",
              "  </tbody>\n",
              "</table>\n",
              "<p>2389 rows × 1 columns</p>\n",
              "</div>"
            ],
            "text/plain": [
              "               Close\n",
              "Date                \n",
              "2012-05-18  0.000000\n",
              "2012-05-21  0.000000\n",
              "2012-05-22 -8.903905\n",
              "2012-05-23  3.225806\n",
              "2012-05-24  3.218746\n",
              "...              ...\n",
              "2021-11-08  0.000000\n",
              "2021-11-09 -0.959778\n",
              "2021-11-10 -2.304911\n",
              "2021-11-11  0.030514\n",
              "2021-11-12  4.012334\n",
              "\n",
              "[2389 rows x 1 columns]"
            ]
          },
          "metadata": {},
          "execution_count": 16
        }
      ]
    },
    {
      "cell_type": "code",
      "metadata": {
        "colab": {
          "base_uri": "https://localhost:8080/",
          "height": 450
        },
        "id": "P4ed004k7GbI",
        "outputId": "795bcfb8-2cf7-4c00-d79f-64dc33ad5fd7"
      },
      "source": [
        "data_nflx = data_nflx.pct_change(freq='D')\n",
        "data_nflx['Close'] *= 100\n",
        "data_nflx['Close'] = data_nflx['Close'].replace(np.nan, 0)\n",
        "data_nflx"
      ],
      "execution_count": null,
      "outputs": [
        {
          "output_type": "execute_result",
          "data": {
            "text/html": [
              "<div>\n",
              "<style scoped>\n",
              "    .dataframe tbody tr th:only-of-type {\n",
              "        vertical-align: middle;\n",
              "    }\n",
              "\n",
              "    .dataframe tbody tr th {\n",
              "        vertical-align: top;\n",
              "    }\n",
              "\n",
              "    .dataframe thead th {\n",
              "        text-align: right;\n",
              "    }\n",
              "</style>\n",
              "<table border=\"1\" class=\"dataframe\">\n",
              "  <thead>\n",
              "    <tr style=\"text-align: right;\">\n",
              "      <th></th>\n",
              "      <th>Close</th>\n",
              "    </tr>\n",
              "    <tr>\n",
              "      <th>Date</th>\n",
              "      <th></th>\n",
              "    </tr>\n",
              "  </thead>\n",
              "  <tbody>\n",
              "    <tr>\n",
              "      <th>2012-01-03</th>\n",
              "      <td>0.000000</td>\n",
              "    </tr>\n",
              "    <tr>\n",
              "      <th>2012-01-04</th>\n",
              "      <td>11.364897</td>\n",
              "    </tr>\n",
              "    <tr>\n",
              "      <th>2012-01-05</th>\n",
              "      <td>-1.429459</td>\n",
              "    </tr>\n",
              "    <tr>\n",
              "      <th>2012-01-06</th>\n",
              "      <td>8.814628</td>\n",
              "    </tr>\n",
              "    <tr>\n",
              "      <th>2012-01-09</th>\n",
              "      <td>0.000000</td>\n",
              "    </tr>\n",
              "    <tr>\n",
              "      <th>...</th>\n",
              "      <td>...</td>\n",
              "    </tr>\n",
              "    <tr>\n",
              "      <th>2021-11-08</th>\n",
              "      <td>0.000000</td>\n",
              "    </tr>\n",
              "    <tr>\n",
              "      <th>2021-11-09</th>\n",
              "      <td>0.696904</td>\n",
              "    </tr>\n",
              "    <tr>\n",
              "      <th>2021-11-10</th>\n",
              "      <td>-1.384170</td>\n",
              "    </tr>\n",
              "    <tr>\n",
              "      <th>2021-11-11</th>\n",
              "      <td>1.649386</td>\n",
              "    </tr>\n",
              "    <tr>\n",
              "      <th>2021-11-12</th>\n",
              "      <td>3.806376</td>\n",
              "    </tr>\n",
              "  </tbody>\n",
              "</table>\n",
              "<p>2484 rows × 1 columns</p>\n",
              "</div>"
            ],
            "text/plain": [
              "                Close\n",
              "Date                 \n",
              "2012-01-03   0.000000\n",
              "2012-01-04  11.364897\n",
              "2012-01-05  -1.429459\n",
              "2012-01-06   8.814628\n",
              "2012-01-09   0.000000\n",
              "...               ...\n",
              "2021-11-08   0.000000\n",
              "2021-11-09   0.696904\n",
              "2021-11-10  -1.384170\n",
              "2021-11-11   1.649386\n",
              "2021-11-12   3.806376\n",
              "\n",
              "[2484 rows x 1 columns]"
            ]
          },
          "metadata": {},
          "execution_count": 17
        }
      ]
    },
    {
      "cell_type": "code",
      "metadata": {
        "colab": {
          "base_uri": "https://localhost:8080/",
          "height": 450
        },
        "id": "OxmMDNaS7WSA",
        "outputId": "8dbaf68b-c731-48ef-a665-e8418e4f4f34"
      },
      "source": [
        "data_goog = data_goog.pct_change(freq='D')\n",
        "data_goog['Close'] *= 100\n",
        "data_goog['Close'] = data_goog['Close'].replace(np.nan, 0)\n",
        "data_goog"
      ],
      "execution_count": null,
      "outputs": [
        {
          "output_type": "execute_result",
          "data": {
            "text/html": [
              "<div>\n",
              "<style scoped>\n",
              "    .dataframe tbody tr th:only-of-type {\n",
              "        vertical-align: middle;\n",
              "    }\n",
              "\n",
              "    .dataframe tbody tr th {\n",
              "        vertical-align: top;\n",
              "    }\n",
              "\n",
              "    .dataframe thead th {\n",
              "        text-align: right;\n",
              "    }\n",
              "</style>\n",
              "<table border=\"1\" class=\"dataframe\">\n",
              "  <thead>\n",
              "    <tr style=\"text-align: right;\">\n",
              "      <th></th>\n",
              "      <th>Close</th>\n",
              "    </tr>\n",
              "    <tr>\n",
              "      <th>Date</th>\n",
              "      <th></th>\n",
              "    </tr>\n",
              "  </thead>\n",
              "  <tbody>\n",
              "    <tr>\n",
              "      <th>2012-01-03</th>\n",
              "      <td>0.000000</td>\n",
              "    </tr>\n",
              "    <tr>\n",
              "      <th>2012-01-04</th>\n",
              "      <td>0.431318</td>\n",
              "    </tr>\n",
              "    <tr>\n",
              "      <th>2012-01-05</th>\n",
              "      <td>-1.387147</td>\n",
              "    </tr>\n",
              "    <tr>\n",
              "      <th>2012-01-06</th>\n",
              "      <td>-1.364166</td>\n",
              "    </tr>\n",
              "    <tr>\n",
              "      <th>2012-01-09</th>\n",
              "      <td>0.000000</td>\n",
              "    </tr>\n",
              "    <tr>\n",
              "      <th>...</th>\n",
              "      <td>...</td>\n",
              "    </tr>\n",
              "    <tr>\n",
              "      <th>2021-11-08</th>\n",
              "      <td>0.000000</td>\n",
              "    </tr>\n",
              "    <tr>\n",
              "      <th>2021-11-09</th>\n",
              "      <td>-0.068967</td>\n",
              "    </tr>\n",
              "    <tr>\n",
              "      <th>2021-11-10</th>\n",
              "      <td>-1.757135</td>\n",
              "    </tr>\n",
              "    <tr>\n",
              "      <th>2021-11-11</th>\n",
              "      <td>0.083203</td>\n",
              "    </tr>\n",
              "    <tr>\n",
              "      <th>2021-11-12</th>\n",
              "      <td>1.974472</td>\n",
              "    </tr>\n",
              "  </tbody>\n",
              "</table>\n",
              "<p>2484 rows × 1 columns</p>\n",
              "</div>"
            ],
            "text/plain": [
              "               Close\n",
              "Date                \n",
              "2012-01-03  0.000000\n",
              "2012-01-04  0.431318\n",
              "2012-01-05 -1.387147\n",
              "2012-01-06 -1.364166\n",
              "2012-01-09  0.000000\n",
              "...              ...\n",
              "2021-11-08  0.000000\n",
              "2021-11-09 -0.068967\n",
              "2021-11-10 -1.757135\n",
              "2021-11-11  0.083203\n",
              "2021-11-12  1.974472\n",
              "\n",
              "[2484 rows x 1 columns]"
            ]
          },
          "metadata": {},
          "execution_count": 18
        }
      ]
    },
    {
      "cell_type": "markdown",
      "metadata": {
        "id": "R0-ELTizYZaG"
      },
      "source": [
        "## 6. Sort % change :"
      ]
    },
    {
      "cell_type": "code",
      "metadata": {
        "colab": {
          "base_uri": "https://localhost:8080/",
          "height": 450
        },
        "id": "66Q6D8KdYdsT",
        "outputId": "98178979-fced-4fe4-b210-85acdbc7f0e7"
      },
      "source": [
        "data_aapl.sort_values('Close', axis=0, ascending=True, inplace=True, kind='quicksort', na_position='last', ignore_index=False, key=None)\n",
        "data_aapl"
      ],
      "execution_count": null,
      "outputs": [
        {
          "output_type": "execute_result",
          "data": {
            "text/html": [
              "<div>\n",
              "<style scoped>\n",
              "    .dataframe tbody tr th:only-of-type {\n",
              "        vertical-align: middle;\n",
              "    }\n",
              "\n",
              "    .dataframe tbody tr th {\n",
              "        vertical-align: top;\n",
              "    }\n",
              "\n",
              "    .dataframe thead th {\n",
              "        text-align: right;\n",
              "    }\n",
              "</style>\n",
              "<table border=\"1\" class=\"dataframe\">\n",
              "  <thead>\n",
              "    <tr style=\"text-align: right;\">\n",
              "      <th></th>\n",
              "      <th>Close</th>\n",
              "    </tr>\n",
              "    <tr>\n",
              "      <th>Date</th>\n",
              "      <th></th>\n",
              "    </tr>\n",
              "  </thead>\n",
              "  <tbody>\n",
              "    <tr>\n",
              "      <th>2013-01-24</th>\n",
              "      <td>-12.355785</td>\n",
              "    </tr>\n",
              "    <tr>\n",
              "      <th>2019-01-03</th>\n",
              "      <td>-9.960737</td>\n",
              "    </tr>\n",
              "    <tr>\n",
              "      <th>2020-03-12</th>\n",
              "      <td>-9.875467</td>\n",
              "    </tr>\n",
              "    <tr>\n",
              "      <th>2020-09-03</th>\n",
              "      <td>-8.006086</td>\n",
              "    </tr>\n",
              "    <tr>\n",
              "      <th>2014-01-28</th>\n",
              "      <td>-7.992723</td>\n",
              "    </tr>\n",
              "    <tr>\n",
              "      <th>...</th>\n",
              "      <td>...</td>\n",
              "    </tr>\n",
              "    <tr>\n",
              "      <th>2014-04-24</th>\n",
              "      <td>8.198189</td>\n",
              "    </tr>\n",
              "    <tr>\n",
              "      <th>2012-04-25</th>\n",
              "      <td>8.874128</td>\n",
              "    </tr>\n",
              "    <tr>\n",
              "      <th>2020-03-24</th>\n",
              "      <td>10.032540</td>\n",
              "    </tr>\n",
              "    <tr>\n",
              "      <th>2020-07-31</th>\n",
              "      <td>10.468863</td>\n",
              "    </tr>\n",
              "    <tr>\n",
              "      <th>2020-03-13</th>\n",
              "      <td>11.980827</td>\n",
              "    </tr>\n",
              "  </tbody>\n",
              "</table>\n",
              "<p>2484 rows × 1 columns</p>\n",
              "</div>"
            ],
            "text/plain": [
              "                Close\n",
              "Date                 \n",
              "2013-01-24 -12.355785\n",
              "2019-01-03  -9.960737\n",
              "2020-03-12  -9.875467\n",
              "2020-09-03  -8.006086\n",
              "2014-01-28  -7.992723\n",
              "...               ...\n",
              "2014-04-24   8.198189\n",
              "2012-04-25   8.874128\n",
              "2020-03-24  10.032540\n",
              "2020-07-31  10.468863\n",
              "2020-03-13  11.980827\n",
              "\n",
              "[2484 rows x 1 columns]"
            ]
          },
          "metadata": {},
          "execution_count": 19
        }
      ]
    },
    {
      "cell_type": "code",
      "metadata": {
        "colab": {
          "base_uri": "https://localhost:8080/",
          "height": 450
        },
        "id": "eYXXM2DB-nHL",
        "outputId": "aefb5e08-a3ff-45f8-f10e-bbfeed2c4212"
      },
      "source": [
        "data_amzn.sort_values('Close', axis=0, ascending=True, inplace=True, kind='quicksort', na_position='last', ignore_index=False, key=None)\n",
        "data_amzn"
      ],
      "execution_count": null,
      "outputs": [
        {
          "output_type": "execute_result",
          "data": {
            "text/html": [
              "<div>\n",
              "<style scoped>\n",
              "    .dataframe tbody tr th:only-of-type {\n",
              "        vertical-align: middle;\n",
              "    }\n",
              "\n",
              "    .dataframe tbody tr th {\n",
              "        vertical-align: top;\n",
              "    }\n",
              "\n",
              "    .dataframe thead th {\n",
              "        text-align: right;\n",
              "    }\n",
              "</style>\n",
              "<table border=\"1\" class=\"dataframe\">\n",
              "  <thead>\n",
              "    <tr style=\"text-align: right;\">\n",
              "      <th></th>\n",
              "      <th>Close</th>\n",
              "    </tr>\n",
              "    <tr>\n",
              "      <th>Date</th>\n",
              "      <th></th>\n",
              "    </tr>\n",
              "  </thead>\n",
              "  <tbody>\n",
              "    <tr>\n",
              "      <th>2014-01-31</th>\n",
              "      <td>-10.997247</td>\n",
              "    </tr>\n",
              "    <tr>\n",
              "      <th>2014-04-25</th>\n",
              "      <td>-9.882844</td>\n",
              "    </tr>\n",
              "    <tr>\n",
              "      <th>2014-07-25</th>\n",
              "      <td>-9.648358</td>\n",
              "    </tr>\n",
              "    <tr>\n",
              "      <th>2014-10-24</th>\n",
              "      <td>-8.340250</td>\n",
              "    </tr>\n",
              "    <tr>\n",
              "      <th>2020-03-12</th>\n",
              "      <td>-7.922081</td>\n",
              "    </tr>\n",
              "    <tr>\n",
              "      <th>...</th>\n",
              "      <td>...</td>\n",
              "    </tr>\n",
              "    <tr>\n",
              "      <th>2015-07-24</th>\n",
              "      <td>9.797169</td>\n",
              "    </tr>\n",
              "    <tr>\n",
              "      <th>2017-10-27</th>\n",
              "      <td>13.216371</td>\n",
              "    </tr>\n",
              "    <tr>\n",
              "      <th>2015-01-30</th>\n",
              "      <td>13.711592</td>\n",
              "    </tr>\n",
              "    <tr>\n",
              "      <th>2015-04-24</th>\n",
              "      <td>14.131136</td>\n",
              "    </tr>\n",
              "    <tr>\n",
              "      <th>2012-04-27</th>\n",
              "      <td>15.745701</td>\n",
              "    </tr>\n",
              "  </tbody>\n",
              "</table>\n",
              "<p>2484 rows × 1 columns</p>\n",
              "</div>"
            ],
            "text/plain": [
              "                Close\n",
              "Date                 \n",
              "2014-01-31 -10.997247\n",
              "2014-04-25  -9.882844\n",
              "2014-07-25  -9.648358\n",
              "2014-10-24  -8.340250\n",
              "2020-03-12  -7.922081\n",
              "...               ...\n",
              "2015-07-24   9.797169\n",
              "2017-10-27  13.216371\n",
              "2015-01-30  13.711592\n",
              "2015-04-24  14.131136\n",
              "2012-04-27  15.745701\n",
              "\n",
              "[2484 rows x 1 columns]"
            ]
          },
          "metadata": {},
          "execution_count": 20
        }
      ]
    },
    {
      "cell_type": "code",
      "metadata": {
        "colab": {
          "base_uri": "https://localhost:8080/",
          "height": 450
        },
        "id": "8S3lPloz-slC",
        "outputId": "1b842c09-4e63-4fb6-88da-962658d8e046"
      },
      "source": [
        "data_fb.sort_values('Close', axis=0, ascending=True, inplace=True, kind='quicksort', na_position='last', ignore_index=False, key=None)\n",
        "data_fb"
      ],
      "execution_count": null,
      "outputs": [
        {
          "output_type": "execute_result",
          "data": {
            "text/html": [
              "<div>\n",
              "<style scoped>\n",
              "    .dataframe tbody tr th:only-of-type {\n",
              "        vertical-align: middle;\n",
              "    }\n",
              "\n",
              "    .dataframe tbody tr th {\n",
              "        vertical-align: top;\n",
              "    }\n",
              "\n",
              "    .dataframe thead th {\n",
              "        text-align: right;\n",
              "    }\n",
              "</style>\n",
              "<table border=\"1\" class=\"dataframe\">\n",
              "  <thead>\n",
              "    <tr style=\"text-align: right;\">\n",
              "      <th></th>\n",
              "      <th>Close</th>\n",
              "    </tr>\n",
              "    <tr>\n",
              "      <th>Date</th>\n",
              "      <th></th>\n",
              "    </tr>\n",
              "  </thead>\n",
              "  <tbody>\n",
              "    <tr>\n",
              "      <th>2018-07-26</th>\n",
              "      <td>-18.960922</td>\n",
              "    </tr>\n",
              "    <tr>\n",
              "      <th>2012-07-27</th>\n",
              "      <td>-11.694604</td>\n",
              "    </tr>\n",
              "    <tr>\n",
              "      <th>2020-03-12</th>\n",
              "      <td>-9.263395</td>\n",
              "    </tr>\n",
              "    <tr>\n",
              "      <th>2012-05-22</th>\n",
              "      <td>-8.903905</td>\n",
              "    </tr>\n",
              "    <tr>\n",
              "      <th>2012-07-26</th>\n",
              "      <td>-8.486707</td>\n",
              "    </tr>\n",
              "    <tr>\n",
              "      <th>...</th>\n",
              "      <td>...</td>\n",
              "    </tr>\n",
              "    <tr>\n",
              "      <th>2012-11-14</th>\n",
              "      <td>12.588116</td>\n",
              "    </tr>\n",
              "    <tr>\n",
              "      <th>2014-01-30</th>\n",
              "      <td>14.104247</td>\n",
              "    </tr>\n",
              "    <tr>\n",
              "      <th>2016-01-28</th>\n",
              "      <td>15.521444</td>\n",
              "    </tr>\n",
              "    <tr>\n",
              "      <th>2012-10-24</th>\n",
              "      <td>19.128203</td>\n",
              "    </tr>\n",
              "    <tr>\n",
              "      <th>2013-07-25</th>\n",
              "      <td>29.611469</td>\n",
              "    </tr>\n",
              "  </tbody>\n",
              "</table>\n",
              "<p>2389 rows × 1 columns</p>\n",
              "</div>"
            ],
            "text/plain": [
              "                Close\n",
              "Date                 \n",
              "2018-07-26 -18.960922\n",
              "2012-07-27 -11.694604\n",
              "2020-03-12  -9.263395\n",
              "2012-05-22  -8.903905\n",
              "2012-07-26  -8.486707\n",
              "...               ...\n",
              "2012-11-14  12.588116\n",
              "2014-01-30  14.104247\n",
              "2016-01-28  15.521444\n",
              "2012-10-24  19.128203\n",
              "2013-07-25  29.611469\n",
              "\n",
              "[2389 rows x 1 columns]"
            ]
          },
          "metadata": {},
          "execution_count": 21
        }
      ]
    },
    {
      "cell_type": "code",
      "metadata": {
        "colab": {
          "base_uri": "https://localhost:8080/",
          "height": 450
        },
        "id": "mo9crLdB-wDK",
        "outputId": "d9ebf3ae-7b6b-4f73-efc9-1165e57001fe"
      },
      "source": [
        "data_nflx.sort_values('Close', axis=0, ascending=True, inplace=True, kind='quicksort', na_position='last', ignore_index=False, key=None)\n",
        "data_nflx"
      ],
      "execution_count": null,
      "outputs": [
        {
          "output_type": "execute_result",
          "data": {
            "text/html": [
              "<div>\n",
              "<style scoped>\n",
              "    .dataframe tbody tr th:only-of-type {\n",
              "        vertical-align: middle;\n",
              "    }\n",
              "\n",
              "    .dataframe tbody tr th {\n",
              "        vertical-align: top;\n",
              "    }\n",
              "\n",
              "    .dataframe thead th {\n",
              "        text-align: right;\n",
              "    }\n",
              "</style>\n",
              "<table border=\"1\" class=\"dataframe\">\n",
              "  <thead>\n",
              "    <tr style=\"text-align: right;\">\n",
              "      <th></th>\n",
              "      <th>Close</th>\n",
              "    </tr>\n",
              "    <tr>\n",
              "      <th>Date</th>\n",
              "      <th></th>\n",
              "    </tr>\n",
              "  </thead>\n",
              "  <tbody>\n",
              "    <tr>\n",
              "      <th>2012-07-25</th>\n",
              "      <td>-25.015547</td>\n",
              "    </tr>\n",
              "    <tr>\n",
              "      <th>2014-10-16</th>\n",
              "      <td>-19.369585</td>\n",
              "    </tr>\n",
              "    <tr>\n",
              "      <th>2012-04-24</th>\n",
              "      <td>-13.904161</td>\n",
              "    </tr>\n",
              "    <tr>\n",
              "      <th>2016-07-19</th>\n",
              "      <td>-13.126203</td>\n",
              "    </tr>\n",
              "    <tr>\n",
              "      <th>2016-04-19</th>\n",
              "      <td>-12.970484</td>\n",
              "    </tr>\n",
              "    <tr>\n",
              "      <th>...</th>\n",
              "      <td>...</td>\n",
              "    </tr>\n",
              "    <tr>\n",
              "      <th>2015-04-16</th>\n",
              "      <td>18.211829</td>\n",
              "    </tr>\n",
              "    <tr>\n",
              "      <th>2016-10-18</th>\n",
              "      <td>19.028053</td>\n",
              "    </tr>\n",
              "    <tr>\n",
              "      <th>2012-01-26</th>\n",
              "      <td>22.064393</td>\n",
              "    </tr>\n",
              "    <tr>\n",
              "      <th>2013-04-23</th>\n",
              "      <td>24.442279</td>\n",
              "    </tr>\n",
              "    <tr>\n",
              "      <th>2013-01-24</th>\n",
              "      <td>42.223510</td>\n",
              "    </tr>\n",
              "  </tbody>\n",
              "</table>\n",
              "<p>2484 rows × 1 columns</p>\n",
              "</div>"
            ],
            "text/plain": [
              "                Close\n",
              "Date                 \n",
              "2012-07-25 -25.015547\n",
              "2014-10-16 -19.369585\n",
              "2012-04-24 -13.904161\n",
              "2016-07-19 -13.126203\n",
              "2016-04-19 -12.970484\n",
              "...               ...\n",
              "2015-04-16  18.211829\n",
              "2016-10-18  19.028053\n",
              "2012-01-26  22.064393\n",
              "2013-04-23  24.442279\n",
              "2013-01-24  42.223510\n",
              "\n",
              "[2484 rows x 1 columns]"
            ]
          },
          "metadata": {},
          "execution_count": 22
        }
      ]
    },
    {
      "cell_type": "code",
      "metadata": {
        "colab": {
          "base_uri": "https://localhost:8080/",
          "height": 450
        },
        "id": "BWqQm924-1c9",
        "outputId": "a077f322-1584-400a-98ac-3e147bbb01c0"
      },
      "source": [
        "data_goog.sort_values('Close', axis=0, ascending=True, inplace=True, kind='quicksort', na_position='last', ignore_index=False, key=None)\n",
        "data_goog"
      ],
      "execution_count": null,
      "outputs": [
        {
          "output_type": "execute_result",
          "data": {
            "text/html": [
              "<div>\n",
              "<style scoped>\n",
              "    .dataframe tbody tr th:only-of-type {\n",
              "        vertical-align: middle;\n",
              "    }\n",
              "\n",
              "    .dataframe tbody tr th {\n",
              "        vertical-align: top;\n",
              "    }\n",
              "\n",
              "    .dataframe thead th {\n",
              "        text-align: right;\n",
              "    }\n",
              "</style>\n",
              "<table border=\"1\" class=\"dataframe\">\n",
              "  <thead>\n",
              "    <tr style=\"text-align: right;\">\n",
              "      <th></th>\n",
              "      <th>Close</th>\n",
              "    </tr>\n",
              "    <tr>\n",
              "      <th>Date</th>\n",
              "      <th></th>\n",
              "    </tr>\n",
              "  </thead>\n",
              "  <tbody>\n",
              "    <tr>\n",
              "      <th>2012-01-20</th>\n",
              "      <td>-8.377507</td>\n",
              "    </tr>\n",
              "    <tr>\n",
              "      <th>2020-03-12</th>\n",
              "      <td>-8.268814</td>\n",
              "    </tr>\n",
              "    <tr>\n",
              "      <th>2012-10-18</th>\n",
              "      <td>-8.006722</td>\n",
              "    </tr>\n",
              "    <tr>\n",
              "      <th>2019-04-30</th>\n",
              "      <td>-7.696608</td>\n",
              "    </tr>\n",
              "    <tr>\n",
              "      <th>2020-06-26</th>\n",
              "      <td>-5.649638</td>\n",
              "    </tr>\n",
              "    <tr>\n",
              "      <th>...</th>\n",
              "      <td>...</td>\n",
              "    </tr>\n",
              "    <tr>\n",
              "      <th>2020-04-29</th>\n",
              "      <td>8.738960</td>\n",
              "    </tr>\n",
              "    <tr>\n",
              "      <th>2020-03-13</th>\n",
              "      <td>9.401651</td>\n",
              "    </tr>\n",
              "    <tr>\n",
              "      <th>2019-07-26</th>\n",
              "      <td>10.448543</td>\n",
              "    </tr>\n",
              "    <tr>\n",
              "      <th>2013-10-18</th>\n",
              "      <td>13.796286</td>\n",
              "    </tr>\n",
              "    <tr>\n",
              "      <th>2015-07-17</th>\n",
              "      <td>16.052431</td>\n",
              "    </tr>\n",
              "  </tbody>\n",
              "</table>\n",
              "<p>2484 rows × 1 columns</p>\n",
              "</div>"
            ],
            "text/plain": [
              "                Close\n",
              "Date                 \n",
              "2012-01-20  -8.377507\n",
              "2020-03-12  -8.268814\n",
              "2012-10-18  -8.006722\n",
              "2019-04-30  -7.696608\n",
              "2020-06-26  -5.649638\n",
              "...               ...\n",
              "2020-04-29   8.738960\n",
              "2020-03-13   9.401651\n",
              "2019-07-26  10.448543\n",
              "2013-10-18  13.796286\n",
              "2015-07-17  16.052431\n",
              "\n",
              "[2484 rows x 1 columns]"
            ]
          },
          "metadata": {},
          "execution_count": 23
        }
      ]
    },
    {
      "cell_type": "markdown",
      "metadata": {
        "id": "6DoLUv-mcaWq"
      },
      "source": [
        "## 7. Find Cummulative distribution of data values :"
      ]
    },
    {
      "cell_type": "code",
      "metadata": {
        "colab": {
          "base_uri": "https://localhost:8080/"
        },
        "id": "NfYDVmT2hTbz",
        "outputId": "b4f1d40f-ddea-4d85-92f0-0445b1bb6ccc"
      },
      "source": [
        "n1 = len(data_aapl.axes[0])\n",
        "n1"
      ],
      "execution_count": null,
      "outputs": [
        {
          "output_type": "execute_result",
          "data": {
            "text/plain": [
              "2484"
            ]
          },
          "metadata": {},
          "execution_count": 24
        }
      ]
    },
    {
      "cell_type": "code",
      "metadata": {
        "colab": {
          "base_uri": "https://localhost:8080/"
        },
        "id": "4Ime6f_E_KyQ",
        "outputId": "8f81ed80-07ea-4e1d-a3c4-81c8d4e78571"
      },
      "source": [
        "n2 = len(data_amzn.axes[0])\n",
        "n2"
      ],
      "execution_count": null,
      "outputs": [
        {
          "output_type": "execute_result",
          "data": {
            "text/plain": [
              "2484"
            ]
          },
          "metadata": {},
          "execution_count": 25
        }
      ]
    },
    {
      "cell_type": "code",
      "metadata": {
        "colab": {
          "base_uri": "https://localhost:8080/"
        },
        "id": "TSPEtnmv_Pyy",
        "outputId": "86d12ba8-a91c-4e1c-b61b-622f7f9d1394"
      },
      "source": [
        "n3 = len(data_fb.axes[0])\n",
        "n3"
      ],
      "execution_count": null,
      "outputs": [
        {
          "output_type": "execute_result",
          "data": {
            "text/plain": [
              "2389"
            ]
          },
          "metadata": {},
          "execution_count": 26
        }
      ]
    },
    {
      "cell_type": "code",
      "metadata": {
        "colab": {
          "base_uri": "https://localhost:8080/"
        },
        "id": "8JQ3bzXJ_UHS",
        "outputId": "c43d971e-9cbd-473a-df8d-71c46de99111"
      },
      "source": [
        "n4 = len(data_nflx.axes[0])\n",
        "n4"
      ],
      "execution_count": null,
      "outputs": [
        {
          "output_type": "execute_result",
          "data": {
            "text/plain": [
              "2484"
            ]
          },
          "metadata": {},
          "execution_count": 27
        }
      ]
    },
    {
      "cell_type": "code",
      "metadata": {
        "colab": {
          "base_uri": "https://localhost:8080/"
        },
        "id": "Pit9hb-3_Xsr",
        "outputId": "f0cc16fc-7c80-45df-e93e-e1f32356321e"
      },
      "source": [
        "n5 = len(data_goog.axes[0])\n",
        "n5"
      ],
      "execution_count": null,
      "outputs": [
        {
          "output_type": "execute_result",
          "data": {
            "text/plain": [
              "2484"
            ]
          },
          "metadata": {},
          "execution_count": 28
        }
      ]
    },
    {
      "cell_type": "code",
      "metadata": {
        "id": "72VpWEp4ciIH"
      },
      "source": [
        "cumm_count1 = []\n",
        "for i in range(n1):\n",
        "  cumm_count1.append(i+1)\n",
        "\n",
        "cumm_count2 = []\n",
        "for i in range(n2):\n",
        "  cumm_count2.append(i+1)\n",
        "\n",
        "cumm_count3 = []\n",
        "for i in range(n3):\n",
        "  cumm_count3.append(i+1)\n",
        "\n",
        "cumm_count4 = []\n",
        "for i in range(n4):\n",
        "  cumm_count4.append(i+1)\n",
        "\n",
        "cumm_count5 = []\n",
        "for i in range(n5):\n",
        "  cumm_count5.append(i+1)"
      ],
      "execution_count": null,
      "outputs": []
    },
    {
      "cell_type": "code",
      "metadata": {
        "id": "LQ3GzUZ4-v1_"
      },
      "source": [
        "for i in range(n1):\n",
        "  cumm_count1[i] = cumm_count1[i] / n1\n",
        "\n",
        "for i in range(n2):\n",
        "  cumm_count2[i] = cumm_count2[i] / n2\n",
        "\n",
        "for i in range(n3):\n",
        "  cumm_count3[i] = cumm_count3[i] / n3\n",
        "\n",
        "for i in range(n4):\n",
        "  cumm_count4[i] = cumm_count4[i] / n4\n",
        "\n",
        "for i in range(n5):\n",
        "  cumm_count5[i] = cumm_count5[i] / n5"
      ],
      "execution_count": null,
      "outputs": []
    },
    {
      "cell_type": "code",
      "metadata": {
        "colab": {
          "base_uri": "https://localhost:8080/",
          "height": 450
        },
        "id": "zdOjJ_yl_PPl",
        "outputId": "d5cff4b4-aaf3-4d60-a8b9-e74bbe0ed43a"
      },
      "source": [
        "data_aapl['cumm_dist'] = cumm_count1\n",
        "data_aapl"
      ],
      "execution_count": null,
      "outputs": [
        {
          "output_type": "execute_result",
          "data": {
            "text/html": [
              "<div>\n",
              "<style scoped>\n",
              "    .dataframe tbody tr th:only-of-type {\n",
              "        vertical-align: middle;\n",
              "    }\n",
              "\n",
              "    .dataframe tbody tr th {\n",
              "        vertical-align: top;\n",
              "    }\n",
              "\n",
              "    .dataframe thead th {\n",
              "        text-align: right;\n",
              "    }\n",
              "</style>\n",
              "<table border=\"1\" class=\"dataframe\">\n",
              "  <thead>\n",
              "    <tr style=\"text-align: right;\">\n",
              "      <th></th>\n",
              "      <th>Close</th>\n",
              "      <th>cumm_dist</th>\n",
              "    </tr>\n",
              "    <tr>\n",
              "      <th>Date</th>\n",
              "      <th></th>\n",
              "      <th></th>\n",
              "    </tr>\n",
              "  </thead>\n",
              "  <tbody>\n",
              "    <tr>\n",
              "      <th>2013-01-24</th>\n",
              "      <td>-12.355785</td>\n",
              "      <td>0.000403</td>\n",
              "    </tr>\n",
              "    <tr>\n",
              "      <th>2019-01-03</th>\n",
              "      <td>-9.960737</td>\n",
              "      <td>0.000805</td>\n",
              "    </tr>\n",
              "    <tr>\n",
              "      <th>2020-03-12</th>\n",
              "      <td>-9.875467</td>\n",
              "      <td>0.001208</td>\n",
              "    </tr>\n",
              "    <tr>\n",
              "      <th>2020-09-03</th>\n",
              "      <td>-8.006086</td>\n",
              "      <td>0.001610</td>\n",
              "    </tr>\n",
              "    <tr>\n",
              "      <th>2014-01-28</th>\n",
              "      <td>-7.992723</td>\n",
              "      <td>0.002013</td>\n",
              "    </tr>\n",
              "    <tr>\n",
              "      <th>...</th>\n",
              "      <td>...</td>\n",
              "      <td>...</td>\n",
              "    </tr>\n",
              "    <tr>\n",
              "      <th>2014-04-24</th>\n",
              "      <td>8.198189</td>\n",
              "      <td>0.998390</td>\n",
              "    </tr>\n",
              "    <tr>\n",
              "      <th>2012-04-25</th>\n",
              "      <td>8.874128</td>\n",
              "      <td>0.998792</td>\n",
              "    </tr>\n",
              "    <tr>\n",
              "      <th>2020-03-24</th>\n",
              "      <td>10.032540</td>\n",
              "      <td>0.999195</td>\n",
              "    </tr>\n",
              "    <tr>\n",
              "      <th>2020-07-31</th>\n",
              "      <td>10.468863</td>\n",
              "      <td>0.999597</td>\n",
              "    </tr>\n",
              "    <tr>\n",
              "      <th>2020-03-13</th>\n",
              "      <td>11.980827</td>\n",
              "      <td>1.000000</td>\n",
              "    </tr>\n",
              "  </tbody>\n",
              "</table>\n",
              "<p>2484 rows × 2 columns</p>\n",
              "</div>"
            ],
            "text/plain": [
              "                Close  cumm_dist\n",
              "Date                            \n",
              "2013-01-24 -12.355785   0.000403\n",
              "2019-01-03  -9.960737   0.000805\n",
              "2020-03-12  -9.875467   0.001208\n",
              "2020-09-03  -8.006086   0.001610\n",
              "2014-01-28  -7.992723   0.002013\n",
              "...               ...        ...\n",
              "2014-04-24   8.198189   0.998390\n",
              "2012-04-25   8.874128   0.998792\n",
              "2020-03-24  10.032540   0.999195\n",
              "2020-07-31  10.468863   0.999597\n",
              "2020-03-13  11.980827   1.000000\n",
              "\n",
              "[2484 rows x 2 columns]"
            ]
          },
          "metadata": {},
          "execution_count": 31
        }
      ]
    },
    {
      "cell_type": "code",
      "metadata": {
        "colab": {
          "base_uri": "https://localhost:8080/",
          "height": 450
        },
        "id": "cHZmg3PhCaYl",
        "outputId": "736ddf2e-d4a0-4d3f-f9dc-64c073a66ddd"
      },
      "source": [
        "data_amzn['cumm_dist'] = cumm_count2\n",
        "data_amzn"
      ],
      "execution_count": null,
      "outputs": [
        {
          "output_type": "execute_result",
          "data": {
            "text/html": [
              "<div>\n",
              "<style scoped>\n",
              "    .dataframe tbody tr th:only-of-type {\n",
              "        vertical-align: middle;\n",
              "    }\n",
              "\n",
              "    .dataframe tbody tr th {\n",
              "        vertical-align: top;\n",
              "    }\n",
              "\n",
              "    .dataframe thead th {\n",
              "        text-align: right;\n",
              "    }\n",
              "</style>\n",
              "<table border=\"1\" class=\"dataframe\">\n",
              "  <thead>\n",
              "    <tr style=\"text-align: right;\">\n",
              "      <th></th>\n",
              "      <th>Close</th>\n",
              "      <th>cumm_dist</th>\n",
              "    </tr>\n",
              "    <tr>\n",
              "      <th>Date</th>\n",
              "      <th></th>\n",
              "      <th></th>\n",
              "    </tr>\n",
              "  </thead>\n",
              "  <tbody>\n",
              "    <tr>\n",
              "      <th>2014-01-31</th>\n",
              "      <td>-10.997247</td>\n",
              "      <td>0.000403</td>\n",
              "    </tr>\n",
              "    <tr>\n",
              "      <th>2014-04-25</th>\n",
              "      <td>-9.882844</td>\n",
              "      <td>0.000805</td>\n",
              "    </tr>\n",
              "    <tr>\n",
              "      <th>2014-07-25</th>\n",
              "      <td>-9.648358</td>\n",
              "      <td>0.001208</td>\n",
              "    </tr>\n",
              "    <tr>\n",
              "      <th>2014-10-24</th>\n",
              "      <td>-8.340250</td>\n",
              "      <td>0.001610</td>\n",
              "    </tr>\n",
              "    <tr>\n",
              "      <th>2020-03-12</th>\n",
              "      <td>-7.922081</td>\n",
              "      <td>0.002013</td>\n",
              "    </tr>\n",
              "    <tr>\n",
              "      <th>...</th>\n",
              "      <td>...</td>\n",
              "      <td>...</td>\n",
              "    </tr>\n",
              "    <tr>\n",
              "      <th>2015-07-24</th>\n",
              "      <td>9.797169</td>\n",
              "      <td>0.998390</td>\n",
              "    </tr>\n",
              "    <tr>\n",
              "      <th>2017-10-27</th>\n",
              "      <td>13.216371</td>\n",
              "      <td>0.998792</td>\n",
              "    </tr>\n",
              "    <tr>\n",
              "      <th>2015-01-30</th>\n",
              "      <td>13.711592</td>\n",
              "      <td>0.999195</td>\n",
              "    </tr>\n",
              "    <tr>\n",
              "      <th>2015-04-24</th>\n",
              "      <td>14.131136</td>\n",
              "      <td>0.999597</td>\n",
              "    </tr>\n",
              "    <tr>\n",
              "      <th>2012-04-27</th>\n",
              "      <td>15.745701</td>\n",
              "      <td>1.000000</td>\n",
              "    </tr>\n",
              "  </tbody>\n",
              "</table>\n",
              "<p>2484 rows × 2 columns</p>\n",
              "</div>"
            ],
            "text/plain": [
              "                Close  cumm_dist\n",
              "Date                            \n",
              "2014-01-31 -10.997247   0.000403\n",
              "2014-04-25  -9.882844   0.000805\n",
              "2014-07-25  -9.648358   0.001208\n",
              "2014-10-24  -8.340250   0.001610\n",
              "2020-03-12  -7.922081   0.002013\n",
              "...               ...        ...\n",
              "2015-07-24   9.797169   0.998390\n",
              "2017-10-27  13.216371   0.998792\n",
              "2015-01-30  13.711592   0.999195\n",
              "2015-04-24  14.131136   0.999597\n",
              "2012-04-27  15.745701   1.000000\n",
              "\n",
              "[2484 rows x 2 columns]"
            ]
          },
          "metadata": {},
          "execution_count": 32
        }
      ]
    },
    {
      "cell_type": "code",
      "metadata": {
        "colab": {
          "base_uri": "https://localhost:8080/",
          "height": 450
        },
        "id": "4rdlDkgQChI4",
        "outputId": "9be1e62c-0790-47c5-f754-fa06ca0b0229"
      },
      "source": [
        "data_fb['cumm_dist'] = cumm_count3\n",
        "data_fb"
      ],
      "execution_count": null,
      "outputs": [
        {
          "output_type": "execute_result",
          "data": {
            "text/html": [
              "<div>\n",
              "<style scoped>\n",
              "    .dataframe tbody tr th:only-of-type {\n",
              "        vertical-align: middle;\n",
              "    }\n",
              "\n",
              "    .dataframe tbody tr th {\n",
              "        vertical-align: top;\n",
              "    }\n",
              "\n",
              "    .dataframe thead th {\n",
              "        text-align: right;\n",
              "    }\n",
              "</style>\n",
              "<table border=\"1\" class=\"dataframe\">\n",
              "  <thead>\n",
              "    <tr style=\"text-align: right;\">\n",
              "      <th></th>\n",
              "      <th>Close</th>\n",
              "      <th>cumm_dist</th>\n",
              "    </tr>\n",
              "    <tr>\n",
              "      <th>Date</th>\n",
              "      <th></th>\n",
              "      <th></th>\n",
              "    </tr>\n",
              "  </thead>\n",
              "  <tbody>\n",
              "    <tr>\n",
              "      <th>2018-07-26</th>\n",
              "      <td>-18.960922</td>\n",
              "      <td>0.000419</td>\n",
              "    </tr>\n",
              "    <tr>\n",
              "      <th>2012-07-27</th>\n",
              "      <td>-11.694604</td>\n",
              "      <td>0.000837</td>\n",
              "    </tr>\n",
              "    <tr>\n",
              "      <th>2020-03-12</th>\n",
              "      <td>-9.263395</td>\n",
              "      <td>0.001256</td>\n",
              "    </tr>\n",
              "    <tr>\n",
              "      <th>2012-05-22</th>\n",
              "      <td>-8.903905</td>\n",
              "      <td>0.001674</td>\n",
              "    </tr>\n",
              "    <tr>\n",
              "      <th>2012-07-26</th>\n",
              "      <td>-8.486707</td>\n",
              "      <td>0.002093</td>\n",
              "    </tr>\n",
              "    <tr>\n",
              "      <th>...</th>\n",
              "      <td>...</td>\n",
              "      <td>...</td>\n",
              "    </tr>\n",
              "    <tr>\n",
              "      <th>2012-11-14</th>\n",
              "      <td>12.588116</td>\n",
              "      <td>0.998326</td>\n",
              "    </tr>\n",
              "    <tr>\n",
              "      <th>2014-01-30</th>\n",
              "      <td>14.104247</td>\n",
              "      <td>0.998744</td>\n",
              "    </tr>\n",
              "    <tr>\n",
              "      <th>2016-01-28</th>\n",
              "      <td>15.521444</td>\n",
              "      <td>0.999163</td>\n",
              "    </tr>\n",
              "    <tr>\n",
              "      <th>2012-10-24</th>\n",
              "      <td>19.128203</td>\n",
              "      <td>0.999581</td>\n",
              "    </tr>\n",
              "    <tr>\n",
              "      <th>2013-07-25</th>\n",
              "      <td>29.611469</td>\n",
              "      <td>1.000000</td>\n",
              "    </tr>\n",
              "  </tbody>\n",
              "</table>\n",
              "<p>2389 rows × 2 columns</p>\n",
              "</div>"
            ],
            "text/plain": [
              "                Close  cumm_dist\n",
              "Date                            \n",
              "2018-07-26 -18.960922   0.000419\n",
              "2012-07-27 -11.694604   0.000837\n",
              "2020-03-12  -9.263395   0.001256\n",
              "2012-05-22  -8.903905   0.001674\n",
              "2012-07-26  -8.486707   0.002093\n",
              "...               ...        ...\n",
              "2012-11-14  12.588116   0.998326\n",
              "2014-01-30  14.104247   0.998744\n",
              "2016-01-28  15.521444   0.999163\n",
              "2012-10-24  19.128203   0.999581\n",
              "2013-07-25  29.611469   1.000000\n",
              "\n",
              "[2389 rows x 2 columns]"
            ]
          },
          "metadata": {},
          "execution_count": 33
        }
      ]
    },
    {
      "cell_type": "code",
      "metadata": {
        "colab": {
          "base_uri": "https://localhost:8080/",
          "height": 450
        },
        "id": "fyGmFKLoClZj",
        "outputId": "b2f31133-3d05-42bf-db61-46d4dff8af9c"
      },
      "source": [
        "data_nflx['cumm_dist'] = cumm_count4\n",
        "data_nflx"
      ],
      "execution_count": null,
      "outputs": [
        {
          "output_type": "execute_result",
          "data": {
            "text/html": [
              "<div>\n",
              "<style scoped>\n",
              "    .dataframe tbody tr th:only-of-type {\n",
              "        vertical-align: middle;\n",
              "    }\n",
              "\n",
              "    .dataframe tbody tr th {\n",
              "        vertical-align: top;\n",
              "    }\n",
              "\n",
              "    .dataframe thead th {\n",
              "        text-align: right;\n",
              "    }\n",
              "</style>\n",
              "<table border=\"1\" class=\"dataframe\">\n",
              "  <thead>\n",
              "    <tr style=\"text-align: right;\">\n",
              "      <th></th>\n",
              "      <th>Close</th>\n",
              "      <th>cumm_dist</th>\n",
              "    </tr>\n",
              "    <tr>\n",
              "      <th>Date</th>\n",
              "      <th></th>\n",
              "      <th></th>\n",
              "    </tr>\n",
              "  </thead>\n",
              "  <tbody>\n",
              "    <tr>\n",
              "      <th>2012-07-25</th>\n",
              "      <td>-25.015547</td>\n",
              "      <td>0.000403</td>\n",
              "    </tr>\n",
              "    <tr>\n",
              "      <th>2014-10-16</th>\n",
              "      <td>-19.369585</td>\n",
              "      <td>0.000805</td>\n",
              "    </tr>\n",
              "    <tr>\n",
              "      <th>2012-04-24</th>\n",
              "      <td>-13.904161</td>\n",
              "      <td>0.001208</td>\n",
              "    </tr>\n",
              "    <tr>\n",
              "      <th>2016-07-19</th>\n",
              "      <td>-13.126203</td>\n",
              "      <td>0.001610</td>\n",
              "    </tr>\n",
              "    <tr>\n",
              "      <th>2016-04-19</th>\n",
              "      <td>-12.970484</td>\n",
              "      <td>0.002013</td>\n",
              "    </tr>\n",
              "    <tr>\n",
              "      <th>...</th>\n",
              "      <td>...</td>\n",
              "      <td>...</td>\n",
              "    </tr>\n",
              "    <tr>\n",
              "      <th>2015-04-16</th>\n",
              "      <td>18.211829</td>\n",
              "      <td>0.998390</td>\n",
              "    </tr>\n",
              "    <tr>\n",
              "      <th>2016-10-18</th>\n",
              "      <td>19.028053</td>\n",
              "      <td>0.998792</td>\n",
              "    </tr>\n",
              "    <tr>\n",
              "      <th>2012-01-26</th>\n",
              "      <td>22.064393</td>\n",
              "      <td>0.999195</td>\n",
              "    </tr>\n",
              "    <tr>\n",
              "      <th>2013-04-23</th>\n",
              "      <td>24.442279</td>\n",
              "      <td>0.999597</td>\n",
              "    </tr>\n",
              "    <tr>\n",
              "      <th>2013-01-24</th>\n",
              "      <td>42.223510</td>\n",
              "      <td>1.000000</td>\n",
              "    </tr>\n",
              "  </tbody>\n",
              "</table>\n",
              "<p>2484 rows × 2 columns</p>\n",
              "</div>"
            ],
            "text/plain": [
              "                Close  cumm_dist\n",
              "Date                            \n",
              "2012-07-25 -25.015547   0.000403\n",
              "2014-10-16 -19.369585   0.000805\n",
              "2012-04-24 -13.904161   0.001208\n",
              "2016-07-19 -13.126203   0.001610\n",
              "2016-04-19 -12.970484   0.002013\n",
              "...               ...        ...\n",
              "2015-04-16  18.211829   0.998390\n",
              "2016-10-18  19.028053   0.998792\n",
              "2012-01-26  22.064393   0.999195\n",
              "2013-04-23  24.442279   0.999597\n",
              "2013-01-24  42.223510   1.000000\n",
              "\n",
              "[2484 rows x 2 columns]"
            ]
          },
          "metadata": {},
          "execution_count": 34
        }
      ]
    },
    {
      "cell_type": "code",
      "metadata": {
        "colab": {
          "base_uri": "https://localhost:8080/",
          "height": 450
        },
        "id": "CX_JuAXpCp-4",
        "outputId": "c19c9d81-0d31-486f-e831-8d795b09bb2a"
      },
      "source": [
        "data_goog['cumm_dist'] = cumm_count5\n",
        "data_goog"
      ],
      "execution_count": null,
      "outputs": [
        {
          "output_type": "execute_result",
          "data": {
            "text/html": [
              "<div>\n",
              "<style scoped>\n",
              "    .dataframe tbody tr th:only-of-type {\n",
              "        vertical-align: middle;\n",
              "    }\n",
              "\n",
              "    .dataframe tbody tr th {\n",
              "        vertical-align: top;\n",
              "    }\n",
              "\n",
              "    .dataframe thead th {\n",
              "        text-align: right;\n",
              "    }\n",
              "</style>\n",
              "<table border=\"1\" class=\"dataframe\">\n",
              "  <thead>\n",
              "    <tr style=\"text-align: right;\">\n",
              "      <th></th>\n",
              "      <th>Close</th>\n",
              "      <th>cumm_dist</th>\n",
              "    </tr>\n",
              "    <tr>\n",
              "      <th>Date</th>\n",
              "      <th></th>\n",
              "      <th></th>\n",
              "    </tr>\n",
              "  </thead>\n",
              "  <tbody>\n",
              "    <tr>\n",
              "      <th>2012-01-20</th>\n",
              "      <td>-8.377507</td>\n",
              "      <td>0.000403</td>\n",
              "    </tr>\n",
              "    <tr>\n",
              "      <th>2020-03-12</th>\n",
              "      <td>-8.268814</td>\n",
              "      <td>0.000805</td>\n",
              "    </tr>\n",
              "    <tr>\n",
              "      <th>2012-10-18</th>\n",
              "      <td>-8.006722</td>\n",
              "      <td>0.001208</td>\n",
              "    </tr>\n",
              "    <tr>\n",
              "      <th>2019-04-30</th>\n",
              "      <td>-7.696608</td>\n",
              "      <td>0.001610</td>\n",
              "    </tr>\n",
              "    <tr>\n",
              "      <th>2020-06-26</th>\n",
              "      <td>-5.649638</td>\n",
              "      <td>0.002013</td>\n",
              "    </tr>\n",
              "    <tr>\n",
              "      <th>...</th>\n",
              "      <td>...</td>\n",
              "      <td>...</td>\n",
              "    </tr>\n",
              "    <tr>\n",
              "      <th>2020-04-29</th>\n",
              "      <td>8.738960</td>\n",
              "      <td>0.998390</td>\n",
              "    </tr>\n",
              "    <tr>\n",
              "      <th>2020-03-13</th>\n",
              "      <td>9.401651</td>\n",
              "      <td>0.998792</td>\n",
              "    </tr>\n",
              "    <tr>\n",
              "      <th>2019-07-26</th>\n",
              "      <td>10.448543</td>\n",
              "      <td>0.999195</td>\n",
              "    </tr>\n",
              "    <tr>\n",
              "      <th>2013-10-18</th>\n",
              "      <td>13.796286</td>\n",
              "      <td>0.999597</td>\n",
              "    </tr>\n",
              "    <tr>\n",
              "      <th>2015-07-17</th>\n",
              "      <td>16.052431</td>\n",
              "      <td>1.000000</td>\n",
              "    </tr>\n",
              "  </tbody>\n",
              "</table>\n",
              "<p>2484 rows × 2 columns</p>\n",
              "</div>"
            ],
            "text/plain": [
              "                Close  cumm_dist\n",
              "Date                            \n",
              "2012-01-20  -8.377507   0.000403\n",
              "2020-03-12  -8.268814   0.000805\n",
              "2012-10-18  -8.006722   0.001208\n",
              "2019-04-30  -7.696608   0.001610\n",
              "2020-06-26  -5.649638   0.002013\n",
              "...               ...        ...\n",
              "2020-04-29   8.738960   0.998390\n",
              "2020-03-13   9.401651   0.998792\n",
              "2019-07-26  10.448543   0.999195\n",
              "2013-10-18  13.796286   0.999597\n",
              "2015-07-17  16.052431   1.000000\n",
              "\n",
              "[2484 rows x 2 columns]"
            ]
          },
          "metadata": {},
          "execution_count": 35
        }
      ]
    },
    {
      "cell_type": "markdown",
      "metadata": {
        "id": "Z4tszI5OjPZC"
      },
      "source": [
        "## 8. Take user investment inputs to determine risk :"
      ]
    },
    {
      "cell_type": "code",
      "metadata": {
        "colab": {
          "base_uri": "https://localhost:8080/"
        },
        "id": "v4U6hxb4jbn3",
        "outputId": "0035a079-a4b4-46af-b47d-ec75afdc2dd8"
      },
      "source": [
        "initial_investment = int(input(\"Enter initial investment :\"))"
      ],
      "execution_count": null,
      "outputs": [
        {
          "name": "stdout",
          "output_type": "stream",
          "text": [
            "Enter initial investment :1000\n"
          ]
        }
      ]
    },
    {
      "cell_type": "code",
      "metadata": {
        "colab": {
          "base_uri": "https://localhost:8080/"
        },
        "id": "0bd0YYJ8kHXO",
        "outputId": "3238356d-4946-4e21-d222-fe4bad0fb1f1"
      },
      "source": [
        "target_price = int(input(\"Enter target price :\"))"
      ],
      "execution_count": null,
      "outputs": [
        {
          "name": "stdout",
          "output_type": "stream",
          "text": [
            "Enter target price :1200\n"
          ]
        }
      ]
    },
    {
      "cell_type": "code",
      "metadata": {
        "colab": {
          "base_uri": "https://localhost:8080/"
        },
        "id": "07qDsuj5kQkC",
        "outputId": "ed12684a-af1a-4f51-f533-a25989ccb085"
      },
      "source": [
        "no_of_days = int(input(\"Enter number of days of investment :\"))"
      ],
      "execution_count": null,
      "outputs": [
        {
          "name": "stdout",
          "output_type": "stream",
          "text": [
            "Enter number of days of investment :10\n"
          ]
        }
      ]
    },
    {
      "cell_type": "code",
      "metadata": {
        "colab": {
          "base_uri": "https://localhost:8080/"
        },
        "id": "4O6UJOvBlFaY",
        "outputId": "25fac963-afb3-4607-ca7d-b6906cefc920"
      },
      "source": [
        "percent_change_required = 100 * (target_price - initial_investment) / initial_investment\n",
        "percent_change_required"
      ],
      "execution_count": null,
      "outputs": [
        {
          "output_type": "execute_result",
          "data": {
            "text/plain": [
              "20.0"
            ]
          },
          "metadata": {},
          "execution_count": 39
        }
      ]
    },
    {
      "cell_type": "code",
      "metadata": {
        "colab": {
          "base_uri": "https://localhost:8080/"
        },
        "id": "5dSZ11cnldug",
        "outputId": "5ce884e4-41b9-404d-cb32-26a46bb24c9c"
      },
      "source": [
        "per_day_change = percent_change_required / no_of_days\n",
        "per_day_change"
      ],
      "execution_count": null,
      "outputs": [
        {
          "output_type": "execute_result",
          "data": {
            "text/plain": [
              "2.0"
            ]
          },
          "metadata": {},
          "execution_count": 40
        }
      ]
    },
    {
      "cell_type": "code",
      "metadata": {
        "colab": {
          "base_uri": "https://localhost:8080/",
          "height": 35
        },
        "id": "YtHy1P_imVRr",
        "outputId": "691e3f0d-9b53-4fe7-a934-ce04f04dda5e"
      },
      "source": [
        "if (per_day_change >= 0 and per_day_change <4):\n",
        "  investment = 'low risk'\n",
        "elif (per_day_change >= 4 and per_day_change <8):\n",
        "  investment = 'mid risk'\n",
        "elif (per_day_change >= 8):\n",
        "  investment = 'high risk'\n",
        "else:\n",
        "  investment = 'loss'\n",
        "investment"
      ],
      "execution_count": null,
      "outputs": [
        {
          "output_type": "execute_result",
          "data": {
            "application/vnd.google.colaboratory.intrinsic+json": {
              "type": "string"
            },
            "text/plain": [
              "'low risk'"
            ]
          },
          "metadata": {},
          "execution_count": 41
        }
      ]
    },
    {
      "cell_type": "markdown",
      "metadata": {
        "id": "UiiMlZ6VQAkD"
      },
      "source": [
        "## 9. Extract data from table w.r.t. risk user is willing to take :"
      ]
    },
    {
      "cell_type": "code",
      "metadata": {
        "id": "ytIcg1OSQKPj"
      },
      "source": [
        "lowrisk_aapl = data_aapl[data_aapl['Close'] >= 0]\n",
        "midrisk_aapl = data_aapl[data_aapl['Close'] >= 4]\n",
        "highrisk_aapl = data_aapl[data_aapl['Close'] >= 8]"
      ],
      "execution_count": null,
      "outputs": []
    },
    {
      "cell_type": "code",
      "metadata": {
        "id": "WZ7pVt2IU3jh"
      },
      "source": [
        "lowrisk_aapl = lowrisk_aapl[lowrisk_aapl['Close'] < 4]\n",
        "midrisk_aapl = midrisk_aapl[midrisk_aapl['Close'] < 8]"
      ],
      "execution_count": null,
      "outputs": []
    },
    {
      "cell_type": "code",
      "metadata": {
        "colab": {
          "base_uri": "https://localhost:8080/",
          "height": 450
        },
        "id": "U3cWZSvuVK0r",
        "outputId": "9fea93d4-795b-4258-a892-d98eda488cf8"
      },
      "source": [
        "lowrisk_aapl"
      ],
      "execution_count": null,
      "outputs": [
        {
          "output_type": "execute_result",
          "data": {
            "text/html": [
              "<div>\n",
              "<style scoped>\n",
              "    .dataframe tbody tr th:only-of-type {\n",
              "        vertical-align: middle;\n",
              "    }\n",
              "\n",
              "    .dataframe tbody tr th {\n",
              "        vertical-align: top;\n",
              "    }\n",
              "\n",
              "    .dataframe thead th {\n",
              "        text-align: right;\n",
              "    }\n",
              "</style>\n",
              "<table border=\"1\" class=\"dataframe\">\n",
              "  <thead>\n",
              "    <tr style=\"text-align: right;\">\n",
              "      <th></th>\n",
              "      <th>Close</th>\n",
              "      <th>cumm_dist</th>\n",
              "    </tr>\n",
              "    <tr>\n",
              "      <th>Date</th>\n",
              "      <th></th>\n",
              "      <th></th>\n",
              "    </tr>\n",
              "  </thead>\n",
              "  <tbody>\n",
              "    <tr>\n",
              "      <th>2013-07-22</th>\n",
              "      <td>0.000000</td>\n",
              "      <td>0.386473</td>\n",
              "    </tr>\n",
              "    <tr>\n",
              "      <th>2018-06-11</th>\n",
              "      <td>0.000000</td>\n",
              "      <td>0.386876</td>\n",
              "    </tr>\n",
              "    <tr>\n",
              "      <th>2018-06-04</th>\n",
              "      <td>0.000000</td>\n",
              "      <td>0.387279</td>\n",
              "    </tr>\n",
              "    <tr>\n",
              "      <th>2018-02-12</th>\n",
              "      <td>0.000000</td>\n",
              "      <td>0.387681</td>\n",
              "    </tr>\n",
              "    <tr>\n",
              "      <th>2013-04-08</th>\n",
              "      <td>0.000000</td>\n",
              "      <td>0.388084</td>\n",
              "    </tr>\n",
              "    <tr>\n",
              "      <th>...</th>\n",
              "      <td>...</td>\n",
              "      <td>...</td>\n",
              "    </tr>\n",
              "    <tr>\n",
              "      <th>2018-11-28</th>\n",
              "      <td>3.845269</td>\n",
              "      <td>0.984702</td>\n",
              "    </tr>\n",
              "    <tr>\n",
              "      <th>2018-05-04</th>\n",
              "      <td>3.923344</td>\n",
              "      <td>0.985105</td>\n",
              "    </tr>\n",
              "    <tr>\n",
              "      <th>2016-03-01</th>\n",
              "      <td>3.971451</td>\n",
              "      <td>0.985507</td>\n",
              "    </tr>\n",
              "    <tr>\n",
              "      <th>2020-09-01</th>\n",
              "      <td>3.983261</td>\n",
              "      <td>0.985910</td>\n",
              "    </tr>\n",
              "    <tr>\n",
              "      <th>2020-09-09</th>\n",
              "      <td>3.988655</td>\n",
              "      <td>0.986312</td>\n",
              "    </tr>\n",
              "  </tbody>\n",
              "</table>\n",
              "<p>1491 rows × 2 columns</p>\n",
              "</div>"
            ],
            "text/plain": [
              "               Close  cumm_dist\n",
              "Date                           \n",
              "2013-07-22  0.000000   0.386473\n",
              "2018-06-11  0.000000   0.386876\n",
              "2018-06-04  0.000000   0.387279\n",
              "2018-02-12  0.000000   0.387681\n",
              "2013-04-08  0.000000   0.388084\n",
              "...              ...        ...\n",
              "2018-11-28  3.845269   0.984702\n",
              "2018-05-04  3.923344   0.985105\n",
              "2016-03-01  3.971451   0.985507\n",
              "2020-09-01  3.983261   0.985910\n",
              "2020-09-09  3.988655   0.986312\n",
              "\n",
              "[1491 rows x 2 columns]"
            ]
          },
          "metadata": {},
          "execution_count": 44
        }
      ]
    },
    {
      "cell_type": "code",
      "metadata": {
        "colab": {
          "base_uri": "https://localhost:8080/",
          "height": 979
        },
        "id": "eEdXEzE0VOpY",
        "outputId": "1ca40a89-d626-46e5-8b7a-bae2dcf591b3"
      },
      "source": [
        "midrisk_aapl"
      ],
      "execution_count": null,
      "outputs": [
        {
          "output_type": "execute_result",
          "data": {
            "text/html": [
              "<div>\n",
              "<style scoped>\n",
              "    .dataframe tbody tr th:only-of-type {\n",
              "        vertical-align: middle;\n",
              "    }\n",
              "\n",
              "    .dataframe tbody tr th {\n",
              "        vertical-align: top;\n",
              "    }\n",
              "\n",
              "    .dataframe thead th {\n",
              "        text-align: right;\n",
              "    }\n",
              "</style>\n",
              "<table border=\"1\" class=\"dataframe\">\n",
              "  <thead>\n",
              "    <tr style=\"text-align: right;\">\n",
              "      <th></th>\n",
              "      <th>Close</th>\n",
              "      <th>cumm_dist</th>\n",
              "    </tr>\n",
              "    <tr>\n",
              "      <th>Date</th>\n",
              "      <th></th>\n",
              "      <th></th>\n",
              "    </tr>\n",
              "  </thead>\n",
              "  <tbody>\n",
              "    <tr>\n",
              "      <th>2021-03-09</th>\n",
              "      <td>4.064967</td>\n",
              "      <td>0.986715</td>\n",
              "    </tr>\n",
              "    <tr>\n",
              "      <th>2020-11-04</th>\n",
              "      <td>4.083660</td>\n",
              "      <td>0.987118</td>\n",
              "    </tr>\n",
              "    <tr>\n",
              "      <th>2015-10-28</th>\n",
              "      <td>4.120466</td>\n",
              "      <td>0.987520</td>\n",
              "    </tr>\n",
              "    <tr>\n",
              "      <th>2013-01-16</th>\n",
              "      <td>4.150882</td>\n",
              "      <td>0.987923</td>\n",
              "    </tr>\n",
              "    <tr>\n",
              "      <th>2018-02-06</th>\n",
              "      <td>4.179176</td>\n",
              "      <td>0.988325</td>\n",
              "    </tr>\n",
              "    <tr>\n",
              "      <th>2019-08-13</th>\n",
              "      <td>4.234839</td>\n",
              "      <td>0.988728</td>\n",
              "    </tr>\n",
              "    <tr>\n",
              "      <th>2019-01-04</th>\n",
              "      <td>4.268930</td>\n",
              "      <td>0.989130</td>\n",
              "    </tr>\n",
              "    <tr>\n",
              "      <th>2015-09-02</th>\n",
              "      <td>4.288893</td>\n",
              "      <td>0.989533</td>\n",
              "    </tr>\n",
              "    <tr>\n",
              "      <th>2020-03-17</th>\n",
              "      <td>4.397008</td>\n",
              "      <td>0.989936</td>\n",
              "    </tr>\n",
              "    <tr>\n",
              "      <th>2018-05-02</th>\n",
              "      <td>4.417505</td>\n",
              "      <td>0.990338</td>\n",
              "    </tr>\n",
              "    <tr>\n",
              "      <th>2020-03-04</th>\n",
              "      <td>4.638457</td>\n",
              "      <td>0.990741</td>\n",
              "    </tr>\n",
              "    <tr>\n",
              "      <th>2017-08-02</th>\n",
              "      <td>4.725089</td>\n",
              "      <td>0.991143</td>\n",
              "    </tr>\n",
              "    <tr>\n",
              "      <th>2013-08-13</th>\n",
              "      <td>4.752228</td>\n",
              "      <td>0.991546</td>\n",
              "    </tr>\n",
              "    <tr>\n",
              "      <th>2019-05-01</th>\n",
              "      <td>4.908559</td>\n",
              "      <td>0.991948</td>\n",
              "    </tr>\n",
              "    <tr>\n",
              "      <th>2020-12-15</th>\n",
              "      <td>5.009031</td>\n",
              "      <td>0.992351</td>\n",
              "    </tr>\n",
              "    <tr>\n",
              "      <th>2020-04-14</th>\n",
              "      <td>5.050316</td>\n",
              "      <td>0.992754</td>\n",
              "    </tr>\n",
              "    <tr>\n",
              "      <th>2012-04-17</th>\n",
              "      <td>5.097128</td>\n",
              "      <td>0.993156</td>\n",
              "    </tr>\n",
              "    <tr>\n",
              "      <th>2013-07-24</th>\n",
              "      <td>5.136157</td>\n",
              "      <td>0.993559</td>\n",
              "    </tr>\n",
              "    <tr>\n",
              "      <th>2020-08-21</th>\n",
              "      <td>5.153246</td>\n",
              "      <td>0.993961</td>\n",
              "    </tr>\n",
              "    <tr>\n",
              "      <th>2020-03-26</th>\n",
              "      <td>5.262300</td>\n",
              "      <td>0.994364</td>\n",
              "    </tr>\n",
              "    <tr>\n",
              "      <th>2016-01-22</th>\n",
              "      <td>5.316713</td>\n",
              "      <td>0.994767</td>\n",
              "    </tr>\n",
              "    <tr>\n",
              "      <th>2015-01-28</th>\n",
              "      <td>5.653288</td>\n",
              "      <td>0.995169</td>\n",
              "    </tr>\n",
              "    <tr>\n",
              "      <th>2015-08-26</th>\n",
              "      <td>5.735497</td>\n",
              "      <td>0.995572</td>\n",
              "    </tr>\n",
              "    <tr>\n",
              "      <th>2018-08-01</th>\n",
              "      <td>5.891012</td>\n",
              "      <td>0.995974</td>\n",
              "    </tr>\n",
              "    <tr>\n",
              "      <th>2017-02-01</th>\n",
              "      <td>6.098065</td>\n",
              "      <td>0.996377</td>\n",
              "    </tr>\n",
              "    <tr>\n",
              "      <th>2012-01-25</th>\n",
              "      <td>6.243905</td>\n",
              "      <td>0.996779</td>\n",
              "    </tr>\n",
              "    <tr>\n",
              "      <th>2016-07-27</th>\n",
              "      <td>6.496327</td>\n",
              "      <td>0.997182</td>\n",
              "    </tr>\n",
              "    <tr>\n",
              "      <th>2019-01-30</th>\n",
              "      <td>6.833468</td>\n",
              "      <td>0.997585</td>\n",
              "    </tr>\n",
              "    <tr>\n",
              "      <th>2020-03-10</th>\n",
              "      <td>7.202157</td>\n",
              "      <td>0.997987</td>\n",
              "    </tr>\n",
              "  </tbody>\n",
              "</table>\n",
              "</div>"
            ],
            "text/plain": [
              "               Close  cumm_dist\n",
              "Date                           \n",
              "2021-03-09  4.064967   0.986715\n",
              "2020-11-04  4.083660   0.987118\n",
              "2015-10-28  4.120466   0.987520\n",
              "2013-01-16  4.150882   0.987923\n",
              "2018-02-06  4.179176   0.988325\n",
              "2019-08-13  4.234839   0.988728\n",
              "2019-01-04  4.268930   0.989130\n",
              "2015-09-02  4.288893   0.989533\n",
              "2020-03-17  4.397008   0.989936\n",
              "2018-05-02  4.417505   0.990338\n",
              "2020-03-04  4.638457   0.990741\n",
              "2017-08-02  4.725089   0.991143\n",
              "2013-08-13  4.752228   0.991546\n",
              "2019-05-01  4.908559   0.991948\n",
              "2020-12-15  5.009031   0.992351\n",
              "2020-04-14  5.050316   0.992754\n",
              "2012-04-17  5.097128   0.993156\n",
              "2013-07-24  5.136157   0.993559\n",
              "2020-08-21  5.153246   0.993961\n",
              "2020-03-26  5.262300   0.994364\n",
              "2016-01-22  5.316713   0.994767\n",
              "2015-01-28  5.653288   0.995169\n",
              "2015-08-26  5.735497   0.995572\n",
              "2018-08-01  5.891012   0.995974\n",
              "2017-02-01  6.098065   0.996377\n",
              "2012-01-25  6.243905   0.996779\n",
              "2016-07-27  6.496327   0.997182\n",
              "2019-01-30  6.833468   0.997585\n",
              "2020-03-10  7.202157   0.997987"
            ]
          },
          "metadata": {},
          "execution_count": 45
        }
      ]
    },
    {
      "cell_type": "code",
      "metadata": {
        "colab": {
          "base_uri": "https://localhost:8080/",
          "height": 235
        },
        "id": "YWQlmR73VS0o",
        "outputId": "02c0427f-a33c-490e-d8e0-13ab8f8e3829"
      },
      "source": [
        "highrisk_aapl"
      ],
      "execution_count": null,
      "outputs": [
        {
          "output_type": "execute_result",
          "data": {
            "text/html": [
              "<div>\n",
              "<style scoped>\n",
              "    .dataframe tbody tr th:only-of-type {\n",
              "        vertical-align: middle;\n",
              "    }\n",
              "\n",
              "    .dataframe tbody tr th {\n",
              "        vertical-align: top;\n",
              "    }\n",
              "\n",
              "    .dataframe thead th {\n",
              "        text-align: right;\n",
              "    }\n",
              "</style>\n",
              "<table border=\"1\" class=\"dataframe\">\n",
              "  <thead>\n",
              "    <tr style=\"text-align: right;\">\n",
              "      <th></th>\n",
              "      <th>Close</th>\n",
              "      <th>cumm_dist</th>\n",
              "    </tr>\n",
              "    <tr>\n",
              "      <th>Date</th>\n",
              "      <th></th>\n",
              "      <th></th>\n",
              "    </tr>\n",
              "  </thead>\n",
              "  <tbody>\n",
              "    <tr>\n",
              "      <th>2014-04-24</th>\n",
              "      <td>8.198189</td>\n",
              "      <td>0.998390</td>\n",
              "    </tr>\n",
              "    <tr>\n",
              "      <th>2012-04-25</th>\n",
              "      <td>8.874128</td>\n",
              "      <td>0.998792</td>\n",
              "    </tr>\n",
              "    <tr>\n",
              "      <th>2020-03-24</th>\n",
              "      <td>10.032540</td>\n",
              "      <td>0.999195</td>\n",
              "    </tr>\n",
              "    <tr>\n",
              "      <th>2020-07-31</th>\n",
              "      <td>10.468863</td>\n",
              "      <td>0.999597</td>\n",
              "    </tr>\n",
              "    <tr>\n",
              "      <th>2020-03-13</th>\n",
              "      <td>11.980827</td>\n",
              "      <td>1.000000</td>\n",
              "    </tr>\n",
              "  </tbody>\n",
              "</table>\n",
              "</div>"
            ],
            "text/plain": [
              "                Close  cumm_dist\n",
              "Date                            \n",
              "2014-04-24   8.198189   0.998390\n",
              "2012-04-25   8.874128   0.998792\n",
              "2020-03-24  10.032540   0.999195\n",
              "2020-07-31  10.468863   0.999597\n",
              "2020-03-13  11.980827   1.000000"
            ]
          },
          "metadata": {},
          "execution_count": 46
        }
      ]
    },
    {
      "cell_type": "code",
      "metadata": {
        "id": "dr5_YUEkVvCq"
      },
      "source": [
        "lowrisk_amzn = data_amzn[data_amzn['Close'] >= 0]\n",
        "midrisk_amzn = data_amzn[data_amzn['Close'] >= 4]\n",
        "highrisk_amzn = data_amzn[data_amzn['Close'] >= 8]\n",
        "lowrisk_amzn = lowrisk_amzn[lowrisk_amzn['Close'] < 4]\n",
        "midrisk_amzn = midrisk_amzn[midrisk_amzn['Close'] < 8]"
      ],
      "execution_count": null,
      "outputs": []
    },
    {
      "cell_type": "code",
      "metadata": {
        "colab": {
          "base_uri": "https://localhost:8080/",
          "height": 450
        },
        "id": "tmRBSlI3WbpZ",
        "outputId": "0715ad65-1248-4fa4-f318-8210a18c121e"
      },
      "source": [
        "lowrisk_amzn"
      ],
      "execution_count": null,
      "outputs": [
        {
          "output_type": "execute_result",
          "data": {
            "text/html": [
              "<div>\n",
              "<style scoped>\n",
              "    .dataframe tbody tr th:only-of-type {\n",
              "        vertical-align: middle;\n",
              "    }\n",
              "\n",
              "    .dataframe tbody tr th {\n",
              "        vertical-align: top;\n",
              "    }\n",
              "\n",
              "    .dataframe thead th {\n",
              "        text-align: right;\n",
              "    }\n",
              "</style>\n",
              "<table border=\"1\" class=\"dataframe\">\n",
              "  <thead>\n",
              "    <tr style=\"text-align: right;\">\n",
              "      <th></th>\n",
              "      <th>Close</th>\n",
              "      <th>cumm_dist</th>\n",
              "    </tr>\n",
              "    <tr>\n",
              "      <th>Date</th>\n",
              "      <th></th>\n",
              "      <th></th>\n",
              "    </tr>\n",
              "  </thead>\n",
              "  <tbody>\n",
              "    <tr>\n",
              "      <th>2016-10-24</th>\n",
              "      <td>0.000000</td>\n",
              "      <td>0.364332</td>\n",
              "    </tr>\n",
              "    <tr>\n",
              "      <th>2019-12-23</th>\n",
              "      <td>0.000000</td>\n",
              "      <td>0.364734</td>\n",
              "    </tr>\n",
              "    <tr>\n",
              "      <th>2019-03-04</th>\n",
              "      <td>0.000000</td>\n",
              "      <td>0.365137</td>\n",
              "    </tr>\n",
              "    <tr>\n",
              "      <th>2019-10-21</th>\n",
              "      <td>0.000000</td>\n",
              "      <td>0.365539</td>\n",
              "    </tr>\n",
              "    <tr>\n",
              "      <th>2019-03-18</th>\n",
              "      <td>0.000000</td>\n",
              "      <td>0.365942</td>\n",
              "    </tr>\n",
              "    <tr>\n",
              "      <th>...</th>\n",
              "      <td>...</td>\n",
              "      <td>...</td>\n",
              "    </tr>\n",
              "    <tr>\n",
              "      <th>2020-09-09</th>\n",
              "      <td>3.770668</td>\n",
              "      <td>0.981079</td>\n",
              "    </tr>\n",
              "    <tr>\n",
              "      <th>2018-02-06</th>\n",
              "      <td>3.801436</td>\n",
              "      <td>0.981481</td>\n",
              "    </tr>\n",
              "    <tr>\n",
              "      <th>2013-01-25</th>\n",
              "      <td>3.850654</td>\n",
              "      <td>0.981884</td>\n",
              "    </tr>\n",
              "    <tr>\n",
              "      <th>2014-04-24</th>\n",
              "      <td>3.872699</td>\n",
              "      <td>0.982287</td>\n",
              "    </tr>\n",
              "    <tr>\n",
              "      <th>2018-04-26</th>\n",
              "      <td>3.957753</td>\n",
              "      <td>0.982689</td>\n",
              "    </tr>\n",
              "  </tbody>\n",
              "</table>\n",
              "<p>1537 rows × 2 columns</p>\n",
              "</div>"
            ],
            "text/plain": [
              "               Close  cumm_dist\n",
              "Date                           \n",
              "2016-10-24  0.000000   0.364332\n",
              "2019-12-23  0.000000   0.364734\n",
              "2019-03-04  0.000000   0.365137\n",
              "2019-10-21  0.000000   0.365539\n",
              "2019-03-18  0.000000   0.365942\n",
              "...              ...        ...\n",
              "2020-09-09  3.770668   0.981079\n",
              "2018-02-06  3.801436   0.981481\n",
              "2013-01-25  3.850654   0.981884\n",
              "2014-04-24  3.872699   0.982287\n",
              "2018-04-26  3.957753   0.982689\n",
              "\n",
              "[1537 rows x 2 columns]"
            ]
          },
          "metadata": {},
          "execution_count": 48
        }
      ]
    },
    {
      "cell_type": "code",
      "metadata": {
        "colab": {
          "base_uri": "https://localhost:8080/",
          "height": 1000
        },
        "id": "lWMTIcTUWe3b",
        "outputId": "9fc2f6f4-a8eb-46d1-c8b3-1a80f1229730"
      },
      "source": [
        "midrisk_amzn"
      ],
      "execution_count": null,
      "outputs": [
        {
          "output_type": "execute_result",
          "data": {
            "text/html": [
              "<div>\n",
              "<style scoped>\n",
              "    .dataframe tbody tr th:only-of-type {\n",
              "        vertical-align: middle;\n",
              "    }\n",
              "\n",
              "    .dataframe tbody tr th {\n",
              "        vertical-align: top;\n",
              "    }\n",
              "\n",
              "    .dataframe thead th {\n",
              "        text-align: right;\n",
              "    }\n",
              "</style>\n",
              "<table border=\"1\" class=\"dataframe\">\n",
              "  <thead>\n",
              "    <tr style=\"text-align: right;\">\n",
              "      <th></th>\n",
              "      <th>Close</th>\n",
              "      <th>cumm_dist</th>\n",
              "    </tr>\n",
              "    <tr>\n",
              "      <th>Date</th>\n",
              "      <th></th>\n",
              "      <th></th>\n",
              "    </tr>\n",
              "  </thead>\n",
              "  <tbody>\n",
              "    <tr>\n",
              "      <th>2012-07-19</th>\n",
              "      <td>4.000550</td>\n",
              "      <td>0.983092</td>\n",
              "    </tr>\n",
              "    <tr>\n",
              "      <th>2018-10-12</th>\n",
              "      <td>4.027661</td>\n",
              "      <td>0.983494</td>\n",
              "    </tr>\n",
              "    <tr>\n",
              "      <th>2020-08-18</th>\n",
              "      <td>4.087471</td>\n",
              "      <td>0.983897</td>\n",
              "    </tr>\n",
              "    <tr>\n",
              "      <th>2013-02-13</th>\n",
              "      <td>4.163119</td>\n",
              "      <td>0.984300</td>\n",
              "    </tr>\n",
              "    <tr>\n",
              "      <th>2018-11-01</th>\n",
              "      <td>4.225256</td>\n",
              "      <td>0.984702</td>\n",
              "    </tr>\n",
              "    <tr>\n",
              "      <th>2020-04-30</th>\n",
              "      <td>4.268960</td>\n",
              "      <td>0.985105</td>\n",
              "    </tr>\n",
              "    <tr>\n",
              "      <th>2012-01-18</th>\n",
              "      <td>4.282725</td>\n",
              "      <td>0.985507</td>\n",
              "    </tr>\n",
              "    <tr>\n",
              "      <th>2018-04-17</th>\n",
              "      <td>4.323965</td>\n",
              "      <td>0.985910</td>\n",
              "    </tr>\n",
              "    <tr>\n",
              "      <th>2020-07-01</th>\n",
              "      <td>4.345332</td>\n",
              "      <td>0.986312</td>\n",
              "    </tr>\n",
              "    <tr>\n",
              "      <th>2020-04-16</th>\n",
              "      <td>4.355457</td>\n",
              "      <td>0.986715</td>\n",
              "    </tr>\n",
              "    <tr>\n",
              "      <th>2015-01-22</th>\n",
              "      <td>4.396975</td>\n",
              "      <td>0.987118</td>\n",
              "    </tr>\n",
              "    <tr>\n",
              "      <th>2018-10-31</th>\n",
              "      <td>4.416432</td>\n",
              "      <td>0.987520</td>\n",
              "    </tr>\n",
              "    <tr>\n",
              "      <th>2021-01-20</th>\n",
              "      <td>4.570037</td>\n",
              "      <td>0.987923</td>\n",
              "    </tr>\n",
              "    <tr>\n",
              "      <th>2013-01-30</th>\n",
              "      <td>4.766662</td>\n",
              "      <td>0.988325</td>\n",
              "    </tr>\n",
              "    <tr>\n",
              "      <th>2016-03-01</th>\n",
              "      <td>4.799819</td>\n",
              "      <td>0.988728</td>\n",
              "    </tr>\n",
              "    <tr>\n",
              "      <th>2019-01-30</th>\n",
              "      <td>4.802749</td>\n",
              "      <td>0.989130</td>\n",
              "    </tr>\n",
              "    <tr>\n",
              "      <th>2014-01-30</th>\n",
              "      <td>4.895887</td>\n",
              "      <td>0.989533</td>\n",
              "    </tr>\n",
              "    <tr>\n",
              "      <th>2019-01-04</th>\n",
              "      <td>5.006398</td>\n",
              "      <td>0.989936</td>\n",
              "    </tr>\n",
              "    <tr>\n",
              "      <th>2020-03-10</th>\n",
              "      <td>5.065503</td>\n",
              "      <td>0.990338</td>\n",
              "    </tr>\n",
              "    <tr>\n",
              "      <th>2020-04-14</th>\n",
              "      <td>5.276939</td>\n",
              "      <td>0.990741</td>\n",
              "    </tr>\n",
              "    <tr>\n",
              "      <th>2014-06-05</th>\n",
              "      <td>5.472980</td>\n",
              "      <td>0.991143</td>\n",
              "    </tr>\n",
              "    <tr>\n",
              "      <th>2014-07-11</th>\n",
              "      <td>5.574530</td>\n",
              "      <td>0.991546</td>\n",
              "    </tr>\n",
              "    <tr>\n",
              "      <th>2020-09-22</th>\n",
              "      <td>5.692340</td>\n",
              "      <td>0.991948</td>\n",
              "    </tr>\n",
              "    <tr>\n",
              "      <th>2013-10-18</th>\n",
              "      <td>5.843551</td>\n",
              "      <td>0.992351</td>\n",
              "    </tr>\n",
              "    <tr>\n",
              "      <th>2018-11-28</th>\n",
              "      <td>6.091358</td>\n",
              "      <td>0.992754</td>\n",
              "    </tr>\n",
              "    <tr>\n",
              "      <th>2015-10-23</th>\n",
              "      <td>6.227954</td>\n",
              "      <td>0.993156</td>\n",
              "    </tr>\n",
              "    <tr>\n",
              "      <th>2020-11-04</th>\n",
              "      <td>6.322969</td>\n",
              "      <td>0.993559</td>\n",
              "    </tr>\n",
              "    <tr>\n",
              "      <th>2020-03-13</th>\n",
              "      <td>6.464832</td>\n",
              "      <td>0.993961</td>\n",
              "    </tr>\n",
              "    <tr>\n",
              "      <th>2018-11-07</th>\n",
              "      <td>6.858975</td>\n",
              "      <td>0.994364</td>\n",
              "    </tr>\n",
              "    <tr>\n",
              "      <th>2012-10-26</th>\n",
              "      <td>6.872424</td>\n",
              "      <td>0.994767</td>\n",
              "    </tr>\n",
              "    <tr>\n",
              "      <th>2020-03-17</th>\n",
              "      <td>7.026607</td>\n",
              "      <td>0.995169</td>\n",
              "    </tr>\n",
              "    <tr>\n",
              "      <th>2018-10-25</th>\n",
              "      <td>7.088697</td>\n",
              "      <td>0.995572</td>\n",
              "    </tr>\n",
              "    <tr>\n",
              "      <th>2015-08-26</th>\n",
              "      <td>7.376116</td>\n",
              "      <td>0.995974</td>\n",
              "    </tr>\n",
              "    <tr>\n",
              "      <th>2020-01-31</th>\n",
              "      <td>7.379130</td>\n",
              "      <td>0.996377</td>\n",
              "    </tr>\n",
              "    <tr>\n",
              "      <th>2012-07-27</th>\n",
              "      <td>7.867830</td>\n",
              "      <td>0.996779</td>\n",
              "    </tr>\n",
              "  </tbody>\n",
              "</table>\n",
              "</div>"
            ],
            "text/plain": [
              "               Close  cumm_dist\n",
              "Date                           \n",
              "2012-07-19  4.000550   0.983092\n",
              "2018-10-12  4.027661   0.983494\n",
              "2020-08-18  4.087471   0.983897\n",
              "2013-02-13  4.163119   0.984300\n",
              "2018-11-01  4.225256   0.984702\n",
              "2020-04-30  4.268960   0.985105\n",
              "2012-01-18  4.282725   0.985507\n",
              "2018-04-17  4.323965   0.985910\n",
              "2020-07-01  4.345332   0.986312\n",
              "2020-04-16  4.355457   0.986715\n",
              "2015-01-22  4.396975   0.987118\n",
              "2018-10-31  4.416432   0.987520\n",
              "2021-01-20  4.570037   0.987923\n",
              "2013-01-30  4.766662   0.988325\n",
              "2016-03-01  4.799819   0.988728\n",
              "2019-01-30  4.802749   0.989130\n",
              "2014-01-30  4.895887   0.989533\n",
              "2019-01-04  5.006398   0.989936\n",
              "2020-03-10  5.065503   0.990338\n",
              "2020-04-14  5.276939   0.990741\n",
              "2014-06-05  5.472980   0.991143\n",
              "2014-07-11  5.574530   0.991546\n",
              "2020-09-22  5.692340   0.991948\n",
              "2013-10-18  5.843551   0.992351\n",
              "2018-11-28  6.091358   0.992754\n",
              "2015-10-23  6.227954   0.993156\n",
              "2020-11-04  6.322969   0.993559\n",
              "2020-03-13  6.464832   0.993961\n",
              "2018-11-07  6.858975   0.994364\n",
              "2012-10-26  6.872424   0.994767\n",
              "2020-03-17  7.026607   0.995169\n",
              "2018-10-25  7.088697   0.995572\n",
              "2015-08-26  7.376116   0.995974\n",
              "2020-01-31  7.379130   0.996377\n",
              "2012-07-27  7.867830   0.996779"
            ]
          },
          "metadata": {},
          "execution_count": 49
        }
      ]
    },
    {
      "cell_type": "code",
      "metadata": {
        "colab": {
          "base_uri": "https://localhost:8080/",
          "height": 328
        },
        "id": "m0qY_YNEWixW",
        "outputId": "0de04c41-7211-42e0-dcbf-ac4a6560f301"
      },
      "source": [
        "highrisk_amzn"
      ],
      "execution_count": null,
      "outputs": [
        {
          "output_type": "execute_result",
          "data": {
            "text/html": [
              "<div>\n",
              "<style scoped>\n",
              "    .dataframe tbody tr th:only-of-type {\n",
              "        vertical-align: middle;\n",
              "    }\n",
              "\n",
              "    .dataframe tbody tr th {\n",
              "        vertical-align: top;\n",
              "    }\n",
              "\n",
              "    .dataframe thead th {\n",
              "        text-align: right;\n",
              "    }\n",
              "</style>\n",
              "<table border=\"1\" class=\"dataframe\">\n",
              "  <thead>\n",
              "    <tr style=\"text-align: right;\">\n",
              "      <th></th>\n",
              "      <th>Close</th>\n",
              "      <th>cumm_dist</th>\n",
              "    </tr>\n",
              "    <tr>\n",
              "      <th>Date</th>\n",
              "      <th></th>\n",
              "      <th></th>\n",
              "    </tr>\n",
              "  </thead>\n",
              "  <tbody>\n",
              "    <tr>\n",
              "      <th>2016-01-28</th>\n",
              "      <td>8.914031</td>\n",
              "      <td>0.997182</td>\n",
              "    </tr>\n",
              "    <tr>\n",
              "      <th>2013-10-25</th>\n",
              "      <td>9.385637</td>\n",
              "      <td>0.997585</td>\n",
              "    </tr>\n",
              "    <tr>\n",
              "      <th>2016-04-29</th>\n",
              "      <td>9.566450</td>\n",
              "      <td>0.997987</td>\n",
              "    </tr>\n",
              "    <tr>\n",
              "      <th>2015-07-24</th>\n",
              "      <td>9.797169</td>\n",
              "      <td>0.998390</td>\n",
              "    </tr>\n",
              "    <tr>\n",
              "      <th>2017-10-27</th>\n",
              "      <td>13.216371</td>\n",
              "      <td>0.998792</td>\n",
              "    </tr>\n",
              "    <tr>\n",
              "      <th>2015-01-30</th>\n",
              "      <td>13.711592</td>\n",
              "      <td>0.999195</td>\n",
              "    </tr>\n",
              "    <tr>\n",
              "      <th>2015-04-24</th>\n",
              "      <td>14.131136</td>\n",
              "      <td>0.999597</td>\n",
              "    </tr>\n",
              "    <tr>\n",
              "      <th>2012-04-27</th>\n",
              "      <td>15.745701</td>\n",
              "      <td>1.000000</td>\n",
              "    </tr>\n",
              "  </tbody>\n",
              "</table>\n",
              "</div>"
            ],
            "text/plain": [
              "                Close  cumm_dist\n",
              "Date                            \n",
              "2016-01-28   8.914031   0.997182\n",
              "2013-10-25   9.385637   0.997585\n",
              "2016-04-29   9.566450   0.997987\n",
              "2015-07-24   9.797169   0.998390\n",
              "2017-10-27  13.216371   0.998792\n",
              "2015-01-30  13.711592   0.999195\n",
              "2015-04-24  14.131136   0.999597\n",
              "2012-04-27  15.745701   1.000000"
            ]
          },
          "metadata": {},
          "execution_count": 50
        }
      ]
    },
    {
      "cell_type": "code",
      "metadata": {
        "id": "e5_vAO_8Wk9d"
      },
      "source": [
        "lowrisk_fb = data_fb[data_fb['Close'] >= 0]\n",
        "midrisk_fb = data_fb[data_fb['Close'] >= 4]\n",
        "highrisk_fb = data_fb[data_fb['Close'] >= 8]\n",
        "lowrisk_fb = lowrisk_fb[lowrisk_fb['Close'] < 4]\n",
        "midrisk_fb = midrisk_fb[midrisk_fb['Close'] < 8]"
      ],
      "execution_count": null,
      "outputs": []
    },
    {
      "cell_type": "code",
      "metadata": {
        "colab": {
          "base_uri": "https://localhost:8080/",
          "height": 450
        },
        "id": "XtFLn19JW9Fz",
        "outputId": "4c79d636-b6cd-4d3c-8d64-4dae822f1d03"
      },
      "source": [
        "lowrisk_fb"
      ],
      "execution_count": null,
      "outputs": [
        {
          "output_type": "execute_result",
          "data": {
            "text/html": [
              "<div>\n",
              "<style scoped>\n",
              "    .dataframe tbody tr th:only-of-type {\n",
              "        vertical-align: middle;\n",
              "    }\n",
              "\n",
              "    .dataframe tbody tr th {\n",
              "        vertical-align: top;\n",
              "    }\n",
              "\n",
              "    .dataframe thead th {\n",
              "        text-align: right;\n",
              "    }\n",
              "</style>\n",
              "<table border=\"1\" class=\"dataframe\">\n",
              "  <thead>\n",
              "    <tr style=\"text-align: right;\">\n",
              "      <th></th>\n",
              "      <th>Close</th>\n",
              "      <th>cumm_dist</th>\n",
              "    </tr>\n",
              "    <tr>\n",
              "      <th>Date</th>\n",
              "      <th></th>\n",
              "      <th></th>\n",
              "    </tr>\n",
              "  </thead>\n",
              "  <tbody>\n",
              "    <tr>\n",
              "      <th>2016-09-06</th>\n",
              "      <td>0.000000</td>\n",
              "      <td>0.370029</td>\n",
              "    </tr>\n",
              "    <tr>\n",
              "      <th>2018-11-05</th>\n",
              "      <td>0.000000</td>\n",
              "      <td>0.370448</td>\n",
              "    </tr>\n",
              "    <tr>\n",
              "      <th>2016-10-17</th>\n",
              "      <td>0.000000</td>\n",
              "      <td>0.370866</td>\n",
              "    </tr>\n",
              "    <tr>\n",
              "      <th>2016-08-22</th>\n",
              "      <td>0.000000</td>\n",
              "      <td>0.371285</td>\n",
              "    </tr>\n",
              "    <tr>\n",
              "      <th>2018-07-02</th>\n",
              "      <td>0.000000</td>\n",
              "      <td>0.371704</td>\n",
              "    </tr>\n",
              "    <tr>\n",
              "      <th>...</th>\n",
              "      <td>...</td>\n",
              "      <td>...</td>\n",
              "    </tr>\n",
              "    <tr>\n",
              "      <th>2012-08-10</th>\n",
              "      <td>3.807707</td>\n",
              "      <td>0.970280</td>\n",
              "    </tr>\n",
              "    <tr>\n",
              "      <th>2018-10-31</th>\n",
              "      <td>3.809323</td>\n",
              "      <td>0.970699</td>\n",
              "    </tr>\n",
              "    <tr>\n",
              "      <th>2013-10-18</th>\n",
              "      <td>3.849841</td>\n",
              "      <td>0.971118</td>\n",
              "    </tr>\n",
              "    <tr>\n",
              "      <th>2013-11-05</th>\n",
              "      <td>3.919534</td>\n",
              "      <td>0.971536</td>\n",
              "    </tr>\n",
              "    <tr>\n",
              "      <th>2014-04-01</th>\n",
              "      <td>3.950859</td>\n",
              "      <td>0.971955</td>\n",
              "    </tr>\n",
              "  </tbody>\n",
              "</table>\n",
              "<p>1439 rows × 2 columns</p>\n",
              "</div>"
            ],
            "text/plain": [
              "               Close  cumm_dist\n",
              "Date                           \n",
              "2016-09-06  0.000000   0.370029\n",
              "2018-11-05  0.000000   0.370448\n",
              "2016-10-17  0.000000   0.370866\n",
              "2016-08-22  0.000000   0.371285\n",
              "2018-07-02  0.000000   0.371704\n",
              "...              ...        ...\n",
              "2012-08-10  3.807707   0.970280\n",
              "2018-10-31  3.809323   0.970699\n",
              "2013-10-18  3.849841   0.971118\n",
              "2013-11-05  3.919534   0.971536\n",
              "2014-04-01  3.950859   0.971955\n",
              "\n",
              "[1439 rows x 2 columns]"
            ]
          },
          "metadata": {},
          "execution_count": 52
        }
      ]
    },
    {
      "cell_type": "code",
      "metadata": {
        "colab": {
          "base_uri": "https://localhost:8080/",
          "height": 1000
        },
        "id": "H0U-HBbhW_Q0",
        "outputId": "ef34cb14-deee-4087-b3c3-35d86202a144"
      },
      "source": [
        "midrisk_fb"
      ],
      "execution_count": null,
      "outputs": [
        {
          "output_type": "execute_result",
          "data": {
            "text/html": [
              "<div>\n",
              "<style scoped>\n",
              "    .dataframe tbody tr th:only-of-type {\n",
              "        vertical-align: middle;\n",
              "    }\n",
              "\n",
              "    .dataframe tbody tr th {\n",
              "        vertical-align: top;\n",
              "    }\n",
              "\n",
              "    .dataframe thead th {\n",
              "        text-align: right;\n",
              "    }\n",
              "</style>\n",
              "<table border=\"1\" class=\"dataframe\">\n",
              "  <thead>\n",
              "    <tr style=\"text-align: right;\">\n",
              "      <th></th>\n",
              "      <th>Close</th>\n",
              "      <th>cumm_dist</th>\n",
              "    </tr>\n",
              "    <tr>\n",
              "      <th>Date</th>\n",
              "      <th></th>\n",
              "      <th></th>\n",
              "    </tr>\n",
              "  </thead>\n",
              "  <tbody>\n",
              "    <tr>\n",
              "      <th>2021-11-12</th>\n",
              "      <td>4.012334</td>\n",
              "      <td>0.972373</td>\n",
              "    </tr>\n",
              "    <tr>\n",
              "      <th>2016-01-22</th>\n",
              "      <td>4.014442</td>\n",
              "      <td>0.972792</td>\n",
              "    </tr>\n",
              "    <tr>\n",
              "      <th>2012-08-15</th>\n",
              "      <td>4.023561</td>\n",
              "      <td>0.973211</td>\n",
              "    </tr>\n",
              "    <tr>\n",
              "      <th>2014-03-05</th>\n",
              "      <td>4.026158</td>\n",
              "      <td>0.973629</td>\n",
              "    </tr>\n",
              "    <tr>\n",
              "      <th>2013-12-04</th>\n",
              "      <td>4.044510</td>\n",
              "      <td>0.974048</td>\n",
              "    </tr>\n",
              "    <tr>\n",
              "      <th>2021-03-09</th>\n",
              "      <td>4.085227</td>\n",
              "      <td>0.974466</td>\n",
              "    </tr>\n",
              "    <tr>\n",
              "      <th>2013-03-07</th>\n",
              "      <td>4.116572</td>\n",
              "      <td>0.974885</td>\n",
              "    </tr>\n",
              "    <tr>\n",
              "      <th>2021-03-19</th>\n",
              "      <td>4.123893</td>\n",
              "      <td>0.975303</td>\n",
              "    </tr>\n",
              "    <tr>\n",
              "      <th>2020-10-21</th>\n",
              "      <td>4.174770</td>\n",
              "      <td>0.975722</td>\n",
              "    </tr>\n",
              "    <tr>\n",
              "      <th>2020-03-19</th>\n",
              "      <td>4.198420</td>\n",
              "      <td>0.976141</td>\n",
              "    </tr>\n",
              "    <tr>\n",
              "      <th>2017-10-27</th>\n",
              "      <td>4.248960</td>\n",
              "      <td>0.976559</td>\n",
              "    </tr>\n",
              "    <tr>\n",
              "      <th>2019-01-30</th>\n",
              "      <td>4.320685</td>\n",
              "      <td>0.976978</td>\n",
              "    </tr>\n",
              "    <tr>\n",
              "      <th>2018-03-29</th>\n",
              "      <td>4.417431</td>\n",
              "      <td>0.977396</td>\n",
              "    </tr>\n",
              "    <tr>\n",
              "      <th>2014-02-13</th>\n",
              "      <td>4.468588</td>\n",
              "      <td>0.977815</td>\n",
              "    </tr>\n",
              "    <tr>\n",
              "      <th>2018-04-10</th>\n",
              "      <td>4.501995</td>\n",
              "      <td>0.978234</td>\n",
              "    </tr>\n",
              "    <tr>\n",
              "      <th>2013-11-13</th>\n",
              "      <td>4.505468</td>\n",
              "      <td>0.978652</td>\n",
              "    </tr>\n",
              "    <tr>\n",
              "      <th>2015-07-17</th>\n",
              "      <td>4.534951</td>\n",
              "      <td>0.979071</td>\n",
              "    </tr>\n",
              "    <tr>\n",
              "      <th>2020-03-26</th>\n",
              "      <td>4.564362</td>\n",
              "      <td>0.979489</td>\n",
              "    </tr>\n",
              "    <tr>\n",
              "      <th>2014-10-17</th>\n",
              "      <td>4.571114</td>\n",
              "      <td>0.979908</td>\n",
              "    </tr>\n",
              "    <tr>\n",
              "      <th>2014-06-10</th>\n",
              "      <td>4.596049</td>\n",
              "      <td>0.980326</td>\n",
              "    </tr>\n",
              "    <tr>\n",
              "      <th>2020-07-01</th>\n",
              "      <td>4.615315</td>\n",
              "      <td>0.980745</td>\n",
              "    </tr>\n",
              "    <tr>\n",
              "      <th>2015-11-05</th>\n",
              "      <td>4.637290</td>\n",
              "      <td>0.981164</td>\n",
              "    </tr>\n",
              "    <tr>\n",
              "      <th>2019-01-04</th>\n",
              "      <td>4.713824</td>\n",
              "      <td>0.981582</td>\n",
              "    </tr>\n",
              "    <tr>\n",
              "      <th>2012-09-05</th>\n",
              "      <td>4.794137</td>\n",
              "      <td>0.982001</td>\n",
              "    </tr>\n",
              "    <tr>\n",
              "      <th>2013-10-10</th>\n",
              "      <td>4.874917</td>\n",
              "      <td>0.982419</td>\n",
              "    </tr>\n",
              "    <tr>\n",
              "      <th>2020-10-29</th>\n",
              "      <td>4.916491</td>\n",
              "      <td>0.982838</td>\n",
              "    </tr>\n",
              "    <tr>\n",
              "      <th>2013-12-12</th>\n",
              "      <td>4.961524</td>\n",
              "      <td>0.983257</td>\n",
              "    </tr>\n",
              "    <tr>\n",
              "      <th>2012-05-31</th>\n",
              "      <td>5.001773</td>\n",
              "      <td>0.983675</td>\n",
              "    </tr>\n",
              "    <tr>\n",
              "      <th>2015-08-26</th>\n",
              "      <td>5.048196</td>\n",
              "      <td>0.984094</td>\n",
              "    </tr>\n",
              "    <tr>\n",
              "      <th>2020-03-10</th>\n",
              "      <td>5.126845</td>\n",
              "      <td>0.984512</td>\n",
              "    </tr>\n",
              "    <tr>\n",
              "      <th>2014-07-24</th>\n",
              "      <td>5.176045</td>\n",
              "      <td>0.984931</td>\n",
              "    </tr>\n",
              "    <tr>\n",
              "      <th>2013-08-23</th>\n",
              "      <td>5.188068</td>\n",
              "      <td>0.985350</td>\n",
              "    </tr>\n",
              "    <tr>\n",
              "      <th>2012-08-03</th>\n",
              "      <td>5.239517</td>\n",
              "      <td>0.985768</td>\n",
              "    </tr>\n",
              "    <tr>\n",
              "      <th>2013-01-09</th>\n",
              "      <td>5.264971</td>\n",
              "      <td>0.986187</td>\n",
              "    </tr>\n",
              "    <tr>\n",
              "      <th>2013-05-30</th>\n",
              "      <td>5.274441</td>\n",
              "      <td>0.986605</td>\n",
              "    </tr>\n",
              "    <tr>\n",
              "      <th>2012-11-21</th>\n",
              "      <td>5.281382</td>\n",
              "      <td>0.987024</td>\n",
              "    </tr>\n",
              "    <tr>\n",
              "      <th>2021-07-23</th>\n",
              "      <td>5.296280</td>\n",
              "      <td>0.987442</td>\n",
              "    </tr>\n",
              "    <tr>\n",
              "      <th>2020-04-30</th>\n",
              "      <td>5.417377</td>\n",
              "      <td>0.987861</td>\n",
              "    </tr>\n",
              "    <tr>\n",
              "      <th>2013-05-02</th>\n",
              "      <td>5.614287</td>\n",
              "      <td>0.988280</td>\n",
              "    </tr>\n",
              "    <tr>\n",
              "      <th>2019-04-25</th>\n",
              "      <td>5.849487</td>\n",
              "      <td>0.988698</td>\n",
              "    </tr>\n",
              "    <tr>\n",
              "      <th>2013-09-17</th>\n",
              "      <td>6.022116</td>\n",
              "      <td>0.989117</td>\n",
              "    </tr>\n",
              "    <tr>\n",
              "      <th>2020-05-20</th>\n",
              "      <td>6.035594</td>\n",
              "      <td>0.989535</td>\n",
              "    </tr>\n",
              "    <tr>\n",
              "      <th>2012-06-15</th>\n",
              "      <td>6.079884</td>\n",
              "      <td>0.989954</td>\n",
              "    </tr>\n",
              "    <tr>\n",
              "      <th>2020-04-29</th>\n",
              "      <td>6.166967</td>\n",
              "      <td>0.990373</td>\n",
              "    </tr>\n",
              "    <tr>\n",
              "      <th>2013-07-30</th>\n",
              "      <td>6.209429</td>\n",
              "      <td>0.990791</td>\n",
              "    </tr>\n",
              "    <tr>\n",
              "      <th>2012-09-14</th>\n",
              "      <td>6.228880</td>\n",
              "      <td>0.991210</td>\n",
              "    </tr>\n",
              "    <tr>\n",
              "      <th>2012-11-16</th>\n",
              "      <td>6.269731</td>\n",
              "      <td>0.991628</td>\n",
              "    </tr>\n",
              "    <tr>\n",
              "      <th>2020-08-06</th>\n",
              "      <td>6.486835</td>\n",
              "      <td>0.992047</td>\n",
              "    </tr>\n",
              "    <tr>\n",
              "      <th>2012-09-19</th>\n",
              "      <td>6.492913</td>\n",
              "      <td>0.992465</td>\n",
              "    </tr>\n",
              "    <tr>\n",
              "      <th>2012-09-28</th>\n",
              "      <td>6.594489</td>\n",
              "      <td>0.992884</td>\n",
              "    </tr>\n",
              "    <tr>\n",
              "      <th>2020-04-22</th>\n",
              "      <td>6.721309</td>\n",
              "      <td>0.993303</td>\n",
              "    </tr>\n",
              "    <tr>\n",
              "      <th>2016-04-28</th>\n",
              "      <td>7.199930</td>\n",
              "      <td>0.993721</td>\n",
              "    </tr>\n",
              "    <tr>\n",
              "      <th>2014-04-09</th>\n",
              "      <td>7.252107</td>\n",
              "      <td>0.994140</td>\n",
              "    </tr>\n",
              "    <tr>\n",
              "      <th>2021-04-29</th>\n",
              "      <td>7.297298</td>\n",
              "      <td>0.994558</td>\n",
              "    </tr>\n",
              "    <tr>\n",
              "      <th>2012-09-12</th>\n",
              "      <td>7.720020</td>\n",
              "      <td>0.994977</td>\n",
              "    </tr>\n",
              "  </tbody>\n",
              "</table>\n",
              "</div>"
            ],
            "text/plain": [
              "               Close  cumm_dist\n",
              "Date                           \n",
              "2021-11-12  4.012334   0.972373\n",
              "2016-01-22  4.014442   0.972792\n",
              "2012-08-15  4.023561   0.973211\n",
              "2014-03-05  4.026158   0.973629\n",
              "2013-12-04  4.044510   0.974048\n",
              "2021-03-09  4.085227   0.974466\n",
              "2013-03-07  4.116572   0.974885\n",
              "2021-03-19  4.123893   0.975303\n",
              "2020-10-21  4.174770   0.975722\n",
              "2020-03-19  4.198420   0.976141\n",
              "2017-10-27  4.248960   0.976559\n",
              "2019-01-30  4.320685   0.976978\n",
              "2018-03-29  4.417431   0.977396\n",
              "2014-02-13  4.468588   0.977815\n",
              "2018-04-10  4.501995   0.978234\n",
              "2013-11-13  4.505468   0.978652\n",
              "2015-07-17  4.534951   0.979071\n",
              "2020-03-26  4.564362   0.979489\n",
              "2014-10-17  4.571114   0.979908\n",
              "2014-06-10  4.596049   0.980326\n",
              "2020-07-01  4.615315   0.980745\n",
              "2015-11-05  4.637290   0.981164\n",
              "2019-01-04  4.713824   0.981582\n",
              "2012-09-05  4.794137   0.982001\n",
              "2013-10-10  4.874917   0.982419\n",
              "2020-10-29  4.916491   0.982838\n",
              "2013-12-12  4.961524   0.983257\n",
              "2012-05-31  5.001773   0.983675\n",
              "2015-08-26  5.048196   0.984094\n",
              "2020-03-10  5.126845   0.984512\n",
              "2014-07-24  5.176045   0.984931\n",
              "2013-08-23  5.188068   0.985350\n",
              "2012-08-03  5.239517   0.985768\n",
              "2013-01-09  5.264971   0.986187\n",
              "2013-05-30  5.274441   0.986605\n",
              "2012-11-21  5.281382   0.987024\n",
              "2021-07-23  5.296280   0.987442\n",
              "2020-04-30  5.417377   0.987861\n",
              "2013-05-02  5.614287   0.988280\n",
              "2019-04-25  5.849487   0.988698\n",
              "2013-09-17  6.022116   0.989117\n",
              "2020-05-20  6.035594   0.989535\n",
              "2012-06-15  6.079884   0.989954\n",
              "2020-04-29  6.166967   0.990373\n",
              "2013-07-30  6.209429   0.990791\n",
              "2012-09-14  6.228880   0.991210\n",
              "2012-11-16  6.269731   0.991628\n",
              "2020-08-06  6.486835   0.992047\n",
              "2012-09-19  6.492913   0.992465\n",
              "2012-09-28  6.594489   0.992884\n",
              "2020-04-22  6.721309   0.993303\n",
              "2016-04-28  7.199930   0.993721\n",
              "2014-04-09  7.252107   0.994140\n",
              "2021-04-29  7.297298   0.994558\n",
              "2012-09-12  7.720020   0.994977"
            ]
          },
          "metadata": {},
          "execution_count": 53
        }
      ]
    },
    {
      "cell_type": "code",
      "metadata": {
        "colab": {
          "base_uri": "https://localhost:8080/",
          "height": 452
        },
        "id": "0hHWh8YDXBV_",
        "outputId": "68e63eeb-fe74-4054-f5c8-fca79c93b780"
      },
      "source": [
        "highrisk_fb"
      ],
      "execution_count": null,
      "outputs": [
        {
          "output_type": "execute_result",
          "data": {
            "text/html": [
              "<div>\n",
              "<style scoped>\n",
              "    .dataframe tbody tr th:only-of-type {\n",
              "        vertical-align: middle;\n",
              "    }\n",
              "\n",
              "    .dataframe tbody tr th {\n",
              "        vertical-align: top;\n",
              "    }\n",
              "\n",
              "    .dataframe thead th {\n",
              "        text-align: right;\n",
              "    }\n",
              "</style>\n",
              "<table border=\"1\" class=\"dataframe\">\n",
              "  <thead>\n",
              "    <tr style=\"text-align: right;\">\n",
              "      <th></th>\n",
              "      <th>Close</th>\n",
              "      <th>cumm_dist</th>\n",
              "    </tr>\n",
              "    <tr>\n",
              "      <th>Date</th>\n",
              "      <th></th>\n",
              "      <th></th>\n",
              "    </tr>\n",
              "  </thead>\n",
              "  <tbody>\n",
              "    <tr>\n",
              "      <th>2020-07-31</th>\n",
              "      <td>8.174839</td>\n",
              "      <td>0.995396</td>\n",
              "    </tr>\n",
              "    <tr>\n",
              "      <th>2020-08-26</th>\n",
              "      <td>8.222347</td>\n",
              "      <td>0.995814</td>\n",
              "    </tr>\n",
              "    <tr>\n",
              "      <th>2020-11-04</th>\n",
              "      <td>8.322660</td>\n",
              "      <td>0.996233</td>\n",
              "    </tr>\n",
              "    <tr>\n",
              "      <th>2020-03-24</th>\n",
              "      <td>8.696819</td>\n",
              "      <td>0.996651</td>\n",
              "    </tr>\n",
              "    <tr>\n",
              "      <th>2018-04-26</th>\n",
              "      <td>9.061307</td>\n",
              "      <td>0.997070</td>\n",
              "    </tr>\n",
              "    <tr>\n",
              "      <th>2020-03-13</th>\n",
              "      <td>10.234995</td>\n",
              "      <td>0.997488</td>\n",
              "    </tr>\n",
              "    <tr>\n",
              "      <th>2019-01-31</th>\n",
              "      <td>10.816384</td>\n",
              "      <td>0.997907</td>\n",
              "    </tr>\n",
              "    <tr>\n",
              "      <th>2012-11-14</th>\n",
              "      <td>12.588116</td>\n",
              "      <td>0.998326</td>\n",
              "    </tr>\n",
              "    <tr>\n",
              "      <th>2014-01-30</th>\n",
              "      <td>14.104247</td>\n",
              "      <td>0.998744</td>\n",
              "    </tr>\n",
              "    <tr>\n",
              "      <th>2016-01-28</th>\n",
              "      <td>15.521444</td>\n",
              "      <td>0.999163</td>\n",
              "    </tr>\n",
              "    <tr>\n",
              "      <th>2012-10-24</th>\n",
              "      <td>19.128203</td>\n",
              "      <td>0.999581</td>\n",
              "    </tr>\n",
              "    <tr>\n",
              "      <th>2013-07-25</th>\n",
              "      <td>29.611469</td>\n",
              "      <td>1.000000</td>\n",
              "    </tr>\n",
              "  </tbody>\n",
              "</table>\n",
              "</div>"
            ],
            "text/plain": [
              "                Close  cumm_dist\n",
              "Date                            \n",
              "2020-07-31   8.174839   0.995396\n",
              "2020-08-26   8.222347   0.995814\n",
              "2020-11-04   8.322660   0.996233\n",
              "2020-03-24   8.696819   0.996651\n",
              "2018-04-26   9.061307   0.997070\n",
              "2020-03-13  10.234995   0.997488\n",
              "2019-01-31  10.816384   0.997907\n",
              "2012-11-14  12.588116   0.998326\n",
              "2014-01-30  14.104247   0.998744\n",
              "2016-01-28  15.521444   0.999163\n",
              "2012-10-24  19.128203   0.999581\n",
              "2013-07-25  29.611469   1.000000"
            ]
          },
          "metadata": {},
          "execution_count": 54
        }
      ]
    },
    {
      "cell_type": "code",
      "metadata": {
        "id": "JSo9dj5FXTNY"
      },
      "source": [
        "lowrisk_nflx = data_nflx[data_nflx['Close'] >= 0]\n",
        "midrisk_nflx = data_nflx[data_nflx['Close'] >= 4]\n",
        "highrisk_nflx = data_nflx[data_nflx['Close'] >= 8]\n",
        "lowrisk_nflx = lowrisk_nflx[lowrisk_nflx['Close'] < 4]\n",
        "midrisk_nflx = midrisk_nflx[midrisk_nflx['Close'] < 8]"
      ],
      "execution_count": null,
      "outputs": []
    },
    {
      "cell_type": "code",
      "metadata": {
        "colab": {
          "base_uri": "https://localhost:8080/",
          "height": 450
        },
        "id": "S63y8Qr5XlDC",
        "outputId": "659efe4c-7d22-4abd-8733-933cf64ff98e"
      },
      "source": [
        "lowrisk_nflx"
      ],
      "execution_count": null,
      "outputs": [
        {
          "output_type": "execute_result",
          "data": {
            "text/html": [
              "<div>\n",
              "<style scoped>\n",
              "    .dataframe tbody tr th:only-of-type {\n",
              "        vertical-align: middle;\n",
              "    }\n",
              "\n",
              "    .dataframe tbody tr th {\n",
              "        vertical-align: top;\n",
              "    }\n",
              "\n",
              "    .dataframe thead th {\n",
              "        text-align: right;\n",
              "    }\n",
              "</style>\n",
              "<table border=\"1\" class=\"dataframe\">\n",
              "  <thead>\n",
              "    <tr style=\"text-align: right;\">\n",
              "      <th></th>\n",
              "      <th>Close</th>\n",
              "      <th>cumm_dist</th>\n",
              "    </tr>\n",
              "    <tr>\n",
              "      <th>Date</th>\n",
              "      <th></th>\n",
              "      <th></th>\n",
              "    </tr>\n",
              "  </thead>\n",
              "  <tbody>\n",
              "    <tr>\n",
              "      <th>2019-03-18</th>\n",
              "      <td>0.000000</td>\n",
              "      <td>0.380032</td>\n",
              "    </tr>\n",
              "    <tr>\n",
              "      <th>2018-10-15</th>\n",
              "      <td>0.000000</td>\n",
              "      <td>0.380435</td>\n",
              "    </tr>\n",
              "    <tr>\n",
              "      <th>2018-11-12</th>\n",
              "      <td>0.000000</td>\n",
              "      <td>0.380837</td>\n",
              "    </tr>\n",
              "    <tr>\n",
              "      <th>2018-07-16</th>\n",
              "      <td>0.000000</td>\n",
              "      <td>0.381240</td>\n",
              "    </tr>\n",
              "    <tr>\n",
              "      <th>2018-07-23</th>\n",
              "      <td>0.000000</td>\n",
              "      <td>0.381643</td>\n",
              "    </tr>\n",
              "    <tr>\n",
              "      <th>...</th>\n",
              "      <td>...</td>\n",
              "      <td>...</td>\n",
              "    </tr>\n",
              "    <tr>\n",
              "      <th>2018-09-12</th>\n",
              "      <td>3.938982</td>\n",
              "      <td>0.949275</td>\n",
              "    </tr>\n",
              "    <tr>\n",
              "      <th>2018-05-23</th>\n",
              "      <td>3.950306</td>\n",
              "      <td>0.949678</td>\n",
              "    </tr>\n",
              "    <tr>\n",
              "      <th>2019-01-11</th>\n",
              "      <td>3.982626</td>\n",
              "      <td>0.950081</td>\n",
              "    </tr>\n",
              "    <tr>\n",
              "      <th>2018-10-16</th>\n",
              "      <td>3.983427</td>\n",
              "      <td>0.950483</td>\n",
              "    </tr>\n",
              "    <tr>\n",
              "      <th>2019-09-25</th>\n",
              "      <td>3.990732</td>\n",
              "      <td>0.950886</td>\n",
              "    </tr>\n",
              "  </tbody>\n",
              "</table>\n",
              "<p>1419 rows × 2 columns</p>\n",
              "</div>"
            ],
            "text/plain": [
              "               Close  cumm_dist\n",
              "Date                           \n",
              "2019-03-18  0.000000   0.380032\n",
              "2018-10-15  0.000000   0.380435\n",
              "2018-11-12  0.000000   0.380837\n",
              "2018-07-16  0.000000   0.381240\n",
              "2018-07-23  0.000000   0.381643\n",
              "...              ...        ...\n",
              "2018-09-12  3.938982   0.949275\n",
              "2018-05-23  3.950306   0.949678\n",
              "2019-01-11  3.982626   0.950081\n",
              "2018-10-16  3.983427   0.950483\n",
              "2019-09-25  3.990732   0.950886\n",
              "\n",
              "[1419 rows x 2 columns]"
            ]
          },
          "metadata": {},
          "execution_count": 56
        }
      ]
    },
    {
      "cell_type": "code",
      "metadata": {
        "colab": {
          "base_uri": "https://localhost:8080/",
          "height": 450
        },
        "id": "lVIV0SzaXoi3",
        "outputId": "42e89659-8709-47f9-ebca-5029c04703cd"
      },
      "source": [
        "midrisk_nflx"
      ],
      "execution_count": null,
      "outputs": [
        {
          "output_type": "execute_result",
          "data": {
            "text/html": [
              "<div>\n",
              "<style scoped>\n",
              "    .dataframe tbody tr th:only-of-type {\n",
              "        vertical-align: middle;\n",
              "    }\n",
              "\n",
              "    .dataframe tbody tr th {\n",
              "        vertical-align: top;\n",
              "    }\n",
              "\n",
              "    .dataframe thead th {\n",
              "        text-align: right;\n",
              "    }\n",
              "</style>\n",
              "<table border=\"1\" class=\"dataframe\">\n",
              "  <thead>\n",
              "    <tr style=\"text-align: right;\">\n",
              "      <th></th>\n",
              "      <th>Close</th>\n",
              "      <th>cumm_dist</th>\n",
              "    </tr>\n",
              "    <tr>\n",
              "      <th>Date</th>\n",
              "      <th></th>\n",
              "      <th></th>\n",
              "    </tr>\n",
              "  </thead>\n",
              "  <tbody>\n",
              "    <tr>\n",
              "      <th>2013-05-15</th>\n",
              "      <td>4.030426</td>\n",
              "      <td>0.951288</td>\n",
              "    </tr>\n",
              "    <tr>\n",
              "      <th>2012-02-14</th>\n",
              "      <td>4.032124</td>\n",
              "      <td>0.951691</td>\n",
              "    </tr>\n",
              "    <tr>\n",
              "      <th>2012-01-18</th>\n",
              "      <td>4.032933</td>\n",
              "      <td>0.952093</td>\n",
              "    </tr>\n",
              "    <tr>\n",
              "      <th>2020-03-04</th>\n",
              "      <td>4.073005</td>\n",
              "      <td>0.952496</td>\n",
              "    </tr>\n",
              "    <tr>\n",
              "      <th>2012-07-12</th>\n",
              "      <td>4.078878</td>\n",
              "      <td>0.952899</td>\n",
              "    </tr>\n",
              "    <tr>\n",
              "      <th>...</th>\n",
              "      <td>...</td>\n",
              "      <td>...</td>\n",
              "    </tr>\n",
              "    <tr>\n",
              "      <th>2020-03-17</th>\n",
              "      <td>6.997057</td>\n",
              "      <td>0.989130</td>\n",
              "    </tr>\n",
              "    <tr>\n",
              "      <th>2014-04-22</th>\n",
              "      <td>7.004501</td>\n",
              "      <td>0.989533</td>\n",
              "    </tr>\n",
              "    <tr>\n",
              "      <th>2020-01-23</th>\n",
              "      <td>7.239266</td>\n",
              "      <td>0.989936</td>\n",
              "    </tr>\n",
              "    <tr>\n",
              "      <th>2014-07-01</th>\n",
              "      <td>7.376310</td>\n",
              "      <td>0.990338</td>\n",
              "    </tr>\n",
              "    <tr>\n",
              "      <th>2015-08-04</th>\n",
              "      <td>7.631489</td>\n",
              "      <td>0.990741</td>\n",
              "    </tr>\n",
              "  </tbody>\n",
              "</table>\n",
              "<p>99 rows × 2 columns</p>\n",
              "</div>"
            ],
            "text/plain": [
              "               Close  cumm_dist\n",
              "Date                           \n",
              "2013-05-15  4.030426   0.951288\n",
              "2012-02-14  4.032124   0.951691\n",
              "2012-01-18  4.032933   0.952093\n",
              "2020-03-04  4.073005   0.952496\n",
              "2012-07-12  4.078878   0.952899\n",
              "...              ...        ...\n",
              "2020-03-17  6.997057   0.989130\n",
              "2014-04-22  7.004501   0.989533\n",
              "2020-01-23  7.239266   0.989936\n",
              "2014-07-01  7.376310   0.990338\n",
              "2015-08-04  7.631489   0.990741\n",
              "\n",
              "[99 rows x 2 columns]"
            ]
          },
          "metadata": {},
          "execution_count": 57
        }
      ]
    },
    {
      "cell_type": "code",
      "metadata": {
        "colab": {
          "base_uri": "https://localhost:8080/",
          "height": 793
        },
        "id": "kZXZeFTMXrgT",
        "outputId": "4b4c1787-8197-4a3f-ffea-e6c00f5c04c7"
      },
      "source": [
        "highrisk_nflx"
      ],
      "execution_count": null,
      "outputs": [
        {
          "output_type": "execute_result",
          "data": {
            "text/html": [
              "<div>\n",
              "<style scoped>\n",
              "    .dataframe tbody tr th:only-of-type {\n",
              "        vertical-align: middle;\n",
              "    }\n",
              "\n",
              "    .dataframe tbody tr th {\n",
              "        vertical-align: top;\n",
              "    }\n",
              "\n",
              "    .dataframe thead th {\n",
              "        text-align: right;\n",
              "    }\n",
              "</style>\n",
              "<table border=\"1\" class=\"dataframe\">\n",
              "  <thead>\n",
              "    <tr style=\"text-align: right;\">\n",
              "      <th></th>\n",
              "      <th>Close</th>\n",
              "      <th>cumm_dist</th>\n",
              "    </tr>\n",
              "    <tr>\n",
              "      <th>Date</th>\n",
              "      <th></th>\n",
              "      <th></th>\n",
              "    </tr>\n",
              "  </thead>\n",
              "  <tbody>\n",
              "    <tr>\n",
              "      <th>2020-07-10</th>\n",
              "      <td>8.068767</td>\n",
              "      <td>0.991143</td>\n",
              "    </tr>\n",
              "    <tr>\n",
              "      <th>2015-08-26</th>\n",
              "      <td>8.481088</td>\n",
              "      <td>0.991546</td>\n",
              "    </tr>\n",
              "    <tr>\n",
              "      <th>2012-01-06</th>\n",
              "      <td>8.814628</td>\n",
              "      <td>0.991948</td>\n",
              "    </tr>\n",
              "    <tr>\n",
              "      <th>2018-04-17</th>\n",
              "      <td>9.188381</td>\n",
              "      <td>0.992351</td>\n",
              "    </tr>\n",
              "    <tr>\n",
              "      <th>2016-01-06</th>\n",
              "      <td>9.307074</td>\n",
              "      <td>0.992754</td>\n",
              "    </tr>\n",
              "    <tr>\n",
              "      <th>2019-01-04</th>\n",
              "      <td>9.723449</td>\n",
              "      <td>0.993156</td>\n",
              "    </tr>\n",
              "    <tr>\n",
              "      <th>2018-01-23</th>\n",
              "      <td>9.978905</td>\n",
              "      <td>0.993559</td>\n",
              "    </tr>\n",
              "    <tr>\n",
              "      <th>2012-10-03</th>\n",
              "      <td>10.839533</td>\n",
              "      <td>0.993961</td>\n",
              "    </tr>\n",
              "    <tr>\n",
              "      <th>2012-01-04</th>\n",
              "      <td>11.364897</td>\n",
              "      <td>0.994364</td>\n",
              "    </tr>\n",
              "    <tr>\n",
              "      <th>2020-08-26</th>\n",
              "      <td>11.608717</td>\n",
              "      <td>0.994767</td>\n",
              "    </tr>\n",
              "    <tr>\n",
              "      <th>2012-10-26</th>\n",
              "      <td>13.119814</td>\n",
              "      <td>0.995169</td>\n",
              "    </tr>\n",
              "    <tr>\n",
              "      <th>2017-07-18</th>\n",
              "      <td>13.543605</td>\n",
              "      <td>0.995572</td>\n",
              "    </tr>\n",
              "    <tr>\n",
              "      <th>2012-12-04</th>\n",
              "      <td>14.013144</td>\n",
              "      <td>0.995974</td>\n",
              "    </tr>\n",
              "    <tr>\n",
              "      <th>2013-01-25</th>\n",
              "      <td>15.456897</td>\n",
              "      <td>0.996377</td>\n",
              "    </tr>\n",
              "    <tr>\n",
              "      <th>2014-01-23</th>\n",
              "      <td>16.477398</td>\n",
              "      <td>0.996779</td>\n",
              "    </tr>\n",
              "    <tr>\n",
              "      <th>2021-01-20</th>\n",
              "      <td>16.854344</td>\n",
              "      <td>0.997182</td>\n",
              "    </tr>\n",
              "    <tr>\n",
              "      <th>2015-01-21</th>\n",
              "      <td>17.339448</td>\n",
              "      <td>0.997585</td>\n",
              "    </tr>\n",
              "    <tr>\n",
              "      <th>2015-07-16</th>\n",
              "      <td>18.016917</td>\n",
              "      <td>0.997987</td>\n",
              "    </tr>\n",
              "    <tr>\n",
              "      <th>2015-04-16</th>\n",
              "      <td>18.211829</td>\n",
              "      <td>0.998390</td>\n",
              "    </tr>\n",
              "    <tr>\n",
              "      <th>2016-10-18</th>\n",
              "      <td>19.028053</td>\n",
              "      <td>0.998792</td>\n",
              "    </tr>\n",
              "    <tr>\n",
              "      <th>2012-01-26</th>\n",
              "      <td>22.064393</td>\n",
              "      <td>0.999195</td>\n",
              "    </tr>\n",
              "    <tr>\n",
              "      <th>2013-04-23</th>\n",
              "      <td>24.442279</td>\n",
              "      <td>0.999597</td>\n",
              "    </tr>\n",
              "    <tr>\n",
              "      <th>2013-01-24</th>\n",
              "      <td>42.223510</td>\n",
              "      <td>1.000000</td>\n",
              "    </tr>\n",
              "  </tbody>\n",
              "</table>\n",
              "</div>"
            ],
            "text/plain": [
              "                Close  cumm_dist\n",
              "Date                            \n",
              "2020-07-10   8.068767   0.991143\n",
              "2015-08-26   8.481088   0.991546\n",
              "2012-01-06   8.814628   0.991948\n",
              "2018-04-17   9.188381   0.992351\n",
              "2016-01-06   9.307074   0.992754\n",
              "2019-01-04   9.723449   0.993156\n",
              "2018-01-23   9.978905   0.993559\n",
              "2012-10-03  10.839533   0.993961\n",
              "2012-01-04  11.364897   0.994364\n",
              "2020-08-26  11.608717   0.994767\n",
              "2012-10-26  13.119814   0.995169\n",
              "2017-07-18  13.543605   0.995572\n",
              "2012-12-04  14.013144   0.995974\n",
              "2013-01-25  15.456897   0.996377\n",
              "2014-01-23  16.477398   0.996779\n",
              "2021-01-20  16.854344   0.997182\n",
              "2015-01-21  17.339448   0.997585\n",
              "2015-07-16  18.016917   0.997987\n",
              "2015-04-16  18.211829   0.998390\n",
              "2016-10-18  19.028053   0.998792\n",
              "2012-01-26  22.064393   0.999195\n",
              "2013-04-23  24.442279   0.999597\n",
              "2013-01-24  42.223510   1.000000"
            ]
          },
          "metadata": {},
          "execution_count": 58
        }
      ]
    },
    {
      "cell_type": "code",
      "metadata": {
        "id": "Fbd6wHxEX9f6"
      },
      "source": [
        "lowrisk_goog = data_goog[data_goog['Close'] >= 0]\n",
        "midrisk_goog = data_goog[data_goog['Close'] >= 4]\n",
        "highrisk_goog = data_goog[data_goog['Close'] >= 8]\n",
        "lowrisk_goog = lowrisk_goog[lowrisk_goog['Close'] < 4]\n",
        "midrisk_goog = midrisk_goog[midrisk_goog['Close'] < 8]"
      ],
      "execution_count": null,
      "outputs": []
    },
    {
      "cell_type": "code",
      "metadata": {
        "colab": {
          "base_uri": "https://localhost:8080/",
          "height": 450
        },
        "id": "RtxpoVY1YNYe",
        "outputId": "2adc023d-08e6-4f1d-b8cb-0c27cb5fc6e8"
      },
      "source": [
        "lowrisk_goog"
      ],
      "execution_count": null,
      "outputs": [
        {
          "output_type": "execute_result",
          "data": {
            "text/html": [
              "<div>\n",
              "<style scoped>\n",
              "    .dataframe tbody tr th:only-of-type {\n",
              "        vertical-align: middle;\n",
              "    }\n",
              "\n",
              "    .dataframe tbody tr th {\n",
              "        vertical-align: top;\n",
              "    }\n",
              "\n",
              "    .dataframe thead th {\n",
              "        text-align: right;\n",
              "    }\n",
              "</style>\n",
              "<table border=\"1\" class=\"dataframe\">\n",
              "  <thead>\n",
              "    <tr style=\"text-align: right;\">\n",
              "      <th></th>\n",
              "      <th>Close</th>\n",
              "      <th>cumm_dist</th>\n",
              "    </tr>\n",
              "    <tr>\n",
              "      <th>Date</th>\n",
              "      <th></th>\n",
              "      <th></th>\n",
              "    </tr>\n",
              "  </thead>\n",
              "  <tbody>\n",
              "    <tr>\n",
              "      <th>2017-10-30</th>\n",
              "      <td>0.000000</td>\n",
              "      <td>0.364734</td>\n",
              "    </tr>\n",
              "    <tr>\n",
              "      <th>2018-11-12</th>\n",
              "      <td>0.000000</td>\n",
              "      <td>0.365137</td>\n",
              "    </tr>\n",
              "    <tr>\n",
              "      <th>2017-01-09</th>\n",
              "      <td>0.000000</td>\n",
              "      <td>0.365539</td>\n",
              "    </tr>\n",
              "    <tr>\n",
              "      <th>2016-07-11</th>\n",
              "      <td>0.000000</td>\n",
              "      <td>0.365942</td>\n",
              "    </tr>\n",
              "    <tr>\n",
              "      <th>2019-04-08</th>\n",
              "      <td>0.000000</td>\n",
              "      <td>0.366345</td>\n",
              "    </tr>\n",
              "    <tr>\n",
              "      <th>...</th>\n",
              "      <td>...</td>\n",
              "      <td>...</td>\n",
              "    </tr>\n",
              "    <tr>\n",
              "      <th>2014-07-18</th>\n",
              "      <td>3.721266</td>\n",
              "      <td>0.987923</td>\n",
              "    </tr>\n",
              "    <tr>\n",
              "      <th>2014-04-16</th>\n",
              "      <td>3.746916</td>\n",
              "      <td>0.988325</td>\n",
              "    </tr>\n",
              "    <tr>\n",
              "      <th>2020-04-22</th>\n",
              "      <td>3.853363</td>\n",
              "      <td>0.988728</td>\n",
              "    </tr>\n",
              "    <tr>\n",
              "      <th>2019-05-15</th>\n",
              "      <td>3.906503</td>\n",
              "      <td>0.989130</td>\n",
              "    </tr>\n",
              "    <tr>\n",
              "      <th>2018-10-31</th>\n",
              "      <td>3.914270</td>\n",
              "      <td>0.989533</td>\n",
              "    </tr>\n",
              "  </tbody>\n",
              "</table>\n",
              "<p>1553 rows × 2 columns</p>\n",
              "</div>"
            ],
            "text/plain": [
              "               Close  cumm_dist\n",
              "Date                           \n",
              "2017-10-30  0.000000   0.364734\n",
              "2018-11-12  0.000000   0.365137\n",
              "2017-01-09  0.000000   0.365539\n",
              "2016-07-11  0.000000   0.365942\n",
              "2019-04-08  0.000000   0.366345\n",
              "...              ...        ...\n",
              "2014-07-18  3.721266   0.987923\n",
              "2014-04-16  3.746916   0.988325\n",
              "2020-04-22  3.853363   0.988728\n",
              "2019-05-15  3.906503   0.989130\n",
              "2018-10-31  3.914270   0.989533\n",
              "\n",
              "[1553 rows x 2 columns]"
            ]
          },
          "metadata": {},
          "execution_count": 60
        }
      ]
    },
    {
      "cell_type": "code",
      "metadata": {
        "colab": {
          "base_uri": "https://localhost:8080/",
          "height": 731
        },
        "id": "xU43f54CYPz5",
        "outputId": "fd09fb5d-0608-4173-8b0a-9f515f6814c9"
      },
      "source": [
        "midrisk_goog"
      ],
      "execution_count": null,
      "outputs": [
        {
          "output_type": "execute_result",
          "data": {
            "text/html": [
              "<div>\n",
              "<style scoped>\n",
              "    .dataframe tbody tr th:only-of-type {\n",
              "        vertical-align: middle;\n",
              "    }\n",
              "\n",
              "    .dataframe tbody tr th {\n",
              "        vertical-align: top;\n",
              "    }\n",
              "\n",
              "    .dataframe thead th {\n",
              "        text-align: right;\n",
              "    }\n",
              "</style>\n",
              "<table border=\"1\" class=\"dataframe\">\n",
              "  <thead>\n",
              "    <tr style=\"text-align: right;\">\n",
              "      <th></th>\n",
              "      <th>Close</th>\n",
              "      <th>cumm_dist</th>\n",
              "    </tr>\n",
              "    <tr>\n",
              "      <th>Date</th>\n",
              "      <th></th>\n",
              "      <th></th>\n",
              "    </tr>\n",
              "  </thead>\n",
              "  <tbody>\n",
              "    <tr>\n",
              "      <th>2018-11-28</th>\n",
              "      <td>4.004169</td>\n",
              "      <td>0.989936</td>\n",
              "    </tr>\n",
              "    <tr>\n",
              "      <th>2014-01-31</th>\n",
              "      <td>4.014479</td>\n",
              "      <td>0.990338</td>\n",
              "    </tr>\n",
              "    <tr>\n",
              "      <th>2020-09-02</th>\n",
              "      <td>4.068746</td>\n",
              "      <td>0.990741</td>\n",
              "    </tr>\n",
              "    <tr>\n",
              "      <th>2020-04-14</th>\n",
              "      <td>4.243727</td>\n",
              "      <td>0.991143</td>\n",
              "    </tr>\n",
              "    <tr>\n",
              "      <th>2015-08-11</th>\n",
              "      <td>4.268387</td>\n",
              "      <td>0.991546</td>\n",
              "    </tr>\n",
              "    <tr>\n",
              "      <th>2018-10-25</th>\n",
              "      <td>4.269493</td>\n",
              "      <td>0.991948</td>\n",
              "    </tr>\n",
              "    <tr>\n",
              "      <th>2016-01-28</th>\n",
              "      <td>4.424354</td>\n",
              "      <td>0.992351</td>\n",
              "    </tr>\n",
              "    <tr>\n",
              "      <th>2013-04-19</th>\n",
              "      <td>4.433934</td>\n",
              "      <td>0.992754</td>\n",
              "    </tr>\n",
              "    <tr>\n",
              "      <th>2015-01-30</th>\n",
              "      <td>4.672392</td>\n",
              "      <td>0.993156</td>\n",
              "    </tr>\n",
              "    <tr>\n",
              "      <th>2017-10-27</th>\n",
              "      <td>4.802791</td>\n",
              "      <td>0.993559</td>\n",
              "    </tr>\n",
              "    <tr>\n",
              "      <th>2021-10-27</th>\n",
              "      <td>4.836693</td>\n",
              "      <td>0.993961</td>\n",
              "    </tr>\n",
              "    <tr>\n",
              "      <th>2020-03-10</th>\n",
              "      <td>5.333340</td>\n",
              "      <td>0.994364</td>\n",
              "    </tr>\n",
              "    <tr>\n",
              "      <th>2021-01-20</th>\n",
              "      <td>5.362789</td>\n",
              "      <td>0.994767</td>\n",
              "    </tr>\n",
              "    <tr>\n",
              "      <th>2020-03-26</th>\n",
              "      <td>5.375106</td>\n",
              "      <td>0.995169</td>\n",
              "    </tr>\n",
              "    <tr>\n",
              "      <th>2019-01-04</th>\n",
              "      <td>5.378616</td>\n",
              "      <td>0.995572</td>\n",
              "    </tr>\n",
              "    <tr>\n",
              "      <th>2013-01-23</th>\n",
              "      <td>5.496042</td>\n",
              "      <td>0.995974</td>\n",
              "    </tr>\n",
              "    <tr>\n",
              "      <th>2020-11-04</th>\n",
              "      <td>5.994391</td>\n",
              "      <td>0.996377</td>\n",
              "    </tr>\n",
              "    <tr>\n",
              "      <th>2020-03-24</th>\n",
              "      <td>7.366884</td>\n",
              "      <td>0.996779</td>\n",
              "    </tr>\n",
              "    <tr>\n",
              "      <th>2021-02-03</th>\n",
              "      <td>7.396074</td>\n",
              "      <td>0.997182</td>\n",
              "    </tr>\n",
              "    <tr>\n",
              "      <th>2015-10-23</th>\n",
              "      <td>7.703405</td>\n",
              "      <td>0.997585</td>\n",
              "    </tr>\n",
              "    <tr>\n",
              "      <th>2015-08-26</th>\n",
              "      <td>7.999175</td>\n",
              "      <td>0.997987</td>\n",
              "    </tr>\n",
              "  </tbody>\n",
              "</table>\n",
              "</div>"
            ],
            "text/plain": [
              "               Close  cumm_dist\n",
              "Date                           \n",
              "2018-11-28  4.004169   0.989936\n",
              "2014-01-31  4.014479   0.990338\n",
              "2020-09-02  4.068746   0.990741\n",
              "2020-04-14  4.243727   0.991143\n",
              "2015-08-11  4.268387   0.991546\n",
              "2018-10-25  4.269493   0.991948\n",
              "2016-01-28  4.424354   0.992351\n",
              "2013-04-19  4.433934   0.992754\n",
              "2015-01-30  4.672392   0.993156\n",
              "2017-10-27  4.802791   0.993559\n",
              "2021-10-27  4.836693   0.993961\n",
              "2020-03-10  5.333340   0.994364\n",
              "2021-01-20  5.362789   0.994767\n",
              "2020-03-26  5.375106   0.995169\n",
              "2019-01-04  5.378616   0.995572\n",
              "2013-01-23  5.496042   0.995974\n",
              "2020-11-04  5.994391   0.996377\n",
              "2020-03-24  7.366884   0.996779\n",
              "2021-02-03  7.396074   0.997182\n",
              "2015-10-23  7.703405   0.997585\n",
              "2015-08-26  7.999175   0.997987"
            ]
          },
          "metadata": {},
          "execution_count": 61
        }
      ]
    },
    {
      "cell_type": "code",
      "metadata": {
        "colab": {
          "base_uri": "https://localhost:8080/",
          "height": 235
        },
        "id": "r6ZaWRohYSuG",
        "outputId": "75214ee2-c077-4259-c462-90b065cc47a2"
      },
      "source": [
        "highrisk_goog"
      ],
      "execution_count": null,
      "outputs": [
        {
          "output_type": "execute_result",
          "data": {
            "text/html": [
              "<div>\n",
              "<style scoped>\n",
              "    .dataframe tbody tr th:only-of-type {\n",
              "        vertical-align: middle;\n",
              "    }\n",
              "\n",
              "    .dataframe tbody tr th {\n",
              "        vertical-align: top;\n",
              "    }\n",
              "\n",
              "    .dataframe thead th {\n",
              "        text-align: right;\n",
              "    }\n",
              "</style>\n",
              "<table border=\"1\" class=\"dataframe\">\n",
              "  <thead>\n",
              "    <tr style=\"text-align: right;\">\n",
              "      <th></th>\n",
              "      <th>Close</th>\n",
              "      <th>cumm_dist</th>\n",
              "    </tr>\n",
              "    <tr>\n",
              "      <th>Date</th>\n",
              "      <th></th>\n",
              "      <th></th>\n",
              "    </tr>\n",
              "  </thead>\n",
              "  <tbody>\n",
              "    <tr>\n",
              "      <th>2020-04-29</th>\n",
              "      <td>8.738960</td>\n",
              "      <td>0.998390</td>\n",
              "    </tr>\n",
              "    <tr>\n",
              "      <th>2020-03-13</th>\n",
              "      <td>9.401651</td>\n",
              "      <td>0.998792</td>\n",
              "    </tr>\n",
              "    <tr>\n",
              "      <th>2019-07-26</th>\n",
              "      <td>10.448543</td>\n",
              "      <td>0.999195</td>\n",
              "    </tr>\n",
              "    <tr>\n",
              "      <th>2013-10-18</th>\n",
              "      <td>13.796286</td>\n",
              "      <td>0.999597</td>\n",
              "    </tr>\n",
              "    <tr>\n",
              "      <th>2015-07-17</th>\n",
              "      <td>16.052431</td>\n",
              "      <td>1.000000</td>\n",
              "    </tr>\n",
              "  </tbody>\n",
              "</table>\n",
              "</div>"
            ],
            "text/plain": [
              "                Close  cumm_dist\n",
              "Date                            \n",
              "2020-04-29   8.738960   0.998390\n",
              "2020-03-13   9.401651   0.998792\n",
              "2019-07-26  10.448543   0.999195\n",
              "2013-10-18  13.796286   0.999597\n",
              "2015-07-17  16.052431   1.000000"
            ]
          },
          "metadata": {},
          "execution_count": 62
        }
      ]
    },
    {
      "cell_type": "markdown",
      "metadata": {
        "id": "lHXSn-L1Ya5k"
      },
      "source": [
        "## 10. Extract Probability scores as per risk taken :"
      ]
    },
    {
      "cell_type": "code",
      "metadata": {
        "colab": {
          "base_uri": "https://localhost:8080/"
        },
        "id": "kcpKAm8IYaYR",
        "outputId": "d94b139f-616e-4987-8398-a824a674c805"
      },
      "source": [
        "lr1 = len(lowrisk_aapl.axes[0])\n",
        "lr1"
      ],
      "execution_count": null,
      "outputs": [
        {
          "output_type": "execute_result",
          "data": {
            "text/plain": [
              "1491"
            ]
          },
          "metadata": {},
          "execution_count": 63
        }
      ]
    },
    {
      "cell_type": "code",
      "metadata": {
        "colab": {
          "base_uri": "https://localhost:8080/"
        },
        "id": "EsnSdmzfZNmN",
        "outputId": "97cddf42-333f-4be0-9d97-89d3dd638aae"
      },
      "source": [
        "lr2 = len(lowrisk_amzn.axes[0])\n",
        "lr2"
      ],
      "execution_count": null,
      "outputs": [
        {
          "output_type": "execute_result",
          "data": {
            "text/plain": [
              "1537"
            ]
          },
          "metadata": {},
          "execution_count": 64
        }
      ]
    },
    {
      "cell_type": "code",
      "metadata": {
        "colab": {
          "base_uri": "https://localhost:8080/"
        },
        "id": "OWopBkf6ZQTs",
        "outputId": "2c7792b0-27b9-4afd-e81c-8f40e012b962"
      },
      "source": [
        "lr3 = len(lowrisk_fb.axes[0])\n",
        "lr3"
      ],
      "execution_count": null,
      "outputs": [
        {
          "output_type": "execute_result",
          "data": {
            "text/plain": [
              "1439"
            ]
          },
          "metadata": {},
          "execution_count": 65
        }
      ]
    },
    {
      "cell_type": "code",
      "metadata": {
        "colab": {
          "base_uri": "https://localhost:8080/"
        },
        "id": "_ltO6MrzZSpc",
        "outputId": "5d41febe-253f-4ebd-a098-5773f34e7343"
      },
      "source": [
        "lr4 = len(lowrisk_nflx.axes[0])\n",
        "lr4"
      ],
      "execution_count": null,
      "outputs": [
        {
          "output_type": "execute_result",
          "data": {
            "text/plain": [
              "1419"
            ]
          },
          "metadata": {},
          "execution_count": 66
        }
      ]
    },
    {
      "cell_type": "code",
      "metadata": {
        "colab": {
          "base_uri": "https://localhost:8080/"
        },
        "id": "2Ag4Pt9FZV25",
        "outputId": "b908db34-0d07-499c-a157-b0753ae5207b"
      },
      "source": [
        "lr5 = len(lowrisk_goog.axes[0])\n",
        "lr5"
      ],
      "execution_count": null,
      "outputs": [
        {
          "output_type": "execute_result",
          "data": {
            "text/plain": [
              "1553"
            ]
          },
          "metadata": {},
          "execution_count": 67
        }
      ]
    },
    {
      "cell_type": "code",
      "metadata": {
        "colab": {
          "base_uri": "https://localhost:8080/"
        },
        "id": "NJvioiXlZal6",
        "outputId": "f2429d4d-1d40-406c-8bcf-203e78219ad9"
      },
      "source": [
        "mr1 = len(midrisk_aapl.axes[0])\n",
        "mr1"
      ],
      "execution_count": null,
      "outputs": [
        {
          "output_type": "execute_result",
          "data": {
            "text/plain": [
              "29"
            ]
          },
          "metadata": {},
          "execution_count": 68
        }
      ]
    },
    {
      "cell_type": "code",
      "metadata": {
        "colab": {
          "base_uri": "https://localhost:8080/"
        },
        "id": "RqrIkEzjZigO",
        "outputId": "76bff4cb-1f45-4641-83ec-a04992baf572"
      },
      "source": [
        "mr2 = len(midrisk_amzn.axes[0])\n",
        "mr2"
      ],
      "execution_count": null,
      "outputs": [
        {
          "output_type": "execute_result",
          "data": {
            "text/plain": [
              "35"
            ]
          },
          "metadata": {},
          "execution_count": 69
        }
      ]
    },
    {
      "cell_type": "code",
      "metadata": {
        "colab": {
          "base_uri": "https://localhost:8080/"
        },
        "id": "bjwa3dpWZmPW",
        "outputId": "ff4e1253-44c8-49d1-d4f1-8cc466b5e7c7"
      },
      "source": [
        "mr3 = len(midrisk_fb.axes[0])\n",
        "mr3"
      ],
      "execution_count": null,
      "outputs": [
        {
          "output_type": "execute_result",
          "data": {
            "text/plain": [
              "55"
            ]
          },
          "metadata": {},
          "execution_count": 70
        }
      ]
    },
    {
      "cell_type": "code",
      "metadata": {
        "colab": {
          "base_uri": "https://localhost:8080/"
        },
        "id": "9t3JoBLuZqCW",
        "outputId": "2b9b2332-91b4-43cf-8f5d-e67ed16b0913"
      },
      "source": [
        "mr4 = len(midrisk_nflx.axes[0])\n",
        "mr4"
      ],
      "execution_count": null,
      "outputs": [
        {
          "output_type": "execute_result",
          "data": {
            "text/plain": [
              "99"
            ]
          },
          "metadata": {},
          "execution_count": 71
        }
      ]
    },
    {
      "cell_type": "code",
      "metadata": {
        "colab": {
          "base_uri": "https://localhost:8080/"
        },
        "id": "H7uzUoqfZtzv",
        "outputId": "ff7b2c88-85ca-44ad-aa78-531abe7d3bff"
      },
      "source": [
        "mr5 = len(midrisk_goog.axes[0])\n",
        "mr5"
      ],
      "execution_count": null,
      "outputs": [
        {
          "output_type": "execute_result",
          "data": {
            "text/plain": [
              "21"
            ]
          },
          "metadata": {},
          "execution_count": 72
        }
      ]
    },
    {
      "cell_type": "code",
      "metadata": {
        "colab": {
          "base_uri": "https://localhost:8080/"
        },
        "id": "rCCxrUp2ZyCP",
        "outputId": "5c3e86bc-e0c6-49b4-bbfa-522f42dc4531"
      },
      "source": [
        "hr1 = len(highrisk_aapl.axes[0])\n",
        "hr1"
      ],
      "execution_count": null,
      "outputs": [
        {
          "output_type": "execute_result",
          "data": {
            "text/plain": [
              "5"
            ]
          },
          "metadata": {},
          "execution_count": 73
        }
      ]
    },
    {
      "cell_type": "code",
      "metadata": {
        "colab": {
          "base_uri": "https://localhost:8080/"
        },
        "id": "_hCDyLlrZ5Cy",
        "outputId": "1b714193-742e-4c38-e276-ed6461cce4b6"
      },
      "source": [
        "hr2 = len(highrisk_amzn.axes[0])\n",
        "hr2"
      ],
      "execution_count": null,
      "outputs": [
        {
          "output_type": "execute_result",
          "data": {
            "text/plain": [
              "8"
            ]
          },
          "metadata": {},
          "execution_count": 74
        }
      ]
    },
    {
      "cell_type": "code",
      "metadata": {
        "colab": {
          "base_uri": "https://localhost:8080/"
        },
        "id": "DzmLux8uZ8pE",
        "outputId": "856ebf01-c681-4c25-97d7-12408c4e65b8"
      },
      "source": [
        "hr3 = len(highrisk_fb.axes[0])\n",
        "hr3"
      ],
      "execution_count": null,
      "outputs": [
        {
          "output_type": "execute_result",
          "data": {
            "text/plain": [
              "12"
            ]
          },
          "metadata": {},
          "execution_count": 75
        }
      ]
    },
    {
      "cell_type": "code",
      "metadata": {
        "colab": {
          "base_uri": "https://localhost:8080/"
        },
        "id": "Qx19Lbm7aBAQ",
        "outputId": "661c1223-4200-482d-8ea3-cd106c999955"
      },
      "source": [
        "hr4 = len(highrisk_nflx.axes[0])\n",
        "hr4"
      ],
      "execution_count": null,
      "outputs": [
        {
          "output_type": "execute_result",
          "data": {
            "text/plain": [
              "23"
            ]
          },
          "metadata": {},
          "execution_count": 76
        }
      ]
    },
    {
      "cell_type": "code",
      "metadata": {
        "colab": {
          "base_uri": "https://localhost:8080/"
        },
        "id": "nBiKj9o0aE9w",
        "outputId": "1103f62f-469a-46cf-90ae-9c1f3d0c4bd5"
      },
      "source": [
        "hr5 = len(highrisk_goog.axes[0])\n",
        "hr5"
      ],
      "execution_count": null,
      "outputs": [
        {
          "output_type": "execute_result",
          "data": {
            "text/plain": [
              "5"
            ]
          },
          "metadata": {},
          "execution_count": 77
        }
      ]
    },
    {
      "cell_type": "code",
      "metadata": {
        "id": "WT8ZQbNLaO86"
      },
      "source": [
        "prob_aapl = 0\n",
        "prob_amzn = 0\n",
        "prob_fb = 0\n",
        "prob_nflx = 0\n",
        "prob_goog = 0"
      ],
      "execution_count": null,
      "outputs": []
    },
    {
      "cell_type": "code",
      "metadata": {
        "id": "piaDikcJa6yA"
      },
      "source": [
        "if investment == 'low risk':\n",
        "  prob_aapl = lowrisk_aapl[\"cumm_dist\"][lr1-1] - lowrisk_aapl[\"cumm_dist\"][0]\n",
        "  prob_amzn = lowrisk_amzn[\"cumm_dist\"][lr2-1] - lowrisk_amzn[\"cumm_dist\"][0]\n",
        "  prob_fb = lowrisk_fb[\"cumm_dist\"][lr3-1] - lowrisk_fb[\"cumm_dist\"][0]\n",
        "  prob_nflx = lowrisk_nflx[\"cumm_dist\"][lr4-1] - lowrisk_nflx[\"cumm_dist\"][0]\n",
        "  prob_goog = lowrisk_goog[\"cumm_dist\"][lr5-1] - lowrisk_goog[\"cumm_dist\"][0]"
      ],
      "execution_count": null,
      "outputs": []
    },
    {
      "cell_type": "code",
      "metadata": {
        "id": "lfNN2qL6by1r"
      },
      "source": [
        "if investment == 'mid risk':\n",
        "  prob_aapl = midrisk_aapl[\"cumm_dist\"][mr1-1] - midrisk_aapl[\"cumm_dist\"][0]\n",
        "  prob_amzn = midrisk_amzn[\"cumm_dist\"][mr2-1] - midrisk_amzn[\"cumm_dist\"][0]\n",
        "  prob_fb = midrisk_fb[\"cumm_dist\"][mr3-1] - midrisk_fb[\"cumm_dist\"][0]\n",
        "  prob_nflx = midrisk_nflx[\"cumm_dist\"][mr4-1] - midrisk_nflx[\"cumm_dist\"][0]\n",
        "  prob_goog = midrisk_goog[\"cumm_dist\"][mr5-1] - midrisk_goog[\"cumm_dist\"][0]"
      ],
      "execution_count": null,
      "outputs": []
    },
    {
      "cell_type": "code",
      "metadata": {
        "id": "mY99GhpWcCVk"
      },
      "source": [
        "if investment == 'high risk':\n",
        "  prob_aapl = highrisk_aapl[\"cumm_dist\"][hr1-1] - highrisk_aapl[\"cumm_dist\"][0]\n",
        "  prob_amzn = highrisk_amzn[\"cumm_dist\"][hr2-1] - highrisk_amzn[\"cumm_dist\"][0]\n",
        "  prob_fb = highrisk_fb[\"cumm_dist\"][hr3-1] - highrisk_fb[\"cumm_dist\"][0]\n",
        "  prob_nflx = highrisk_nflx[\"cumm_dist\"][hr4-1] - highrisk_nflx[\"cumm_dist\"][0]\n",
        "  prob_goog = highrisk_goog[\"cumm_dist\"][hr5-1] - highrisk_goog[\"cumm_dist\"][0]"
      ],
      "execution_count": null,
      "outputs": []
    },
    {
      "cell_type": "code",
      "metadata": {
        "colab": {
          "base_uri": "https://localhost:8080/"
        },
        "id": "vLcz2uOYdXSM",
        "outputId": "91897734-a1c0-45b0-acee-385ed296c5c1"
      },
      "source": [
        "prob_aapl"
      ],
      "execution_count": null,
      "outputs": [
        {
          "output_type": "execute_result",
          "data": {
            "text/plain": [
              "0.5998389694041868"
            ]
          },
          "metadata": {},
          "execution_count": 82
        }
      ]
    },
    {
      "cell_type": "code",
      "metadata": {
        "colab": {
          "base_uri": "https://localhost:8080/"
        },
        "id": "wo7cbgo6dZuH",
        "outputId": "c0904f97-d10a-4f46-f9ff-1e7315eb19f5"
      },
      "source": [
        "prob_amzn"
      ],
      "execution_count": null,
      "outputs": [
        {
          "output_type": "execute_result",
          "data": {
            "text/plain": [
              "0.6183574879227054"
            ]
          },
          "metadata": {},
          "execution_count": 83
        }
      ]
    },
    {
      "cell_type": "code",
      "metadata": {
        "colab": {
          "base_uri": "https://localhost:8080/"
        },
        "id": "sjwrFaQvdb7a",
        "outputId": "fd9d4cfa-14b6-460d-cf1d-4d1d78ff4b24"
      },
      "source": [
        "prob_fb"
      ],
      "execution_count": null,
      "outputs": [
        {
          "output_type": "execute_result",
          "data": {
            "text/plain": [
              "0.6019254918375889"
            ]
          },
          "metadata": {},
          "execution_count": 84
        }
      ]
    },
    {
      "cell_type": "code",
      "metadata": {
        "colab": {
          "base_uri": "https://localhost:8080/"
        },
        "id": "C4pstcSBdeGS",
        "outputId": "1cefc2fa-079f-400d-8be4-3a7f0951a47c"
      },
      "source": [
        "prob_nflx"
      ],
      "execution_count": null,
      "outputs": [
        {
          "output_type": "execute_result",
          "data": {
            "text/plain": [
              "0.57085346215781"
            ]
          },
          "metadata": {},
          "execution_count": 85
        }
      ]
    },
    {
      "cell_type": "code",
      "metadata": {
        "colab": {
          "base_uri": "https://localhost:8080/"
        },
        "id": "bEvFYwSSdhZb",
        "outputId": "21645265-d989-4854-8d7f-be2e2eed096f"
      },
      "source": [
        "prob_goog"
      ],
      "execution_count": null,
      "outputs": [
        {
          "output_type": "execute_result",
          "data": {
            "text/plain": [
              "0.6247987117552334"
            ]
          },
          "metadata": {},
          "execution_count": 86
        }
      ]
    },
    {
      "cell_type": "markdown",
      "metadata": {
        "id": "Dj9K6U9hQlOe"
      },
      "source": [
        "Thus it can be concluded that google is the safest stock to buy since it has the highest probability of rising in low risk. Thus can be a great long term investment."
      ]
    },
    {
      "cell_type": "markdown",
      "metadata": {
        "id": "x7Nu7KQEKY9b"
      },
      "source": [
        "## 11. Simple Moving Average Stock Trading Strategy :"
      ]
    },
    {
      "cell_type": "code",
      "metadata": {
        "id": "-9olTJbdMIz_"
      },
      "source": [
        "def SMA(data, period = 30, column = 'Close'):\n",
        "  return data[column].rolling(window=period).mean()"
      ],
      "execution_count": null,
      "outputs": []
    },
    {
      "cell_type": "code",
      "metadata": {
        "id": "1gAASLOdM3y2"
      },
      "source": [
        "data_aapl2['SMA'] = SMA(data_aapl2)\n",
        "data_amzn2['SMA'] = SMA(data_amzn2)\n",
        "data_fb2['SMA'] = SMA(data_fb2)\n",
        "data_nflx2['SMA'] = SMA(data_nflx2)\n",
        "data_goog2['SMA'] = SMA(data_goog2)"
      ],
      "execution_count": null,
      "outputs": []
    },
    {
      "cell_type": "code",
      "metadata": {
        "id": "Y12DoAtFNJWI"
      },
      "source": [
        "def strategy(data):\n",
        "  buy = []\n",
        "  sell = []\n",
        "  flag = 0\n",
        "  buy_price = 0\n",
        "  for i in range(0, len(data)):\n",
        "    if data['SMA'][i] > data['Close'][i] and flag == 0:\n",
        "      buy.append(data['Close'][i])\n",
        "      sell.append(np.nan)\n",
        "      buy_price = data['Close'][i]\n",
        "      flag = 1\n",
        "    elif data['SMA'][i] < data['Close'][i] and flag == 1 and buy_price < data['Close'][i]:\n",
        "      sell.append(data['Close'][i])\n",
        "      buy.append(np.nan)\n",
        "      buy_price = 0\n",
        "      flag = 0\n",
        "    else:\n",
        "      sell.append(np.nan)\n",
        "      buy.append(np.nan)\n",
        "  return(buy, sell, buy_price)\n"
      ],
      "execution_count": null,
      "outputs": []
    },
    {
      "cell_type": "code",
      "metadata": {
        "colab": {
          "base_uri": "https://localhost:8080/"
        },
        "id": "D9UyjXsWRIdD",
        "outputId": "8f5b657a-f7cd-4230-9b14-7fa20470321c"
      },
      "source": [
        "strat_aapl = strategy(data_aapl2)\n",
        "data_aapl2['Buy'] = strat_aapl[0]\n",
        "data_aapl2['Sell'] = strat_aapl[1]\n",
        "buyprice_aapl = strat_aapl[2]\n",
        "buyprice_aapl"
      ],
      "execution_count": null,
      "outputs": [
        {
          "output_type": "execute_result",
          "data": {
            "text/plain": [
              "0"
            ]
          },
          "metadata": {},
          "execution_count": 90
        }
      ]
    },
    {
      "cell_type": "code",
      "metadata": {
        "colab": {
          "base_uri": "https://localhost:8080/"
        },
        "id": "ZnUTAxkLo5Yk",
        "outputId": "efcd5d7d-fc71-4821-fa0f-e06e81bb9671"
      },
      "source": [
        "strat_amzn = strategy(data_amzn2)\n",
        "data_amzn2['Buy'] = strat_amzn[0]\n",
        "data_amzn2['Sell'] = strat_amzn[1]\n",
        "buyprice_amzn = strat_amzn[2]\n",
        "buyprice_amzn"
      ],
      "execution_count": null,
      "outputs": [
        {
          "output_type": "execute_result",
          "data": {
            "text/plain": [
              "0"
            ]
          },
          "metadata": {},
          "execution_count": 91
        }
      ]
    },
    {
      "cell_type": "code",
      "metadata": {
        "colab": {
          "base_uri": "https://localhost:8080/"
        },
        "id": "HQNbW__ApDFH",
        "outputId": "9dd6afdd-ee63-4f90-bcd9-199b1ee242dc"
      },
      "source": [
        "strat_fb = strategy(data_fb2)\n",
        "data_fb2['Buy'] = strat_fb[0]\n",
        "data_fb2['Sell'] = strat_fb[1]\n",
        "buyprice_fb = strat_fb[2]\n",
        "buyprice_fb"
      ],
      "execution_count": null,
      "outputs": [
        {
          "output_type": "execute_result",
          "data": {
            "text/plain": [
              "364.7200012207031"
            ]
          },
          "metadata": {},
          "execution_count": 92
        }
      ]
    },
    {
      "cell_type": "code",
      "metadata": {
        "colab": {
          "base_uri": "https://localhost:8080/",
          "height": 513
        },
        "id": "BD9pOGXQSCuo",
        "outputId": "2fb7b5a6-f585-42e0-c3b9-58396d1c1054"
      },
      "source": [
        "plt.figure(figsize=(16, 8))\n",
        "plt.title('Apple close price with Buy and Sell signals')\n",
        "plt.plot(data_aapl2['Close'], alpha = 0.5, label = 'Close')\n",
        "plt.plot(data_aapl2['SMA'], alpha = 0.5, label = 'SMA')\n",
        "plt.scatter(data_aapl2.index, data_aapl2['Buy'], color = 'green', label = 'Buy Signal', marker = '^', alpha = 1)\n",
        "plt.scatter(data_aapl2.index, data_aapl2['Sell'], color = 'red', label = 'Sell Signal', marker = 'v', alpha = 1)\n",
        "plt.xlabel('Date')\n",
        "plt.ylabel('Close Price in USD')\n",
        "plt.show()"
      ],
      "execution_count": null,
      "outputs": [
        {
          "output_type": "display_data",
          "data": {
            "image/png": "[encoded data removed]",
            "text/plain": [
              "<Figure size 1152x576 with 1 Axes>"
            ]
          },
          "metadata": {
            "needs_background": "light"
          }
        }
      ]
    },
    {
      "cell_type": "code",
      "metadata": {
        "colab": {
          "base_uri": "https://localhost:8080/",
          "height": 513
        },
        "id": "-S5rtaM-rMXQ",
        "outputId": "c479c2b3-828a-40e5-ad3b-fb0132d7dfd2"
      },
      "source": [
        "plt.figure(figsize=(16, 8))\n",
        "plt.title('Amazon close price with Buy and Sell signals')\n",
        "plt.plot(data_amzn2['Close'], alpha = 0.5, label = 'Close')\n",
        "plt.plot(data_amzn2['SMA'], alpha = 0.5, label = 'SMA')\n",
        "plt.scatter(data_amzn2.index, data_amzn2['Buy'], color = 'green', label = 'Buy Signal', marker = '^', alpha = 1)\n",
        "plt.scatter(data_amzn2.index, data_amzn2['Sell'], color = 'red', label = 'Sell Signal', marker = 'v', alpha = 1)\n",
        "plt.xlabel('Date')\n",
        "plt.ylabel('Close Price in USD')\n",
        "plt.show()"
      ],
      "execution_count": null,
      "outputs": [
        {
          "output_type": "display_data",
          "data": {
            "image/png": "[encoded data removed]",
            "text/plain": [
              "<Figure size 1152x576 with 1 Axes>"
            ]
          },
          "metadata": {
            "needs_background": "light"
          }
        }
      ]
    },
    {
      "cell_type": "code",
      "metadata": {
        "colab": {
          "base_uri": "https://localhost:8080/",
          "height": 513
        },
        "id": "rCyD0iQMrWiC",
        "outputId": "8cf36aed-9a9f-442f-a092-3d78236727f7"
      },
      "source": [
        "plt.figure(figsize=(16, 8))\n",
        "plt.title('Facebook close price with Buy and Sell signals')\n",
        "plt.plot(data_fb2['Close'], alpha = 0.5, label = 'Close')\n",
        "plt.plot(data_fb2['SMA'], alpha = 0.5, label = 'SMA')\n",
        "plt.scatter(data_fb2.index, data_fb2['Buy'], color = 'green', label = 'Buy Signal', marker = '^', alpha = 1)\n",
        "plt.scatter(data_fb2.index, data_fb2['Sell'], color = 'red', label = 'Sell Signal', marker = 'v', alpha = 1)\n",
        "plt.xlabel('Date')\n",
        "plt.ylabel('Close Price in USD')\n",
        "plt.show()"
      ],
      "execution_count": null,
      "outputs": [
        {
          "output_type": "display_data",
          "data": {
            "image/png": "[encoded data removed]",
            "text/plain": [
              "<Figure size 1152x576 with 1 Axes>"
            ]
          },
          "metadata": {
            "needs_background": "light"
          }
        }
      ]
    },
    {
      "cell_type": "markdown",
      "metadata": {
        "id": "NAibw_WoY7EO"
      },
      "source": [
        "## 12. Trading Strategy - best months to invest in :"
      ]
    },
    {
      "cell_type": "code",
      "metadata": {
        "id": "IhJOGmM3TsCE"
      },
      "source": [
        "Jan = []\n",
        "Feb = []\n",
        "Mar = []\n",
        "Apr = []\n",
        "May = []\n",
        "Jun = []\n",
        "Jul = []\n",
        "Aug = []\n",
        "Sep = []\n",
        "Oct = []\n",
        "Nov = []\n",
        "Dec = []\n",
        "\n",
        "def get_returns(month, returns):\n",
        "  if month == '01':\n",
        "    Jan.append(float(returns))\n",
        "  elif month == '02':\n",
        "    Feb.append(float(returns))\n",
        "  elif month == '03':\n",
        "    Mar.append(float(returns))\n",
        "  elif month == '04':\n",
        "    Apr.append(float(returns))\n",
        "  elif month == '05':\n",
        "    May.append(float(returns))\n",
        "  elif month == '06':\n",
        "    Jun.append(float(returns))\n",
        "  elif month == '07':\n",
        "    Jul.append(float(returns))\n",
        "  elif month == '08':\n",
        "    Aug.append(float(returns))\n",
        "  elif month == '09':\n",
        "    Sep.append(float(returns))\n",
        "  elif month == '10':\n",
        "    Oct.append(float(returns))\n",
        "  elif month == '11':\n",
        "    Nov.append(float(returns))\n",
        "  elif month == '12':\n",
        "    Dec.append(float(returns))\n",
        "  else:\n",
        "    print('Wrong month input')"
      ],
      "execution_count": null,
      "outputs": []
    },
    {
      "cell_type": "code",
      "metadata": {
        "colab": {
          "base_uri": "https://localhost:8080/",
          "height": 450
        },
        "id": "sTR_okGaeTZs",
        "outputId": "5be03da3-e696-4cd4-de42-6fc57b3f8591"
      },
      "source": [
        "DSR_amzn = data_amzn3['Close'].pct_change(1)\n",
        "data_amzn3['DSR'] = DSR_amzn\n",
        "data_amzn3"
      ],
      "execution_count": null,
      "outputs": [
        {
          "output_type": "execute_result",
          "data": {
            "text/html": [
              "<div>\n",
              "<style scoped>\n",
              "    .dataframe tbody tr th:only-of-type {\n",
              "        vertical-align: middle;\n",
              "    }\n",
              "\n",
              "    .dataframe tbody tr th {\n",
              "        vertical-align: top;\n",
              "    }\n",
              "\n",
              "    .dataframe thead th {\n",
              "        text-align: right;\n",
              "    }\n",
              "</style>\n",
              "<table border=\"1\" class=\"dataframe\">\n",
              "  <thead>\n",
              "    <tr style=\"text-align: right;\">\n",
              "      <th></th>\n",
              "      <th>Close</th>\n",
              "      <th>DSR</th>\n",
              "    </tr>\n",
              "    <tr>\n",
              "      <th>Date</th>\n",
              "      <th></th>\n",
              "      <th></th>\n",
              "    </tr>\n",
              "  </thead>\n",
              "  <tbody>\n",
              "    <tr>\n",
              "      <th>2012-01-03</th>\n",
              "      <td>14.686786</td>\n",
              "      <td>NaN</td>\n",
              "    </tr>\n",
              "    <tr>\n",
              "      <th>2012-01-04</th>\n",
              "      <td>14.765714</td>\n",
              "      <td>0.005374</td>\n",
              "    </tr>\n",
              "    <tr>\n",
              "      <th>2012-01-05</th>\n",
              "      <td>14.929643</td>\n",
              "      <td>0.011102</td>\n",
              "    </tr>\n",
              "    <tr>\n",
              "      <th>2012-01-06</th>\n",
              "      <td>15.085714</td>\n",
              "      <td>0.010454</td>\n",
              "    </tr>\n",
              "    <tr>\n",
              "      <th>2012-01-09</th>\n",
              "      <td>15.061786</td>\n",
              "      <td>-0.001586</td>\n",
              "    </tr>\n",
              "    <tr>\n",
              "      <th>...</th>\n",
              "      <td>...</td>\n",
              "      <td>...</td>\n",
              "    </tr>\n",
              "    <tr>\n",
              "      <th>2021-11-08</th>\n",
              "      <td>150.440002</td>\n",
              "      <td>-0.005553</td>\n",
              "    </tr>\n",
              "    <tr>\n",
              "      <th>2021-11-09</th>\n",
              "      <td>150.809998</td>\n",
              "      <td>0.002459</td>\n",
              "    </tr>\n",
              "    <tr>\n",
              "      <th>2021-11-10</th>\n",
              "      <td>147.919998</td>\n",
              "      <td>-0.019163</td>\n",
              "    </tr>\n",
              "    <tr>\n",
              "      <th>2021-11-11</th>\n",
              "      <td>147.869995</td>\n",
              "      <td>-0.000338</td>\n",
              "    </tr>\n",
              "    <tr>\n",
              "      <th>2021-11-12</th>\n",
              "      <td>149.990005</td>\n",
              "      <td>0.014337</td>\n",
              "    </tr>\n",
              "  </tbody>\n",
              "</table>\n",
              "<p>2484 rows × 2 columns</p>\n",
              "</div>"
            ],
            "text/plain": [
              "                 Close       DSR\n",
              "Date                            \n",
              "2012-01-03   14.686786       NaN\n",
              "2012-01-04   14.765714  0.005374\n",
              "2012-01-05   14.929643  0.011102\n",
              "2012-01-06   15.085714  0.010454\n",
              "2012-01-09   15.061786 -0.001586\n",
              "...                ...       ...\n",
              "2021-11-08  150.440002 -0.005553\n",
              "2021-11-09  150.809998  0.002459\n",
              "2021-11-10  147.919998 -0.019163\n",
              "2021-11-11  147.869995 -0.000338\n",
              "2021-11-12  149.990005  0.014337\n",
              "\n",
              "[2484 rows x 2 columns]"
            ]
          },
          "metadata": {},
          "execution_count": 97
        }
      ]
    },
    {
      "cell_type": "code",
      "metadata": {
        "colab": {
          "base_uri": "https://localhost:8080/",
          "height": 450
        },
        "id": "1jc2WYdtfO9o",
        "outputId": "ae4bf664-f7f4-4f2f-8716-03a6bacfd2f7"
      },
      "source": [
        "data_amzn3 = data_amzn3[1:]\n",
        "data_amzn3"
      ],
      "execution_count": null,
      "outputs": [
        {
          "output_type": "execute_result",
          "data": {
            "text/html": [
              "<div>\n",
              "<style scoped>\n",
              "    .dataframe tbody tr th:only-of-type {\n",
              "        vertical-align: middle;\n",
              "    }\n",
              "\n",
              "    .dataframe tbody tr th {\n",
              "        vertical-align: top;\n",
              "    }\n",
              "\n",
              "    .dataframe thead th {\n",
              "        text-align: right;\n",
              "    }\n",
              "</style>\n",
              "<table border=\"1\" class=\"dataframe\">\n",
              "  <thead>\n",
              "    <tr style=\"text-align: right;\">\n",
              "      <th></th>\n",
              "      <th>Close</th>\n",
              "      <th>DSR</th>\n",
              "    </tr>\n",
              "    <tr>\n",
              "      <th>Date</th>\n",
              "      <th></th>\n",
              "      <th></th>\n",
              "    </tr>\n",
              "  </thead>\n",
              "  <tbody>\n",
              "    <tr>\n",
              "      <th>2012-01-04</th>\n",
              "      <td>14.765714</td>\n",
              "      <td>0.005374</td>\n",
              "    </tr>\n",
              "    <tr>\n",
              "      <th>2012-01-05</th>\n",
              "      <td>14.929643</td>\n",
              "      <td>0.011102</td>\n",
              "    </tr>\n",
              "    <tr>\n",
              "      <th>2012-01-06</th>\n",
              "      <td>15.085714</td>\n",
              "      <td>0.010454</td>\n",
              "    </tr>\n",
              "    <tr>\n",
              "      <th>2012-01-09</th>\n",
              "      <td>15.061786</td>\n",
              "      <td>-0.001586</td>\n",
              "    </tr>\n",
              "    <tr>\n",
              "      <th>2012-01-10</th>\n",
              "      <td>15.115714</td>\n",
              "      <td>0.003580</td>\n",
              "    </tr>\n",
              "    <tr>\n",
              "      <th>...</th>\n",
              "      <td>...</td>\n",
              "      <td>...</td>\n",
              "    </tr>\n",
              "    <tr>\n",
              "      <th>2021-11-08</th>\n",
              "      <td>150.440002</td>\n",
              "      <td>-0.005553</td>\n",
              "    </tr>\n",
              "    <tr>\n",
              "      <th>2021-11-09</th>\n",
              "      <td>150.809998</td>\n",
              "      <td>0.002459</td>\n",
              "    </tr>\n",
              "    <tr>\n",
              "      <th>2021-11-10</th>\n",
              "      <td>147.919998</td>\n",
              "      <td>-0.019163</td>\n",
              "    </tr>\n",
              "    <tr>\n",
              "      <th>2021-11-11</th>\n",
              "      <td>147.869995</td>\n",
              "      <td>-0.000338</td>\n",
              "    </tr>\n",
              "    <tr>\n",
              "      <th>2021-11-12</th>\n",
              "      <td>149.990005</td>\n",
              "      <td>0.014337</td>\n",
              "    </tr>\n",
              "  </tbody>\n",
              "</table>\n",
              "<p>2483 rows × 2 columns</p>\n",
              "</div>"
            ],
            "text/plain": [
              "                 Close       DSR\n",
              "Date                            \n",
              "2012-01-04   14.765714  0.005374\n",
              "2012-01-05   14.929643  0.011102\n",
              "2012-01-06   15.085714  0.010454\n",
              "2012-01-09   15.061786 -0.001586\n",
              "2012-01-10   15.115714  0.003580\n",
              "...                ...       ...\n",
              "2021-11-08  150.440002 -0.005553\n",
              "2021-11-09  150.809998  0.002459\n",
              "2021-11-10  147.919998 -0.019163\n",
              "2021-11-11  147.869995 -0.000338\n",
              "2021-11-12  149.990005  0.014337\n",
              "\n",
              "[2483 rows x 2 columns]"
            ]
          },
          "metadata": {},
          "execution_count": 98
        }
      ]
    },
    {
      "cell_type": "code",
      "metadata": {
        "id": "EOu9U3uMgc3Y"
      },
      "source": [
        "for i in range(0, len(data_amzn3)):\n",
        "  data_amzn3_date = str(data_amzn3.index[i])\n",
        "  data_amzn3_return = data_amzn3['DSR'][i]\n",
        "  data_amzn3_month = data_amzn3_date.split('-')[1]\n",
        "  get_returns(data_amzn3_month, data_amzn3_return)"
      ],
      "execution_count": null,
      "outputs": []
    },
    {
      "cell_type": "code",
      "metadata": {
        "id": "eRxoutWxhxeu"
      },
      "source": [
        "def AVG(month):\n",
        "  return [sum(month)/len(month)]"
      ],
      "execution_count": null,
      "outputs": []
    },
    {
      "cell_type": "code",
      "metadata": {
        "id": "NlXLNVDeh_NU",
        "colab": {
          "base_uri": "https://localhost:8080/",
          "height": 421
        },
        "outputId": "6aa80f5f-f787-4c34-a019-454378d4d92d"
      },
      "source": [
        "data_amzn3_avg = pd.DataFrame()\n",
        "data_amzn3_avg['AVG'] = AVG(Jan) + AVG(Feb) + AVG(Mar) + AVG(Apr) + AVG(May) + AVG(Jun) + AVG(Jul) + AVG(Aug) + AVG(Sep) + AVG(Oct) + AVG(Nov) + AVG(Dec)\n",
        "data_amzn3_avg = data_amzn3_avg.set_index(data_amzn3_avg.index + 1)\n",
        "data_amzn3_avg = data_amzn3_avg * 100\n",
        "data_amzn3_avg"
      ],
      "execution_count": null,
      "outputs": [
        {
          "output_type": "execute_result",
          "data": {
            "text/html": [
              "<div>\n",
              "<style scoped>\n",
              "    .dataframe tbody tr th:only-of-type {\n",
              "        vertical-align: middle;\n",
              "    }\n",
              "\n",
              "    .dataframe tbody tr th {\n",
              "        vertical-align: top;\n",
              "    }\n",
              "\n",
              "    .dataframe thead th {\n",
              "        text-align: right;\n",
              "    }\n",
              "</style>\n",
              "<table border=\"1\" class=\"dataframe\">\n",
              "  <thead>\n",
              "    <tr style=\"text-align: right;\">\n",
              "      <th></th>\n",
              "      <th>AVG</th>\n",
              "    </tr>\n",
              "  </thead>\n",
              "  <tbody>\n",
              "    <tr>\n",
              "      <th>1</th>\n",
              "      <td>0.002872</td>\n",
              "    </tr>\n",
              "    <tr>\n",
              "      <th>2</th>\n",
              "      <td>0.164281</td>\n",
              "    </tr>\n",
              "    <tr>\n",
              "      <th>3</th>\n",
              "      <td>0.134534</td>\n",
              "    </tr>\n",
              "    <tr>\n",
              "      <th>4</th>\n",
              "      <td>0.105987</td>\n",
              "    </tr>\n",
              "    <tr>\n",
              "      <th>5</th>\n",
              "      <td>0.129750</td>\n",
              "    </tr>\n",
              "    <tr>\n",
              "      <th>6</th>\n",
              "      <td>0.062843</td>\n",
              "    </tr>\n",
              "    <tr>\n",
              "      <th>7</th>\n",
              "      <td>0.296917</td>\n",
              "    </tr>\n",
              "    <tr>\n",
              "      <th>8</th>\n",
              "      <td>0.314790</td>\n",
              "    </tr>\n",
              "    <tr>\n",
              "      <th>9</th>\n",
              "      <td>-0.067700</td>\n",
              "    </tr>\n",
              "    <tr>\n",
              "      <th>10</th>\n",
              "      <td>0.145928</td>\n",
              "    </tr>\n",
              "    <tr>\n",
              "      <th>11</th>\n",
              "      <td>0.055337</td>\n",
              "    </tr>\n",
              "    <tr>\n",
              "      <th>12</th>\n",
              "      <td>-0.074893</td>\n",
              "    </tr>\n",
              "  </tbody>\n",
              "</table>\n",
              "</div>"
            ],
            "text/plain": [
              "         AVG\n",
              "1   0.002872\n",
              "2   0.164281\n",
              "3   0.134534\n",
              "4   0.105987\n",
              "5   0.129750\n",
              "6   0.062843\n",
              "7   0.296917\n",
              "8   0.314790\n",
              "9  -0.067700\n",
              "10  0.145928\n",
              "11  0.055337\n",
              "12 -0.074893"
            ]
          },
          "metadata": {},
          "execution_count": 101
        }
      ]
    },
    {
      "cell_type": "code",
      "metadata": {
        "colab": {
          "base_uri": "https://localhost:8080/",
          "height": 283
        },
        "id": "QRIYMyEajQPW",
        "outputId": "39e4753f-dbf2-4aa2-d39a-901b724970b0"
      },
      "source": [
        "data_amzn3_avg.plot.bar()"
      ],
      "execution_count": null,
      "outputs": [
        {
          "output_type": "execute_result",
          "data": {
            "text/plain": [
              "<matplotlib.axes._subplots.AxesSubplot at 0x7f322628b3d0>"
            ]
          },
          "metadata": {},
          "execution_count": 102
        },
        {
          "output_type": "display_data",
          "data": {
            "image/png": "[encoded data removed]",
            "text/plain": [
              "<Figure size 432x288 with 1 Axes>"
            ]
          },
          "metadata": {
            "needs_background": "light"
          }
        }
      ]
    },
    {
      "cell_type": "code",
      "metadata": {
        "id": "fs0YQc8UjbDo",
        "colab": {
          "base_uri": "https://localhost:8080/",
          "height": 421
        },
        "outputId": "b56ef9ae-39b5-4a57-8992-ab201214203f"
      },
      "source": [
        "DSR_aapl = data_aapl3['Close'].pct_change(1)\n",
        "data_aapl3['DSR'] = DSR_aapl\n",
        "data_aapl3 = data_aapl3[1:]\n",
        "for i in range(0, len(data_aapl3)):\n",
        "  data_aapl3_date = str(data_aapl3.index[i])\n",
        "  data_aapl3_return = data_aapl3['DSR'][i]\n",
        "  data_aapl3_month = data_aapl3_date.split('-')[1]\n",
        "  get_returns(data_aapl3_month, data_aapl3_return)\n",
        "data_aapl3_avg = pd.DataFrame()\n",
        "data_aapl3_avg['AVG'] = AVG(Jan) + AVG(Feb) + AVG(Mar) + AVG(Apr) + AVG(May) + AVG(Jun) + AVG(Jul) + AVG(Aug) + AVG(Sep) + AVG(Oct) + AVG(Nov) + AVG(Dec)\n",
        "data_aapl3_avg = data_aapl3_avg.set_index(data_aapl3_avg.index + 1)\n",
        "data_aapl3_avg = data_aapl3_avg * 100\n",
        "data_aapl3_avg"
      ],
      "execution_count": null,
      "outputs": [
        {
          "output_type": "execute_result",
          "data": {
            "text/html": [
              "<div>\n",
              "<style scoped>\n",
              "    .dataframe tbody tr th:only-of-type {\n",
              "        vertical-align: middle;\n",
              "    }\n",
              "\n",
              "    .dataframe tbody tr th {\n",
              "        vertical-align: top;\n",
              "    }\n",
              "\n",
              "    .dataframe thead th {\n",
              "        text-align: right;\n",
              "    }\n",
              "</style>\n",
              "<table border=\"1\" class=\"dataframe\">\n",
              "  <thead>\n",
              "    <tr style=\"text-align: right;\">\n",
              "      <th></th>\n",
              "      <th>AVG</th>\n",
              "    </tr>\n",
              "  </thead>\n",
              "  <tbody>\n",
              "    <tr>\n",
              "      <th>1</th>\n",
              "      <td>0.002872</td>\n",
              "    </tr>\n",
              "    <tr>\n",
              "      <th>2</th>\n",
              "      <td>0.164281</td>\n",
              "    </tr>\n",
              "    <tr>\n",
              "      <th>3</th>\n",
              "      <td>0.134534</td>\n",
              "    </tr>\n",
              "    <tr>\n",
              "      <th>4</th>\n",
              "      <td>0.105987</td>\n",
              "    </tr>\n",
              "    <tr>\n",
              "      <th>5</th>\n",
              "      <td>0.129750</td>\n",
              "    </tr>\n",
              "    <tr>\n",
              "      <th>6</th>\n",
              "      <td>0.062843</td>\n",
              "    </tr>\n",
              "    <tr>\n",
              "      <th>7</th>\n",
              "      <td>0.296917</td>\n",
              "    </tr>\n",
              "    <tr>\n",
              "      <th>8</th>\n",
              "      <td>0.314790</td>\n",
              "    </tr>\n",
              "    <tr>\n",
              "      <th>9</th>\n",
              "      <td>-0.067700</td>\n",
              "    </tr>\n",
              "    <tr>\n",
              "      <th>10</th>\n",
              "      <td>0.145928</td>\n",
              "    </tr>\n",
              "    <tr>\n",
              "      <th>11</th>\n",
              "      <td>0.055337</td>\n",
              "    </tr>\n",
              "    <tr>\n",
              "      <th>12</th>\n",
              "      <td>-0.074893</td>\n",
              "    </tr>\n",
              "  </tbody>\n",
              "</table>\n",
              "</div>"
            ],
            "text/plain": [
              "         AVG\n",
              "1   0.002872\n",
              "2   0.164281\n",
              "3   0.134534\n",
              "4   0.105987\n",
              "5   0.129750\n",
              "6   0.062843\n",
              "7   0.296917\n",
              "8   0.314790\n",
              "9  -0.067700\n",
              "10  0.145928\n",
              "11  0.055337\n",
              "12 -0.074893"
            ]
          },
          "metadata": {},
          "execution_count": 103
        }
      ]
    },
    {
      "cell_type": "code",
      "metadata": {
        "colab": {
          "base_uri": "https://localhost:8080/",
          "height": 283
        },
        "id": "ax_fR5rJsr0t",
        "outputId": "103d2f8f-435c-4725-e83c-72e28e33e829"
      },
      "source": [
        "data_aapl3_avg.plot.bar()"
      ],
      "execution_count": null,
      "outputs": [
        {
          "output_type": "execute_result",
          "data": {
            "text/plain": [
              "<matplotlib.axes._subplots.AxesSubplot at 0x7f3226316e90>"
            ]
          },
          "metadata": {},
          "execution_count": 104
        },
        {
          "output_type": "display_data",
          "data": {
            "image/png": "[encoded data removed]",
            "text/plain": [
              "<Figure size 432x288 with 1 Axes>"
            ]
          },
          "metadata": {
            "needs_background": "light"
          }
        }
      ]
    },
    {
      "cell_type": "code",
      "metadata": {
        "colab": {
          "base_uri": "https://localhost:8080/",
          "height": 421
        },
        "id": "581VktpzswNA",
        "outputId": "671cd58a-123c-4e77-e5ae-5da9d3769207"
      },
      "source": [
        "DSR_fb = data_fb3['Close'].pct_change(1)\n",
        "data_fb3['DSR'] = DSR_fb\n",
        "data_fb3 = data_fb3[1:]\n",
        "for i in range(0, len(data_fb3)):\n",
        "  data_fb3_date = str(data_fb3.index[i])\n",
        "  data_fb3_return = data_fb3['DSR'][i]\n",
        "  data_fb3_month = data_fb3_date.split('-')[1]\n",
        "  get_returns(data_fb3_month, data_fb3_return)\n",
        "data_fb3_avg = pd.DataFrame()\n",
        "data_fb3_avg['AVG'] = AVG(Jan) + AVG(Feb) + AVG(Mar) + AVG(Apr) + AVG(May) + AVG(Jun) + AVG(Jul) + AVG(Aug) + AVG(Sep) + AVG(Oct) + AVG(Nov) + AVG(Dec)\n",
        "data_fb3_avg = data_fb3_avg.set_index(data_fb3_avg.index + 1)\n",
        "data_fb3_avg = data_fb3_avg * 100\n",
        "data_fb3_avg"
      ],
      "execution_count": null,
      "outputs": [
        {
          "output_type": "execute_result",
          "data": {
            "text/html": [
              "<div>\n",
              "<style scoped>\n",
              "    .dataframe tbody tr th:only-of-type {\n",
              "        vertical-align: middle;\n",
              "    }\n",
              "\n",
              "    .dataframe tbody tr th {\n",
              "        vertical-align: top;\n",
              "    }\n",
              "\n",
              "    .dataframe thead th {\n",
              "        text-align: right;\n",
              "    }\n",
              "</style>\n",
              "<table border=\"1\" class=\"dataframe\">\n",
              "  <thead>\n",
              "    <tr style=\"text-align: right;\">\n",
              "      <th></th>\n",
              "      <th>AVG</th>\n",
              "    </tr>\n",
              "  </thead>\n",
              "  <tbody>\n",
              "    <tr>\n",
              "      <th>1</th>\n",
              "      <td>0.128778</td>\n",
              "    </tr>\n",
              "    <tr>\n",
              "      <th>2</th>\n",
              "      <td>0.093881</td>\n",
              "    </tr>\n",
              "    <tr>\n",
              "      <th>3</th>\n",
              "      <td>0.083524</td>\n",
              "    </tr>\n",
              "    <tr>\n",
              "      <th>4</th>\n",
              "      <td>0.187809</td>\n",
              "    </tr>\n",
              "    <tr>\n",
              "      <th>5</th>\n",
              "      <td>0.066792</td>\n",
              "    </tr>\n",
              "    <tr>\n",
              "      <th>6</th>\n",
              "      <td>0.100132</td>\n",
              "    </tr>\n",
              "    <tr>\n",
              "      <th>7</th>\n",
              "      <td>0.280046</td>\n",
              "    </tr>\n",
              "    <tr>\n",
              "      <th>8</th>\n",
              "      <td>0.235340</td>\n",
              "    </tr>\n",
              "    <tr>\n",
              "      <th>9</th>\n",
              "      <td>-0.018768</td>\n",
              "    </tr>\n",
              "    <tr>\n",
              "      <th>10</th>\n",
              "      <td>0.117600</td>\n",
              "    </tr>\n",
              "    <tr>\n",
              "      <th>11</th>\n",
              "      <td>0.085770</td>\n",
              "    </tr>\n",
              "    <tr>\n",
              "      <th>12</th>\n",
              "      <td>-0.042407</td>\n",
              "    </tr>\n",
              "  </tbody>\n",
              "</table>\n",
              "</div>"
            ],
            "text/plain": [
              "         AVG\n",
              "1   0.128778\n",
              "2   0.093881\n",
              "3   0.083524\n",
              "4   0.187809\n",
              "5   0.066792\n",
              "6   0.100132\n",
              "7   0.280046\n",
              "8   0.235340\n",
              "9  -0.018768\n",
              "10  0.117600\n",
              "11  0.085770\n",
              "12 -0.042407"
            ]
          },
          "metadata": {},
          "execution_count": 105
        }
      ]
    },
    {
      "cell_type": "code",
      "metadata": {
        "colab": {
          "base_uri": "https://localhost:8080/",
          "height": 283
        },
        "id": "_8Z8VZF1tPqv",
        "outputId": "f86424b1-7d38-48b0-fec8-46c53b285ddc"
      },
      "source": [
        "data_fb3_avg.plot.bar()"
      ],
      "execution_count": null,
      "outputs": [
        {
          "output_type": "execute_result",
          "data": {
            "text/plain": [
              "<matplotlib.axes._subplots.AxesSubplot at 0x7f3226167f90>"
            ]
          },
          "metadata": {},
          "execution_count": 106
        },
        {
          "output_type": "display_data",
          "data": {
            "image/png": "[encoded data removed]",
            "text/plain": [
              "<Figure size 432x288 with 1 Axes>"
            ]
          },
          "metadata": {
            "needs_background": "light"
          }
        }
      ]
    },
    {
      "cell_type": "code",
      "metadata": {
        "colab": {
          "base_uri": "https://localhost:8080/",
          "height": 421
        },
        "id": "K_iAWyx4tUw8",
        "outputId": "0b3a3632-1b46-4701-cc8d-d06e79b2a816"
      },
      "source": [
        "DSR_nflx = data_nflx3['Close'].pct_change(1)\n",
        "data_nflx3['DSR'] = DSR_nflx\n",
        "data_nflx3 = data_nflx3[1:]\n",
        "for i in range(0, len(data_nflx3)):\n",
        "  data_nflx3_date = str(data_nflx3.index[i])\n",
        "  data_nflx3_return = data_nflx3['DSR'][i]\n",
        "  data_nflx3_month = data_nflx3_date.split('-')[1]\n",
        "  get_returns(data_nflx3_month, data_nflx3_return)\n",
        "data_nflx3_avg = pd.DataFrame()\n",
        "data_nflx3_avg['AVG'] = AVG(Jan) + AVG(Feb) + AVG(Mar) + AVG(Apr) + AVG(May) + AVG(Jun) + AVG(Jul) + AVG(Aug) + AVG(Sep) + AVG(Oct) + AVG(Nov) + AVG(Dec)\n",
        "data_nflx3_avg = data_nflx3_avg.set_index(data_nflx3_avg.index + 1)\n",
        "data_nflx3_avg = data_nflx3_avg * 100\n",
        "data_nflx3_avg"
      ],
      "execution_count": null,
      "outputs": [
        {
          "output_type": "execute_result",
          "data": {
            "text/html": [
              "<div>\n",
              "<style scoped>\n",
              "    .dataframe tbody tr th:only-of-type {\n",
              "        vertical-align: middle;\n",
              "    }\n",
              "\n",
              "    .dataframe tbody tr th {\n",
              "        vertical-align: top;\n",
              "    }\n",
              "\n",
              "    .dataframe thead th {\n",
              "        text-align: right;\n",
              "    }\n",
              "</style>\n",
              "<table border=\"1\" class=\"dataframe\">\n",
              "  <thead>\n",
              "    <tr style=\"text-align: right;\">\n",
              "      <th></th>\n",
              "      <th>AVG</th>\n",
              "    </tr>\n",
              "  </thead>\n",
              "  <tbody>\n",
              "    <tr>\n",
              "      <th>1</th>\n",
              "      <td>0.378535</td>\n",
              "    </tr>\n",
              "    <tr>\n",
              "      <th>2</th>\n",
              "      <td>0.134612</td>\n",
              "    </tr>\n",
              "    <tr>\n",
              "      <th>3</th>\n",
              "      <td>0.048001</td>\n",
              "    </tr>\n",
              "    <tr>\n",
              "      <th>4</th>\n",
              "      <td>0.162883</td>\n",
              "    </tr>\n",
              "    <tr>\n",
              "      <th>5</th>\n",
              "      <td>0.104623</td>\n",
              "    </tr>\n",
              "    <tr>\n",
              "      <th>6</th>\n",
              "      <td>0.105128</td>\n",
              "    </tr>\n",
              "    <tr>\n",
              "      <th>7</th>\n",
              "      <td>0.236189</td>\n",
              "    </tr>\n",
              "    <tr>\n",
              "      <th>8</th>\n",
              "      <td>0.241959</td>\n",
              "    </tr>\n",
              "    <tr>\n",
              "      <th>9</th>\n",
              "      <td>-0.030367</td>\n",
              "    </tr>\n",
              "    <tr>\n",
              "      <th>10</th>\n",
              "      <td>0.171961</td>\n",
              "    </tr>\n",
              "    <tr>\n",
              "      <th>11</th>\n",
              "      <td>0.083663</td>\n",
              "    </tr>\n",
              "    <tr>\n",
              "      <th>12</th>\n",
              "      <td>-0.001011</td>\n",
              "    </tr>\n",
              "  </tbody>\n",
              "</table>\n",
              "</div>"
            ],
            "text/plain": [
              "         AVG\n",
              "1   0.378535\n",
              "2   0.134612\n",
              "3   0.048001\n",
              "4   0.162883\n",
              "5   0.104623\n",
              "6   0.105128\n",
              "7   0.236189\n",
              "8   0.241959\n",
              "9  -0.030367\n",
              "10  0.171961\n",
              "11  0.083663\n",
              "12 -0.001011"
            ]
          },
          "metadata": {},
          "execution_count": 107
        }
      ]
    },
    {
      "cell_type": "code",
      "metadata": {
        "colab": {
          "base_uri": "https://localhost:8080/",
          "height": 283
        },
        "id": "9bnuQOLTtxQM",
        "outputId": "9eacb23d-8815-4411-ef49-712c00e2b0fb"
      },
      "source": [
        "data_nflx3_avg.plot.bar()"
      ],
      "execution_count": null,
      "outputs": [
        {
          "output_type": "execute_result",
          "data": {
            "text/plain": [
              "<matplotlib.axes._subplots.AxesSubplot at 0x7f32260ad9d0>"
            ]
          },
          "metadata": {},
          "execution_count": 108
        },
        {
          "output_type": "display_data",
          "data": {
            "image/png": "[encoded data removed]",
            "text/plain": [
              "<Figure size 432x288 with 1 Axes>"
            ]
          },
          "metadata": {
            "needs_background": "light"
          }
        }
      ]
    },
    {
      "cell_type": "code",
      "metadata": {
        "colab": {
          "base_uri": "https://localhost:8080/",
          "height": 421
        },
        "id": "NvLQ-f3-tzsI",
        "outputId": "1d4d0699-4d71-495d-91f8-e3e534e9998b"
      },
      "source": [
        "DSR_goog = data_goog3['Close'].pct_change(1)\n",
        "data_goog3['DSR'] = DSR_goog\n",
        "data_goog3 = data_goog3[1:]\n",
        "for i in range(0, len(data_goog3)):\n",
        "  data_goog3_date = str(data_goog3.index[i])\n",
        "  data_goog3_return = data_goog3['DSR'][i]\n",
        "  data_goog3_month = data_goog3_date.split('-')[1]\n",
        "  get_returns(data_goog3_month, data_goog3_return)\n",
        "data_goog3_avg = pd.DataFrame()\n",
        "data_goog3_avg['AVG'] = AVG(Jan) + AVG(Feb) + AVG(Mar) + AVG(Apr) + AVG(May) + AVG(Jun) + AVG(Jul) + AVG(Aug) + AVG(Sep) + AVG(Oct) + AVG(Nov) + AVG(Dec)\n",
        "data_goog3_avg = data_goog3_avg.set_index(data_goog3_avg.index + 1)\n",
        "data_goog3_avg = data_goog3_avg * 100\n",
        "data_goog3_avg"
      ],
      "execution_count": null,
      "outputs": [
        {
          "output_type": "execute_result",
          "data": {
            "text/html": [
              "<div>\n",
              "<style scoped>\n",
              "    .dataframe tbody tr th:only-of-type {\n",
              "        vertical-align: middle;\n",
              "    }\n",
              "\n",
              "    .dataframe tbody tr th {\n",
              "        vertical-align: top;\n",
              "    }\n",
              "\n",
              "    .dataframe thead th {\n",
              "        text-align: right;\n",
              "    }\n",
              "</style>\n",
              "<table border=\"1\" class=\"dataframe\">\n",
              "  <thead>\n",
              "    <tr style=\"text-align: right;\">\n",
              "      <th></th>\n",
              "      <th>AVG</th>\n",
              "    </tr>\n",
              "  </thead>\n",
              "  <tbody>\n",
              "    <tr>\n",
              "      <th>1</th>\n",
              "      <td>0.335737</td>\n",
              "    </tr>\n",
              "    <tr>\n",
              "      <th>2</th>\n",
              "      <td>0.125218</td>\n",
              "    </tr>\n",
              "    <tr>\n",
              "      <th>3</th>\n",
              "      <td>0.028336</td>\n",
              "    </tr>\n",
              "    <tr>\n",
              "      <th>4</th>\n",
              "      <td>0.155016</td>\n",
              "    </tr>\n",
              "    <tr>\n",
              "      <th>5</th>\n",
              "      <td>0.107757</td>\n",
              "    </tr>\n",
              "    <tr>\n",
              "      <th>6</th>\n",
              "      <td>0.079030</td>\n",
              "    </tr>\n",
              "    <tr>\n",
              "      <th>7</th>\n",
              "      <td>0.260878</td>\n",
              "    </tr>\n",
              "    <tr>\n",
              "      <th>8</th>\n",
              "      <td>0.210940</td>\n",
              "    </tr>\n",
              "    <tr>\n",
              "      <th>9</th>\n",
              "      <td>-0.025571</td>\n",
              "    </tr>\n",
              "    <tr>\n",
              "      <th>10</th>\n",
              "      <td>0.176209</td>\n",
              "    </tr>\n",
              "    <tr>\n",
              "      <th>11</th>\n",
              "      <td>0.087190</td>\n",
              "    </tr>\n",
              "    <tr>\n",
              "      <th>12</th>\n",
              "      <td>0.007901</td>\n",
              "    </tr>\n",
              "  </tbody>\n",
              "</table>\n",
              "</div>"
            ],
            "text/plain": [
              "         AVG\n",
              "1   0.335737\n",
              "2   0.125218\n",
              "3   0.028336\n",
              "4   0.155016\n",
              "5   0.107757\n",
              "6   0.079030\n",
              "7   0.260878\n",
              "8   0.210940\n",
              "9  -0.025571\n",
              "10  0.176209\n",
              "11  0.087190\n",
              "12  0.007901"
            ]
          },
          "metadata": {},
          "execution_count": 109
        }
      ]
    },
    {
      "cell_type": "code",
      "metadata": {
        "id": "xF0-VHFOug7X",
        "colab": {
          "base_uri": "https://localhost:8080/",
          "height": 284
        },
        "outputId": "ad82a527-3176-4491-ba8e-eea1460f7b12"
      },
      "source": [
        "data_goog3_avg.plot.bar()"
      ],
      "execution_count": null,
      "outputs": [
        {
          "output_type": "execute_result",
          "data": {
            "text/plain": [
              "<matplotlib.axes._subplots.AxesSubplot at 0x7f322601c1d0>"
            ]
          },
          "metadata": {},
          "execution_count": 110
        },
        {
          "output_type": "display_data",
          "data": {
            "image/png": "[encoded data removed]",
            "text/plain": [
              "<Figure size 432x288 with 1 Axes>"
            ]
          },
          "metadata": {
            "needs_background": "light"
          }
        }
      ]
    },
    {
      "cell_type": "markdown",
      "metadata": {
        "id": "cJCH-6Ku7K6c"
      },
      "source": [
        "## 13. Stock Sentiment Analysis:"
      ]
    },
    {
      "cell_type": "code",
      "metadata": {
        "colab": {
          "base_uri": "https://localhost:8080/"
        },
        "id": "TfR2Qr2P7iyP",
        "outputId": "e5bca890-230b-4bcf-f134-3579effd9831"
      },
      "source": [
        "!pip install vaderSentiment"
      ],
      "execution_count": null,
      "outputs": [
        {
          "output_type": "stream",
          "name": "stdout",
          "text": [
            "Requirement already satisfied: vaderSentiment in /usr/local/lib/python3.7/dist-packages (3.3.2)\n",
            "Requirement already satisfied: requests in /usr/local/lib/python3.7/dist-packages (from vaderSentiment) (2.23.0)\n",
            "Requirement already satisfied: idna<3,>=2.5 in /usr/local/lib/python3.7/dist-packages (from requests->vaderSentiment) (2.10)\n",
            "Requirement already satisfied: urllib3!=1.25.0,!=1.25.1,<1.26,>=1.21.1 in /usr/local/lib/python3.7/dist-packages (from requests->vaderSentiment) (1.24.3)\n",
            "Requirement already satisfied: certifi>=2017.4.17 in /usr/local/lib/python3.7/dist-packages (from requests->vaderSentiment) (2021.10.8)\n",
            "Requirement already satisfied: chardet<4,>=3.0.2 in /usr/local/lib/python3.7/dist-packages (from requests->vaderSentiment) (3.0.4)\n"
          ]
        }
      ]
    },
    {
      "cell_type": "code",
      "metadata": {
        "id": "CskrGejm7RMb"
      },
      "source": [
        "from vaderSentiment.vaderSentiment import SentimentIntensityAnalyzer"
      ],
      "execution_count": null,
      "outputs": []
    },
    {
      "cell_type": "code",
      "metadata": {
        "id": "110Yx-6z7qzX"
      },
      "source": [
        "def sentiment_scores(sentence):\n",
        "    sid_obj = SentimentIntensityAnalyzer()\n",
        "    sentiment_dict = sid_obj.polarity_scores(sentence)\n",
        "    print(\"Stock Sentiment is \", sentiment_dict['neg']*100, \"% Negative\")\n",
        "    print(\"Stock Sentiment is \", sentiment_dict['neu']*100, \"% Neutral\")\n",
        "    print(\"Stock Sentiment is \", sentiment_dict['pos']*100, \"% Positive\")\n",
        " \n",
        "    print(\"Stock Sentiment is overall\", end = \" \")\n",
        " \n",
        "    # decide sentiment as positive, negative and neutral\n",
        "    if sentiment_dict['compound'] >= 0.05 :\n",
        "        print(\"Positive\")\n",
        " \n",
        "    elif sentiment_dict['compound'] <= - 0.05 :\n",
        "        print(\"Negative\")\n",
        " \n",
        "    else :\n",
        "        print(\"Neutral\")"
      ],
      "execution_count": null,
      "outputs": []
    },
    {
      "cell_type": "code",
      "metadata": {
        "id": "mHhzQIKl8dOj"
      },
      "source": [
        "sentence = 'Apple is continuing to work on its next set of operating system updates, and the new beta of iOS 15.2 seeded to developers and public beta testers this week includes a number of tweaks and improvements.'"
      ],
      "execution_count": null,
      "outputs": []
    },
    {
      "cell_type": "code",
      "metadata": {
        "colab": {
          "base_uri": "https://localhost:8080/"
        },
        "id": "LKib0B098hrh",
        "outputId": "f75f5c55-1a65-4c73-8a8c-83e1655d0dab"
      },
      "source": [
        "sentiment_scores(sentence)"
      ],
      "execution_count": null,
      "outputs": [
        {
          "output_type": "stream",
          "name": "stdout",
          "text": [
            "Stock Sentiment is  0.0 % Negative\n",
            "Stock Sentiment is  90.4 % Neutral\n",
            "Stock Sentiment is  9.6 % Positive\n",
            "Stock Sentiment is overall Positive\n"
          ]
        }
      ]
    },
    {
      "cell_type": "code",
      "metadata": {
        "id": "ZuyzNEyi82UY"
      },
      "source": [
        "sentence2 = 'Amazon has infused Rs 1,000 crore into its payments unit in India, Amazon Pay, according to regulatory documents.The fresh infusion is expected to help the company compete more aggressively against rivals like PhonePe, Google Pay and Paytm.The shares were allotted to Amazon Corporate Holdings Private Limited and Amazon.com.incs Limited, the documents filed with the corporate affairs ministry and sourced by business intelligence platform Tofler, showed'"
      ],
      "execution_count": null,
      "outputs": []
    },
    {
      "cell_type": "code",
      "metadata": {
        "colab": {
          "base_uri": "https://localhost:8080/"
        },
        "id": "LOg90QUj9Qlh",
        "outputId": "8368e17c-2647-4686-dfa8-4d6cd7925931"
      },
      "source": [
        "sentiment_scores(sentence2)"
      ],
      "execution_count": null,
      "outputs": [
        {
          "output_type": "stream",
          "name": "stdout",
          "text": [
            "Stock Sentiment is  11.600000000000001 % Negative\n",
            "Stock Sentiment is  65.7 % Neutral\n",
            "Stock Sentiment is  22.6 % Positive\n",
            "Stock Sentiment is overall Positive\n"
          ]
        }
      ]
    }
  ]
}